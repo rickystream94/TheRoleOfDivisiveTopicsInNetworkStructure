{
 "cells": [
  {
   "cell_type": "code",
   "execution_count": 104,
   "metadata": {},
   "outputs": [],
   "source": [
    "import snap\n",
    "from snap import TUNGraph\n",
    "import os\n",
    "import sys\n",
    "import operator\n",
    "import pandas as pd\n",
    "import subprocess\n",
    "\n",
    "# Global variables\n",
    "data_dir = \"../data\"\n",
    "N = 89577277\n",
    "L = 434193958"
   ]
  },
  {
   "cell_type": "markdown",
   "metadata": {},
   "source": [
    "# 1. Build MMR Graph\n",
    "Calculating the network metrics doesn't necessarily require including edge metadata in the graph, therefore **SNAP.Py** comes handy in this case. Let's import the MMR data in an **undirected graph** data structure and build the main network.\n",
    "\n",
    "Since SNAP.Py allows inserting vertices with a **node ID**, I don't need to read the `usernames.csv` file, since all IDs from 0 to $(N-1)$ are existing for sure, where $N=89.577.277$. By the other hand, I may read the edges from the `mmr_encoded_final.csv` file and ignore the edge metadata column including the periods array."
   ]
  },
  {
   "cell_type": "code",
   "execution_count": 57,
   "metadata": {},
   "outputs": [],
   "source": [
    "def read_large_file(file_object):\n",
    "    while True:\n",
    "        data = file_object.readline()\n",
    "        if not data:\n",
    "            break\n",
    "        yield data.rstrip('\\n')\n",
    "\n",
    "# We ignore prop for the moment\n",
    "def process_edge_line(line):\n",
    "    source, target, prop = line.split(',')\n",
    "    return int(source), int(target)\n",
    "\n",
    "def build_mmr_graph():\n",
    "    # Create main graph object\n",
    "    graph = TUNGraph.New()\n",
    "\n",
    "    # First add vertices\n",
    "    print \"Adding vertices...\"\n",
    "    for i in xrange(0, N):\n",
    "        graph.AddNode(i)\n",
    "    print \"Done adding vertices, now adding links...\"\n",
    "\n",
    "    # Add links by reading them from MMR data file\n",
    "    with open(os.path.join(data_dir,\"mmr_encoded_final.csv\")) as io:\n",
    "        counter = 0\n",
    "        for line in read_large_file(io):\n",
    "            source, target = process_edge_line(line)\n",
    "            graph.AddEdge(source, target)\n",
    "            counter += 1\n",
    "            if counter % 50000000 == 0:\n",
    "                print \"Added %d links...\" %counter\n",
    "        print \"Done! Total links: %d\" %counter\n",
    "        assert counter == L\n",
    "    return graph"
   ]
  },
  {
   "cell_type": "code",
   "execution_count": 58,
   "metadata": {},
   "outputs": [
    {
     "name": "stdout",
     "output_type": "stream",
     "text": [
      "Adding vertices...\n",
      "Done adding vertices, now adding links...\n",
      "Added 50000000 links...\n",
      "Added 100000000 links...\n",
      "Added 150000000 links...\n",
      "Added 200000000 links...\n",
      "Added 250000000 links...\n",
      "Added 300000000 links...\n",
      "Added 350000000 links...\n",
      "Added 400000000 links...\n",
      "Done! Total links: 434193958\n"
     ]
    }
   ],
   "source": [
    "%%time\n",
    "graph = build_mmr_graph()"
   ]
  },
  {
   "cell_type": "code",
   "execution_count": 65,
   "metadata": {},
   "outputs": [
    {
     "name": "stdout",
     "output_type": "stream",
     "text": [
      "              total        used        free      shared  buff/cache   available\n",
      "Mem:           125G         16G         44G         86M         65G        108G\n",
      "Swap:           63G        256M         63G\n"
     ]
    }
   ],
   "source": [
    "%%bash\n",
    "free -h"
   ]
  },
  {
   "cell_type": "markdown",
   "metadata": {},
   "source": [
    "The whole graph loaded in memory takes *less than 16GB* of RAM, which is significantly uncomparable with NetworkX's performance."
   ]
  },
  {
   "cell_type": "markdown",
   "metadata": {},
   "source": [
    "# 2. Degree Distribution and Node Degrees\n",
    "SNAP.Py comes with a built-in function to calculate the histogram values needed to plot the degree distribution. In order to be able to plot the distribution afterwards (and to avoid re-calculating it) we may save these values to a file, so that they can be conveniently loaded from another notebook. Values are saved in CSV format, such that the first column indicates the $x$-axis value ($k$ = degree), and the second column the $y$-axis value (number of $k$-degree nodes).\n",
    "\n",
    "The degree distribution represents a core feature for network analysis, because it explains what is the probability $p_k$ that, given a random node, it has degree $k$. Therefore one may calculate $p_k$ as: $p_k=\\frac{N_k}{N}$, where $N_k$ is the number of degree-$k$ nodes. Furthermore, $p_k$ determines many network phenomena such as network robustness."
   ]
  },
  {
   "cell_type": "code",
   "execution_count": 69,
   "metadata": {},
   "outputs": [
    {
     "name": "stdout",
     "output_type": "stream",
     "text": [
      "CPU times: user 1.99 s, sys: 0 ns, total: 1.99 s\n",
      "Wall time: 1.99 s\n"
     ]
    }
   ],
   "source": [
    "%%time\n",
    "degree_distribution_filename = \"mmr_degree_distribution.csv\"\n",
    "\n",
    "def calculate_degree_distribution(graph, out_filename):\n",
    "    DegToCntV = snap.TIntPrV()\n",
    "    snap.GetDegCnt(graph, DegToCntV)\n",
    "    with open(os.path.join(data_dir, degree_distribution_filename), \"w\") as out:\n",
    "        for item in DegToCntV:\n",
    "            # Probability has to be normalized\n",
    "            p = item.GetVal2() * 1.0 / N\n",
    "            out.write(\",\".join([str(item.GetVal1()),str(p)]) + \"\\n\")\n",
    "    return DegToCntV\n",
    "\n",
    "DegToCntV = calculate_degree_distribution(graph, degree_distribution_filename)"
   ]
  },
  {
   "cell_type": "markdown",
   "metadata": {},
   "source": [
    "Calculating the degree distribution with SNAP.Py highlights how much it's extremely efficient and performant even with large-scale networks.\n",
    "\n",
    "## 2.1 Usernames with highest $k$"
   ]
  },
  {
   "cell_type": "code",
   "execution_count": 76,
   "metadata": {},
   "outputs": [
    {
     "name": "stdout",
     "output_type": "stream",
     "text": [
      "The node with the highest degree has ID 54790022\n"
     ]
    }
   ],
   "source": [
    "n_id_max_deg = snap.GetMxDegNId(graph)\n",
    "print \"The node with the highest degree has ID %d\" %n_id_max_deg"
   ]
  },
  {
   "cell_type": "code",
   "execution_count": 77,
   "metadata": {},
   "outputs": [
    {
     "name": "stdout",
     "output_type": "stream",
     "text": [
      "cocanomc,54790022\n"
     ]
    }
   ],
   "source": [
    "%%bash\n",
    "../scripts/get_username.sh 54790022"
   ]
  },
  {
   "cell_type": "code",
   "execution_count": 83,
   "metadata": {},
   "outputs": [],
   "source": [
    "InDegV = snap.TIntPrV()\n",
    "snap.GetNodeInDegV(graph, InDegV)\n",
    "node_degrees = [(item.GetVal1(), item.GetVal2()) for item in InDegV]\n",
    "\n",
    "# Sort list by degree\n",
    "node_degrees = sorted(node_degrees, key=operator.itemgetter(1))"
   ]
  },
  {
   "cell_type": "markdown",
   "metadata": {},
   "source": [
    "Let's show who are the top 20 nodes with the highest degree and try to figure out if any of them correspond to any well known Twitter username:"
   ]
  },
  {
   "cell_type": "code",
   "execution_count": 105,
   "metadata": {},
   "outputs": [],
   "source": [
    "data = sorted(node_degrees[-20:], key=operator.itemgetter(1), reverse=True)\n",
    "node_ids = [el[0] for el in data]\n",
    "usernames = []\n",
    "for i in node_ids:\n",
    "    p = subprocess.Popen(['../scripts/get_username.sh', str(i)], stdout=subprocess.PIPE)\n",
    "    output = p.communicate()[0]\n",
    "    usernames.append(output)"
   ]
  },
  {
   "cell_type": "code",
   "execution_count": 108,
   "metadata": {},
   "outputs": [],
   "source": [
    "# Cleanup usernames\n",
    "usernames = [el.split(',')[0] for el in usernames]\n",
    "\n",
    "# Prepare dataframe data\n",
    "data = [[el[0], el[1][0], el[1][1]] for el in zip(usernames, data)]"
   ]
  },
  {
   "cell_type": "code",
   "execution_count": 118,
   "metadata": {},
   "outputs": [
    {
     "data": {
      "text/html": [
       "<div>\n",
       "<style scoped>\n",
       "    .dataframe tbody tr th:only-of-type {\n",
       "        vertical-align: middle;\n",
       "    }\n",
       "\n",
       "    .dataframe tbody tr th {\n",
       "        vertical-align: top;\n",
       "    }\n",
       "\n",
       "    .dataframe thead th {\n",
       "        text-align: right;\n",
       "    }\n",
       "</style>\n",
       "<table border=\"1\" class=\"dataframe\">\n",
       "  <thead>\n",
       "    <tr style=\"text-align: right;\">\n",
       "      <th></th>\n",
       "      <th>Username</th>\n",
       "      <th>Node ID (Encoding)</th>\n",
       "      <th>Degree</th>\n",
       "    </tr>\n",
       "  </thead>\n",
       "  <tbody>\n",
       "    <tr>\n",
       "      <th>0</th>\n",
       "      <td>cocanomc</td>\n",
       "      <td>54790022</td>\n",
       "      <td>41359</td>\n",
       "    </tr>\n",
       "    <tr>\n",
       "      <th>1</th>\n",
       "      <td>telkomsel</td>\n",
       "      <td>61888</td>\n",
       "      <td>33341</td>\n",
       "    </tr>\n",
       "    <tr>\n",
       "      <th>2</th>\n",
       "      <td>stccare</td>\n",
       "      <td>272020</td>\n",
       "      <td>31578</td>\n",
       "    </tr>\n",
       "    <tr>\n",
       "      <th>3</th>\n",
       "      <td>virginmedia</td>\n",
       "      <td>113519</td>\n",
       "      <td>30738</td>\n",
       "    </tr>\n",
       "    <tr>\n",
       "      <th>4</th>\n",
       "      <td>xboxsupport</td>\n",
       "      <td>112622</td>\n",
       "      <td>27853</td>\n",
       "    </tr>\n",
       "    <tr>\n",
       "      <th>5</th>\n",
       "      <td>americanair</td>\n",
       "      <td>38831</td>\n",
       "      <td>25676</td>\n",
       "    </tr>\n",
       "    <tr>\n",
       "      <th>6</th>\n",
       "      <td>atviassist</td>\n",
       "      <td>13925</td>\n",
       "      <td>23270</td>\n",
       "    </tr>\n",
       "    <tr>\n",
       "      <th>7</th>\n",
       "      <td>tesco</td>\n",
       "      <td>34364</td>\n",
       "      <td>20606</td>\n",
       "    </tr>\n",
       "    <tr>\n",
       "      <th>8</th>\n",
       "      <td>btcare</td>\n",
       "      <td>46286</td>\n",
       "      <td>19399</td>\n",
       "    </tr>\n",
       "    <tr>\n",
       "      <th>9</th>\n",
       "      <td>indosatcare</td>\n",
       "      <td>64396</td>\n",
       "      <td>18911</td>\n",
       "    </tr>\n",
       "    <tr>\n",
       "      <th>10</th>\n",
       "      <td>amazonhelp</td>\n",
       "      <td>5513254</td>\n",
       "      <td>17815</td>\n",
       "    </tr>\n",
       "    <tr>\n",
       "      <th>11</th>\n",
       "      <td>erpestar</td>\n",
       "      <td>59012597</td>\n",
       "      <td>17097</td>\n",
       "    </tr>\n",
       "    <tr>\n",
       "      <th>12</th>\n",
       "      <td>tacobell</td>\n",
       "      <td>667666</td>\n",
       "      <td>16651</td>\n",
       "    </tr>\n",
       "    <tr>\n",
       "      <th>13</th>\n",
       "      <td>movistararg</td>\n",
       "      <td>13932</td>\n",
       "      <td>16205</td>\n",
       "    </tr>\n",
       "    <tr>\n",
       "      <th>14</th>\n",
       "      <td>telkomcare</td>\n",
       "      <td>735473</td>\n",
       "      <td>16169</td>\n",
       "    </tr>\n",
       "    <tr>\n",
       "      <th>15</th>\n",
       "      <td>alphabetsuccess</td>\n",
       "      <td>368890</td>\n",
       "      <td>15918</td>\n",
       "    </tr>\n",
       "    <tr>\n",
       "      <th>16</th>\n",
       "      <td>ee</td>\n",
       "      <td>219882</td>\n",
       "      <td>15770</td>\n",
       "    </tr>\n",
       "    <tr>\n",
       "      <th>17</th>\n",
       "      <td>shawnabner</td>\n",
       "      <td>29181</td>\n",
       "      <td>15750</td>\n",
       "    </tr>\n",
       "    <tr>\n",
       "      <th>18</th>\n",
       "      <td>shoutrts</td>\n",
       "      <td>59007420</td>\n",
       "      <td>15579</td>\n",
       "    </tr>\n",
       "    <tr>\n",
       "      <th>19</th>\n",
       "      <td>trafficvalencia</td>\n",
       "      <td>18127</td>\n",
       "      <td>15190</td>\n",
       "    </tr>\n",
       "  </tbody>\n",
       "</table>\n",
       "</div>"
      ],
      "text/plain": [
       "           Username  Node ID (Encoding)  Degree\n",
       "0          cocanomc            54790022   41359\n",
       "1         telkomsel               61888   33341\n",
       "2           stccare              272020   31578\n",
       "3       virginmedia              113519   30738\n",
       "4       xboxsupport              112622   27853\n",
       "5       americanair               38831   25676\n",
       "6        atviassist               13925   23270\n",
       "7             tesco               34364   20606\n",
       "8            btcare               46286   19399\n",
       "9       indosatcare               64396   18911\n",
       "10       amazonhelp             5513254   17815\n",
       "11         erpestar            59012597   17097\n",
       "12         tacobell              667666   16651\n",
       "13      movistararg               13932   16205\n",
       "14       telkomcare              735473   16169\n",
       "15  alphabetsuccess              368890   15918\n",
       "16               ee              219882   15770\n",
       "17       shawnabner               29181   15750\n",
       "18         shoutrts            59007420   15579\n",
       "19  trafficvalencia               18127   15190"
      ]
     },
     "execution_count": 118,
     "metadata": {},
     "output_type": "execute_result"
    }
   ],
   "source": [
    "df = pd.DataFrame(data, columns=[\"Username\", \"Node ID (Encoding)\", \"Degree\"])\n",
    "df"
   ]
  },
  {
   "cell_type": "code",
   "execution_count": null,
   "metadata": {},
   "outputs": [],
   "source": []
  }
 ],
 "metadata": {
  "kernelspec": {
   "display_name": "Python 2",
   "language": "python",
   "name": "python2"
  },
  "language_info": {
   "codemirror_mode": {
    "name": "ipython",
    "version": 2
   },
   "file_extension": ".py",
   "mimetype": "text/x-python",
   "name": "python",
   "nbconvert_exporter": "python",
   "pygments_lexer": "ipython2",
   "version": "2.7.15"
  }
 },
 "nbformat": 4,
 "nbformat_minor": 2
}
