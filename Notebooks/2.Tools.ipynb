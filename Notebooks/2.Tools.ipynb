{
 "cells": [
  {
   "cell_type": "markdown",
   "metadata": {},
   "source": [
    "# Setting up the network analysis tools and working environment\n",
    "## Building MMR network with Python NetworkX\n",
    "In the first place, I took into consideration the Python module NetworkX which turned out to be convenient and easy to use to do network analysis. However, it didn't take long to realize that its flexibility eventually represents a downside in terms of memory consumption. By using the built-in function `read_edgelist()` to read a graph into memory from the previously generated `mmr_encoded.csv` file, I soon realized that this library is not the right one to solve this problem. I had to break the execution, since memory utilization reached a peak of **125GB** while the graph was not even fully loaded.\n",
    "\n",
    "`G = nx.read_edgelist(mmr_encoded_filename, delimiter=',', nodetype=int, data=False)`\n",
    "\n",
    "I ended up realizing that NetworkX is extremely memory inefficient due to the fact that it's fully compiled as a Python module, with all the downsides of using a pure dynamic, untyped language. This makes it unsuitable for medium-to-large networks, in the order of millions of nodes/edges. I started considering some other valid alternatives to do network analysis without the burden of hardcore / low level installation requirements. As of now, I have setup a fully functional working environment with the tools I'm showing below.\n",
    "\n",
    "## [**Graph-Tool**](https://graph-tool.skewed.de/)\n",
    "Graph-Tool is an efficient Python module for manipulation and statistical analysis of graphs (a.k.a. networks). I started considering Graph-Tool a valid alternative and, fascinated by its positive performance benchmarks compared to NetworkX, I tried to install it by ***building it from source***, although users were already warned about it as being extremely cumbersome to install. Unluckily, this turned out to be true: Graph-Tool is written in pure C++, and provides a wrapper for Python. Due to its nature, therefore, it requires the user to manually install all the required dependencies, and follow the `configure / make / make install` pattern, typical of the C++ libraries. I have spent two full days trying to successfully compile and install it, but I eventually reached a dead-end. Importing the library at run-time fails due to (probably) some compilation issues with some of the dependencies (Boost libraries). After several attempts with upgrading/downgrading multiple dependencies and tweaking some compilation parameters, I eventually gave up, also due to the lack of any more useful information retrievable online to help me fix my issues.\n",
    "\n",
    "Luckily, I've found [this resource](https://medium.com/@ronie/installing-graph-tool-for-python-3-on-anaconda-3f76d9004979) that helped me figure out a way to use Graph-Tool from within Anaconda. It only required me to create a new environment from the handy `environment.yml` file, which automatically downloaded all the needed dependencies (available as Anaconda packages). I could then start using Graph-Tool right away.\n",
    "\n",
    "## [**Neo4j Graph Database**](https://neo4j.com/)\n",
    "Neo4j is a Graph Database software widely used to analyze complex network structures and take advantage of database indexing and optimization for fast data processing; it exposes drivers for several programming languages including Python. Installation was straight forward and the Python drivers were handily available with Anaconda. Neo4j relies on a query language called [Cypher](https://neo4j.com/developer/cypher/), which is similar to SQL but graph-oriented.\n",
    "\n",
    "## [**JuliaGraphs**](https://juliagraphs.github.io/)\n",
    "JuliaGraphs provides code and support for graph and network representation in the [**Julia**](https://julialang.org/) programming language (the cutting-edge solution for high-performance scientific computing). I could integrate Julia's functionalities within JupyterLab through [IJulia](https://github.com/JuliaLang/IJulia.jl), the IPython kernel equivalent for Julia.\n",
    "\n",
    "## [**Snap.Py**](http://snap.stanford.edu/snappy/index.html)\n",
    "Snap.Py is a Python interface for SNAP. SNAP is a general purpose, high performance system for analysis and manipulation of large networks. SNAP is written in C++ and optimized for maximum performance and compact graph representation. It easily scales to massive networks with hundreds of millions of nodes, and billions of edges. I could install Snap.Py through Anaconda, by first creating an environment for Python 2.7 (which is the only version it supports)."
   ]
  },
  {
   "cell_type": "code",
   "execution_count": null,
   "metadata": {},
   "outputs": [],
   "source": []
  }
 ],
 "metadata": {
  "kernelspec": {
   "display_name": "Python [conda env:py36]",
   "language": "python",
   "name": "conda-env-py36-py"
  },
  "language_info": {
   "codemirror_mode": {
    "name": "ipython",
    "version": 3
   },
   "file_extension": ".py",
   "mimetype": "text/x-python",
   "name": "python",
   "nbconvert_exporter": "python",
   "pygments_lexer": "ipython3",
   "version": "3.6.6"
  }
 },
 "nbformat": 4,
 "nbformat_minor": 2
}
