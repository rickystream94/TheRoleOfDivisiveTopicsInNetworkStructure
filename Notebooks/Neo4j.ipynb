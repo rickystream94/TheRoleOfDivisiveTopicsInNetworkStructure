{
 "cells": [
  {
   "cell_type": "code",
   "execution_count": 1,
   "metadata": {},
   "outputs": [],
   "source": [
    "from IPython import display"
   ]
  },
  {
   "cell_type": "markdown",
   "metadata": {},
   "source": [
    "**Links**\n",
    "- [Neo4j Browser Interface](http://localhost:7474/browser/)\n",
    "- [Cypher Query Language Docs](https://neo4j.com/developer/cypher/)"
   ]
  },
  {
   "cell_type": "markdown",
   "metadata": {},
   "source": [
    "# Importing MMR dataset in Neo4j\n",
    "Due to the huge size of the dataset (consisting of both usernames + MMR files), I used the [batch-import tool](https://neo4j.com/docs/operations-manual/current/tools/import/) which helped me to conveniently import the dataset in a `graph.db` Neo4j database. As recommended by the guidelines, I kept the actual data files separate from the headers, since the headers have to provide crucial info to the Neo4j interpreter such that the database is built the proper way.\n",
    "\n",
    "## Data Preparation\n",
    "The structure of the database consists of **nodes** of type **User** and relationships with label **MENTIONS**, such that a common (undirected) node-to-node relationship would be represented as `(n:User)-[r:MENTIONS]-(m:User)` in Cypher query language.\n",
    "\n",
    "**Note**: since we're not going to have more than one node type (all nodes are `Users`) and one relationship type (all relationships are `MENTIONS`), when querying in Cypher the types may be omitted and the common node-to-node pattern becomes `(n)-[r]-(m)`.\n",
    "\n",
    "For this purpose, the `mmr_encoded_header.csv` and the `usernames_header.csv` are shown below:\n",
    "- **MMR Header**: `:START_ID(User),:END_ID(User)`\n",
    "- **Usernames Header**: `username,encoding:ID(User)`\n",
    "\n",
    "It's worth pointing out that the `encoding` property of the `User` node has been intentionally named as such and not `id`, not to create confusion with the internal built-in property `<id>` of Neo4j. Intuitively, each line of the MMR dataset will represent a relationship that should connect nodes based on the property labeled with `ID(User)` defined by the usernames header file.\n",
    "\n",
    "## Network Data Import\n",
    "After these preparation steps, I was then ready to bulk import the data with the following shell command:\n",
    "```\n",
    "neo4j-admin import --id-type INTEGER --nodes:User \"path/to/usernames_header.csv,path/to/usernames.csv\" --relationships:MENTIONS \"path/to/mmr_encoded_header.csv,path/to/mmr_encoded.csv\"\n",
    "```\n",
    "The tool turned out to be fairly quick and I ended up with a nice complete network consisting of:\n",
    "\n",
    "| Total Nodes | Total Relationships |\n",
    "|---|---|\n",
    "| 612.497.446 (~600M) | 89.486.651 (~90M) |\n",
    "\n",
    "Last but not least, an **index** has been created on the encoding property by adding a unique property constraint:\n",
    "```\n",
    "CREATE CONSTRAINT ON (n:User) ASSERT n.encoding IS UNIQUE\n",
    "```"
   ]
  },
  {
   "cell_type": "markdown",
   "metadata": {},
   "source": [
    "# Working with Neo4j and Cypher\n",
    "Neo4j comes handy to quickly query the network and get to see the structure and some examples in the GUI provided by the browser. After playing around a bit with a few example queries, I noticed a downside of the current network structure as defined in the previous sections.\n",
    "\n",
    "Possible optimizations:\n",
    "- Multiple relationships are added between users: why not adding info on such as the period? After encoding it.\n",
    "- I could remove the username string from the nodes to save space, but let's experiment with the performance before.\n"
   ]
  },
  {
   "cell_type": "code",
   "execution_count": 2,
   "metadata": {},
   "outputs": [],
   "source": [
    "display.display_png()"
   ]
  },
  {
   "cell_type": "code",
   "execution_count": null,
   "metadata": {},
   "outputs": [],
   "source": []
  }
 ],
 "metadata": {
  "kernelspec": {
   "display_name": "Python 3",
   "language": "python",
   "name": "python3"
  },
  "language_info": {
   "codemirror_mode": {
    "name": "ipython",
    "version": 3
   },
   "file_extension": ".py",
   "mimetype": "text/x-python",
   "name": "python",
   "nbconvert_exporter": "python",
   "pygments_lexer": "ipython3",
   "version": "3.6.6"
  }
 },
 "nbformat": 4,
 "nbformat_minor": 2
}
