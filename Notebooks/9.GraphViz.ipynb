{
 "cells": [
  {
   "cell_type": "markdown",
   "metadata": {},
   "source": [
    "# Graph Visualization with NetworkX/PyGraphistry"
   ]
  },
  {
   "cell_type": "code",
   "execution_count": 16,
   "metadata": {},
   "outputs": [],
   "source": [
    "from __future__ import print_function\n",
    "import graphistry\n",
    "import snap\n",
    "from snap import TUNGraph\n",
    "import pandas as pd\n",
    "import matplotlib as mpl\n",
    "from matplotlib import pyplot as plt\n",
    "import seaborn as sns\n",
    "import os\n",
    "import numpy as np\n",
    "import networkx as nx\n",
    "\n",
    "# Set Seaborn defaults\n",
    "sns.set()\n",
    "%matplotlib inline\n",
    "pd.set_option(\"display.precision\", 6)\n",
    "mpl.rcParams['figure.dpi'] = 100\n",
    "mpl.rcParams['savefig.dpi'] = 100\n",
    "mpl.rcParams['figure.autolayout'] = True\n",
    "\n",
    "# Global variables\n",
    "data_dir = \"../data\"\n",
    "pictures_path = os.path.join(\"../Pictures\", \"9.GraphViz\")"
   ]
  },
  {
   "cell_type": "code",
   "execution_count": 17,
   "metadata": {},
   "outputs": [],
   "source": [
    "def load_graph_from_backup(filename):\n",
    "    FIn = snap.TFIn(\"../data/\"+filename+\".bin\")\n",
    "    graph = snap.TUNGraph.Load(FIn)\n",
    "    return graph"
   ]
  },
  {
   "cell_type": "code",
   "execution_count": 6,
   "metadata": {},
   "outputs": [],
   "source": [
    "hashtag = \"jesuischarlie\"\n",
    "hashtag_subgraph = load_graph_from_backup(\"mmr_subgraph_\"+hashtag)"
   ]
  },
  {
   "cell_type": "code",
   "execution_count": 15,
   "metadata": {},
   "outputs": [],
   "source": [
    "# Convert from SNAP format to Pandas DF\n",
    "graph_df = pd.DataFrame(columns=[\"src\",\"dst\"], dtype=np.uint32)\n",
    "for e in hashtag_subgraph.Edges():\n",
    "    temp = pd.DataFrame([[e.GetSrcNId(), e.GetDstNId()]], columns=[\"src\",\"dst\"], dtype=np.uint32)\n",
    "    graph_df = graph_df.append(temp)"
   ]
  },
  {
   "cell_type": "markdown",
   "metadata": {},
   "source": [
    "## 1. Load graph data from Pandas DataFrames"
   ]
  },
  {
   "cell_type": "code",
   "execution_count": 18,
   "metadata": {},
   "outputs": [],
   "source": [
    "hashtag = \"jesuischarlie\""
   ]
  },
  {
   "cell_type": "code",
   "execution_count": 23,
   "metadata": {},
   "outputs": [],
   "source": [
    "edges_df = pd.read_csv(os.path.join(data_dir,\"graph_visualization_top_interactions/\"+hashtag+\"_top_interactions.csv\"), dtype={\"Source\": np.object, \"Target\": np.object, \"Count\": np.uint32})\n",
    "nodes_df = pd.read_csv(os.path.join(data_dir,\"graph_visualization_top_interactions/\"+hashtag+\"_users_frequency.csv\"), dtype={\"User\": np.object, \"Target\": np.object, \"Count\": np.uint32})"
   ]
  },
  {
   "cell_type": "code",
   "execution_count": 69,
   "metadata": {},
   "outputs": [],
   "source": [
    "# Build dict of node attrs\n",
    "nodes_attr = {}\n",
    "for _,r in nodes_df.iterrows():\n",
    "    nodes_attr[r[\"User\"]] = r[\"Count\"]\n",
    "nodes_attr = {k:nodes_attr[k] for k in nodes_attr if G.has_node(k)}"
   ]
  },
  {
   "cell_type": "code",
   "execution_count": 61,
   "metadata": {},
   "outputs": [],
   "source": [
    "# Build graph from list of edges\n",
    "G = nx.Graph()\n",
    "G.add_weighted_edges_from(edges_df.values)"
   ]
  },
  {
   "cell_type": "code",
   "execution_count": 76,
   "metadata": {},
   "outputs": [],
   "source": [
    "# Set node attributes\n",
    "nx.set_node_attributes(G, nodes_attr, name=\"degree\")"
   ]
  },
  {
   "cell_type": "code",
   "execution_count": null,
   "metadata": {},
   "outputs": [],
   "source": [
    "# Plot graph"
   ]
  }
 ],
 "metadata": {
  "kernelspec": {
   "display_name": "Python [conda env:py27]",
   "language": "python",
   "name": "conda-env-py27-py"
  },
  "language_info": {
   "codemirror_mode": {
    "name": "ipython",
    "version": 2
   },
   "file_extension": ".py",
   "mimetype": "text/x-python",
   "name": "python",
   "nbconvert_exporter": "python",
   "pygments_lexer": "ipython2",
   "version": "2.7.15"
  }
 },
 "nbformat": 4,
 "nbformat_minor": 2
}
