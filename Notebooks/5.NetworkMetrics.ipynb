{
 "cells": [
  {
   "cell_type": "code",
   "execution_count": 382,
   "metadata": {},
   "outputs": [],
   "source": [
    "import snap\n",
    "from snap import TUNGraph\n",
    "import os\n",
    "import sys\n",
    "import operator\n",
    "import pandas as pd\n",
    "import subprocess\n",
    "import numpy as np\n",
    "import csv\n",
    "import matplotlib as mpl\n",
    "from matplotlib import pyplot as plt\n",
    "import seaborn as sns\n",
    "from __future__ import print_function\n",
    "from IPython.display import HTML, display\n",
    "import tabulate\n",
    "\n",
    "# Set Seaborn defaults\n",
    "sns.set()\n",
    "%matplotlib inline\n",
    "pd.set_option(\"display.precision\", 3)\n",
    "mpl.rcParams['figure.dpi'] = 100\n",
    "mpl.rcParams['savefig.dpi'] = 100\n",
    "\n",
    "# Global variables\n",
    "data_dir = \"../data\"\n",
    "pictures_path = os.path.join(\"../Pictures\", \"5.NetworkMetrics\")"
   ]
  },
  {
   "cell_type": "markdown",
   "metadata": {},
   "source": [
    "# 0. Basic Network Properties\n",
    "It's important to understand the core features of the network before digging into low-level analysis through expensive algorithms. From now on, we would be referring to the terminology listed below.\n",
    "\n",
    "We already had obtained the number of nodes $N$ and the number of links $L$ from the previous notebooks, and these two information are enough to calculate the average degree $\\langle K \\rangle$ as $\\langle K \\rangle = \\frac{2L}{N}$, since the network is ***undirected***."
   ]
  },
  {
   "cell_type": "code",
   "execution_count": 2,
   "metadata": {},
   "outputs": [
    {
     "name": "stdout",
     "output_type": "stream",
     "text": [
      "Average Degree is 9.694\n"
     ]
    }
   ],
   "source": [
    "# Calculate network average degree\n",
    "N = 89577277\n",
    "L = 434193958\n",
    "K = 2.0 * L/N\n",
    "print(\"Average Degree is %.3f\" %K)"
   ]
  },
  {
   "cell_type": "markdown",
   "metadata": {},
   "source": [
    "| Number of nodes ($N$) | Number of links ($L$) | Average Degree $\\langle K \\rangle$ |\n",
    "|---|---|---|\n",
    "| 89.577.277 (~90M) | 434.193.958 (~400M) | 9,694 |"
   ]
  },
  {
   "cell_type": "markdown",
   "metadata": {},
   "source": [
    "# 1. Generate undirected graph with SNAP.Py\n",
    "Calculating the network metrics doesn't necessarily require including edge metadata in the graph, therefore **SNAP.Py** comes handy in this case. Let's import the MMR data in an **undirected graph** data structure and build the main network.\n",
    "\n",
    "Since SNAP.Py allows inserting vertices by specifying a **node ID**, I don't need to read the `usernames.csv` file, since all IDs from 0 to $(N-1)$ are existing for sure, where $N=89.577.277$. By the other hand, I may read the edges from the `mmr_encoded_final.csv` file and ignore the edge metadata column including the periods array."
   ]
  },
  {
   "cell_type": "code",
   "execution_count": 3,
   "metadata": {},
   "outputs": [],
   "source": [
    "def read_large_file(file_object):\n",
    "    while True:\n",
    "        data = file_object.readline()\n",
    "        if not data:\n",
    "            break\n",
    "        yield data.rstrip('\\n')\n",
    "\n",
    "# We ignore prop for the moment\n",
    "def process_edge_line(line):\n",
    "    source, target, prop = line.split(',')\n",
    "    return int(source), int(target)\n",
    "\n",
    "def build_mmr_graph():\n",
    "    # Create main graph object\n",
    "    graph = TUNGraph.New()\n",
    "\n",
    "    # First add vertices\n",
    "    print(\"Adding vertices...\")\n",
    "    for i in xrange(0, N):\n",
    "        graph.AddNode(i)\n",
    "    print(\"Done adding vertices, now adding links...\")\n",
    "\n",
    "    # Add links by reading them from MMR data file\n",
    "    with open(os.path.join(data_dir,\"mmr_encoded_final.csv\")) as io:\n",
    "        counter = 0\n",
    "        for line in read_large_file(io):\n",
    "            source, target = process_edge_line(line)\n",
    "            graph.AddEdge(source, target)\n",
    "            counter += 1\n",
    "            if counter % 50000000 == 0:\n",
    "                print(\"Added %d links...\" %counter)\n",
    "        print(\"Done! Total links: %d\" %counter)\n",
    "        assert counter == L\n",
    "    return graph"
   ]
  },
  {
   "cell_type": "code",
   "execution_count": 5,
   "metadata": {},
   "outputs": [
    {
     "name": "stdout",
     "output_type": "stream",
     "text": [
      "Adding vertices...\n",
      "Done adding vertices, now adding links...\n",
      "Added 50000000 links...\n",
      "Added 100000000 links...\n",
      "Added 150000000 links...\n",
      "Added 200000000 links...\n",
      "Added 250000000 links...\n",
      "Added 300000000 links...\n",
      "Added 350000000 links...\n",
      "Added 400000000 links...\n",
      "Done! Total links: 434193958\n",
      "CPU times: user 29min 20s, sys: 13.9 s, total: 29min 34s\n",
      "Wall time: 29min 31s\n"
     ]
    }
   ],
   "source": [
    "%%time\n",
    "graph = build_mmr_graph()"
   ]
  },
  {
   "cell_type": "markdown",
   "metadata": {},
   "source": [
    "Building the whole MMR graph takes ~30 minutes, which is quite reasonable. Let's check how much is the currently consumed memory:"
   ]
  },
  {
   "cell_type": "code",
   "execution_count": 6,
   "metadata": {},
   "outputs": [
    {
     "name": "stdout",
     "output_type": "stream",
     "text": [
      "              total        used        free      shared  buff/cache   available\n",
      "Mem:           125G         16G         13G        102M         95G        108G\n",
      "Swap:           63G        232M         63G\n"
     ]
    }
   ],
   "source": [
    "%%bash\n",
    "free -h"
   ]
  },
  {
   "cell_type": "markdown",
   "metadata": {},
   "source": [
    "The whole graph loaded in memory takes *less than 16GB* of RAM, which is significantly uncomparable with NetworkX's performance."
   ]
  },
  {
   "cell_type": "markdown",
   "metadata": {},
   "source": [
    "# 2. Degree Distribution and Node Degrees\n",
    "SNAP.Py comes with a built-in function to calculate the histogram values needed to plot the degree distribution. The output variable, `DegToCntV`, is a vector of pairs such that the first element indicates the $x$-axis value ($k$ = degree), and the second one the $y$-axis value (number of degree-$k$ nodes). In order to represent $p_k$, which is a probability hence whose values range in the interval $[0,1]$, I have to normalize it: $p_k=\\frac{N_k}{N}$, where $N_k$ is the number of degree-$k$ nodes.\n",
    "\n",
    "The degree distribution represents a core feature for network analysis, because it explains what is the probability $p_k$ that, given a random node, it has degree $k$. Furthermore, $p_k$ determines many network phenomena such as network robustness."
   ]
  },
  {
   "cell_type": "code",
   "execution_count": 7,
   "metadata": {},
   "outputs": [
    {
     "name": "stdout",
     "output_type": "stream",
     "text": [
      "CPU times: user 1.96 s, sys: 0 ns, total: 1.96 s\n",
      "Wall time: 1.96 s\n"
     ]
    }
   ],
   "source": [
    "%%time\n",
    "\n",
    "def calculate_degree_distribution(graph):\n",
    "    DegToCntV = snap.TIntPrV()\n",
    "    snap.GetDegCnt(graph, DegToCntV)\n",
    "    return DegToCntV\n",
    "\n",
    "DegToCntV = calculate_degree_distribution(graph)"
   ]
  },
  {
   "cell_type": "markdown",
   "metadata": {},
   "source": [
    "Execution time above points out the impressive performance of SNAP.Py even with large-scale networks over Neo4j and NetworkX.\n",
    "\n",
    "I hereby plot the degree distribution both in regular scale and logarithmic scale."
   ]
  },
  {
   "cell_type": "code",
   "execution_count": 384,
   "metadata": {},
   "outputs": [],
   "source": [
    "def get_deg_dist_variables_to_plot(DegToCntV):\n",
    "    x = [item.GetVal1() for item in DegToCntV]\n",
    "    y = [item.GetVal2() * 1.0 / N for item in DegToCntV]\n",
    "    print(\"Min Degree: %d\\nMax Degree: %d\\n\" %(min(x), max(x)))\n",
    "    print(\"Min p(k): %.15f\\nMax p(k): %.15f\" %(min(y), max(y)))\n",
    "    return x,y"
   ]
  },
  {
   "cell_type": "code",
   "execution_count": 33,
   "metadata": {},
   "outputs": [
    {
     "name": "stdout",
     "output_type": "stream",
     "text": [
      "Min Degree: 1\n",
      "Max Degree: 41359\n",
      "\n",
      "Min p(k): 0.000000011163545\n",
      "Max p(k): 0.326320502017493\n"
     ]
    }
   ],
   "source": [
    "x, y = get_deg_dist_variables_to_plot(DegToCntV)"
   ]
  },
  {
   "cell_type": "code",
   "execution_count": 391,
   "metadata": {},
   "outputs": [],
   "source": [
    "def plot_degree_distribution(x,y,fig_filename):\n",
    "    plt.figure(figsize=(16,6))\n",
    "\n",
    "    # First subplot: normal axes\n",
    "    plt.subplot(1,2,1)\n",
    "    plt.xlabel(\"K (Degree)\")\n",
    "    plt.ylabel(\"Probability of K-degree\")\n",
    "    plt.plot(x,y,\"r.\")\n",
    "    plt.title(\"Degree Distribution\", fontsize=16)\n",
    "\n",
    "    # Second subplot: logarithmic axes\n",
    "    plt.subplot(1,2,2)\n",
    "    plt.xlabel(\"K (Degree) (log)\")\n",
    "    plt.ylabel(\"Probability of K-degree (log)\")\n",
    "    plt.loglog(x, y, \"r.\")\n",
    "    plt.title(\"Degree Distribution (Logarithmic Axes)\", fontsize=16)\n",
    "    \n",
    "    # Save and show figure\n",
    "    plt.savefig(os.path.join(pictures_path,fig_filename))\n",
    "    plt.show()"
   ]
  },
  {
   "cell_type": "code",
   "execution_count": 17,
   "metadata": {},
   "outputs": [
    {
     "data": {
      "image/png": "[encoded data removed]",
      "text/plain": [
       "<Figure size 1152x432 with 2 Axes>"
      ]
     },
     "metadata": {
      "needs_background": "light"
     },
     "output_type": "display_data"
    }
   ],
   "source": [
    "plot_degree_distribution(x, y, \"degree_distribution_1.png\")"
   ]
  },
  {
   "cell_type": "markdown",
   "metadata": {},
   "source": [
    "At first sight, the distribution plotted with regular scale doesn't seem very meaningful, and the reason is easily arguable: our MMR graph has nodes whose degrees range in $1 \\leq k \\leq 41359$, whereas the values of the probability range in $0 \\lt p_k \\leq 0.326$. By looking at the plot, it's easy to infer that more than ${1/3}$ of the nodes have only one link, and the probability of having more than one link decreases exponentially. Here the logarithmic scale becomes convenient, because it better highlights this phenomenon which is typical of those networks known as ***scale-free networks***. A scale-free network, indeed, is defined as such when its degree distribution follows (at least asymptotically) a **power law**."
   ]
  },
  {
   "cell_type": "markdown",
   "metadata": {},
   "source": [
    "## 2.1 Usernames with highest $k$\n",
    "I wanted to investigate which Twitter usernames actually correspond to those nodes with extremely high degree."
   ]
  },
  {
   "cell_type": "code",
   "execution_count": 35,
   "metadata": {},
   "outputs": [
    {
     "name": "stdout",
     "output_type": "stream",
     "text": [
      "The node with the highest degree has ID 54790022\n"
     ]
    }
   ],
   "source": [
    "n_id_max_deg = snap.GetMxDegNId(graph)\n",
    "print(\"The node with the highest degree has ID %d\" %n_id_max_deg)"
   ]
  },
  {
   "cell_type": "code",
   "execution_count": 77,
   "metadata": {},
   "outputs": [
    {
     "name": "stdout",
     "output_type": "stream",
     "text": [
      "cocanomc,54790022\n"
     ]
    }
   ],
   "source": [
    "%%bash\n",
    "../scripts/get_username.sh 54790022"
   ]
  },
  {
   "cell_type": "markdown",
   "metadata": {},
   "source": [
    "SNAP.Py comes with a built-in function to calculate the In/Out degree of every node in the graph (`GetNodeInDegV` / `GetNodeOutDegV`). Since our graph is undirected, any function would suit fine."
   ]
  },
  {
   "cell_type": "code",
   "execution_count": 36,
   "metadata": {},
   "outputs": [
    {
     "name": "stdout",
     "output_type": "stream",
     "text": [
      "CPU times: user 3min 25s, sys: 9.43 s, total: 3min 34s\n",
      "Wall time: 3min 28s\n"
     ]
    }
   ],
   "source": [
    "%%time\n",
    "\n",
    "InDegV = snap.TIntPrV()\n",
    "snap.GetNodeInDegV(graph, InDegV)\n",
    "node_degrees = [(item.GetVal1(), item.GetVal2()) for item in InDegV]\n",
    "\n",
    "# Sort list by degree\n",
    "node_degrees = sorted(node_degrees, key=operator.itemgetter(1))"
   ]
  },
  {
   "cell_type": "markdown",
   "metadata": {},
   "source": [
    "Let's show who are the top 20 nodes with the highest degree and try to figure out if any of them correspond to any well known Twitter username. The previously created `get_username.sh` bash script is convenient when I need to lookup for a single value, but running it several times might be time consuming. Hereby the function that should be preferred when multiple lookups are needed:"
   ]
  },
  {
   "cell_type": "code",
   "execution_count": 141,
   "metadata": {},
   "outputs": [],
   "source": [
    "# %load ../scripts/def_get_multiple_usernames.py\n",
    "def get_multiple_usernames(ids):\n",
    "    # Convert ID to line number by adding 1\n",
    "    arg = \";\".join([str(el + 1) + \"p\" for el in ids])\n",
    "\n",
    "    #Invoke shell script that finds the occurrences\n",
    "    p = subprocess.Popen(['../scripts/get_usernames.sh', arg], stdout=subprocess.PIPE)\n",
    "    output = p.communicate()[0]\n",
    "\n",
    "    id_to_username_dict = {line.split(',')[1]:line.split(',')[0] for line in output.split('\\n') if line != \"\"}\n",
    "    return id_to_username_dict"
   ]
  },
  {
   "cell_type": "code",
   "execution_count": 150,
   "metadata": {},
   "outputs": [
    {
     "name": "stdout",
     "output_type": "stream",
     "text": [
      "CPU times: user 0 ns, sys: 392 ms, total: 392 ms\n",
      "Wall time: 15.7 s\n"
     ]
    }
   ],
   "source": [
    "%%time\n",
    "data = sorted(node_degrees[-20:], key=operator.itemgetter(1), reverse=True)\n",
    "node_ids = [el[0] for el in data]\n",
    "id_to_username_dict = get_multiple_usernames(node_ids)"
   ]
  },
  {
   "cell_type": "code",
   "execution_count": 210,
   "metadata": {},
   "outputs": [],
   "source": [
    "def show_data_as_dataframe(data, column_labels):\n",
    "    df = pd.DataFrame(data, columns=column_labels)\n",
    "    display(df)\n",
    "    return df"
   ]
  },
  {
   "cell_type": "code",
   "execution_count": 151,
   "metadata": {},
   "outputs": [
    {
     "data": {
      "text/html": [
       "<div>\n",
       "<style scoped>\n",
       "    .dataframe tbody tr th:only-of-type {\n",
       "        vertical-align: middle;\n",
       "    }\n",
       "\n",
       "    .dataframe tbody tr th {\n",
       "        vertical-align: top;\n",
       "    }\n",
       "\n",
       "    .dataframe thead th {\n",
       "        text-align: right;\n",
       "    }\n",
       "</style>\n",
       "<table border=\"1\" class=\"dataframe\">\n",
       "  <thead>\n",
       "    <tr style=\"text-align: right;\">\n",
       "      <th></th>\n",
       "      <th>Username</th>\n",
       "      <th>Node ID (Encoding)</th>\n",
       "      <th>Degree</th>\n",
       "    </tr>\n",
       "  </thead>\n",
       "  <tbody>\n",
       "    <tr>\n",
       "      <th>0</th>\n",
       "      <td>cocanomc</td>\n",
       "      <td>54790022</td>\n",
       "      <td>41359</td>\n",
       "    </tr>\n",
       "    <tr>\n",
       "      <th>1</th>\n",
       "      <td>telkomsel</td>\n",
       "      <td>61888</td>\n",
       "      <td>33341</td>\n",
       "    </tr>\n",
       "    <tr>\n",
       "      <th>2</th>\n",
       "      <td>stccare</td>\n",
       "      <td>272020</td>\n",
       "      <td>31578</td>\n",
       "    </tr>\n",
       "    <tr>\n",
       "      <th>3</th>\n",
       "      <td>virginmedia</td>\n",
       "      <td>113519</td>\n",
       "      <td>30738</td>\n",
       "    </tr>\n",
       "    <tr>\n",
       "      <th>4</th>\n",
       "      <td>xboxsupport</td>\n",
       "      <td>112622</td>\n",
       "      <td>27853</td>\n",
       "    </tr>\n",
       "    <tr>\n",
       "      <th>5</th>\n",
       "      <td>americanair</td>\n",
       "      <td>38831</td>\n",
       "      <td>25676</td>\n",
       "    </tr>\n",
       "    <tr>\n",
       "      <th>6</th>\n",
       "      <td>atviassist</td>\n",
       "      <td>13925</td>\n",
       "      <td>23270</td>\n",
       "    </tr>\n",
       "    <tr>\n",
       "      <th>7</th>\n",
       "      <td>tesco</td>\n",
       "      <td>34364</td>\n",
       "      <td>20606</td>\n",
       "    </tr>\n",
       "    <tr>\n",
       "      <th>8</th>\n",
       "      <td>btcare</td>\n",
       "      <td>46286</td>\n",
       "      <td>19399</td>\n",
       "    </tr>\n",
       "    <tr>\n",
       "      <th>9</th>\n",
       "      <td>indosatcare</td>\n",
       "      <td>64396</td>\n",
       "      <td>18911</td>\n",
       "    </tr>\n",
       "    <tr>\n",
       "      <th>10</th>\n",
       "      <td>amazonhelp</td>\n",
       "      <td>5513254</td>\n",
       "      <td>17815</td>\n",
       "    </tr>\n",
       "    <tr>\n",
       "      <th>11</th>\n",
       "      <td>erpestar</td>\n",
       "      <td>59012597</td>\n",
       "      <td>17097</td>\n",
       "    </tr>\n",
       "    <tr>\n",
       "      <th>12</th>\n",
       "      <td>tacobell</td>\n",
       "      <td>667666</td>\n",
       "      <td>16651</td>\n",
       "    </tr>\n",
       "    <tr>\n",
       "      <th>13</th>\n",
       "      <td>movistararg</td>\n",
       "      <td>13932</td>\n",
       "      <td>16205</td>\n",
       "    </tr>\n",
       "    <tr>\n",
       "      <th>14</th>\n",
       "      <td>telkomcare</td>\n",
       "      <td>735473</td>\n",
       "      <td>16169</td>\n",
       "    </tr>\n",
       "    <tr>\n",
       "      <th>15</th>\n",
       "      <td>alphabetsuccess</td>\n",
       "      <td>368890</td>\n",
       "      <td>15918</td>\n",
       "    </tr>\n",
       "    <tr>\n",
       "      <th>16</th>\n",
       "      <td>ee</td>\n",
       "      <td>219882</td>\n",
       "      <td>15770</td>\n",
       "    </tr>\n",
       "    <tr>\n",
       "      <th>17</th>\n",
       "      <td>shawnabner</td>\n",
       "      <td>29181</td>\n",
       "      <td>15750</td>\n",
       "    </tr>\n",
       "    <tr>\n",
       "      <th>18</th>\n",
       "      <td>shoutrts</td>\n",
       "      <td>59007420</td>\n",
       "      <td>15579</td>\n",
       "    </tr>\n",
       "    <tr>\n",
       "      <th>19</th>\n",
       "      <td>trafficvalencia</td>\n",
       "      <td>18127</td>\n",
       "      <td>15190</td>\n",
       "    </tr>\n",
       "  </tbody>\n",
       "</table>\n",
       "</div>"
      ],
      "text/plain": [
       "           Username  Node ID (Encoding)  Degree\n",
       "0          cocanomc            54790022   41359\n",
       "1         telkomsel               61888   33341\n",
       "2           stccare              272020   31578\n",
       "3       virginmedia              113519   30738\n",
       "4       xboxsupport              112622   27853\n",
       "5       americanair               38831   25676\n",
       "6        atviassist               13925   23270\n",
       "7             tesco               34364   20606\n",
       "8            btcare               46286   19399\n",
       "9       indosatcare               64396   18911\n",
       "10       amazonhelp             5513254   17815\n",
       "11         erpestar            59012597   17097\n",
       "12         tacobell              667666   16651\n",
       "13      movistararg               13932   16205\n",
       "14       telkomcare              735473   16169\n",
       "15  alphabetsuccess              368890   15918\n",
       "16               ee              219882   15770\n",
       "17       shawnabner               29181   15750\n",
       "18         shoutrts            59007420   15579\n",
       "19  trafficvalencia               18127   15190"
      ]
     },
     "execution_count": 151,
     "metadata": {},
     "output_type": "execute_result"
    }
   ],
   "source": [
    "# Show data formatted as DataFrame\n",
    "data = [[id_to_username_dict[str(el[0])], el[0], el[1]] for el in data]\n",
    "show_data_as_dataframe(data, [\"Username\", \"Node ID (Encoding)\", \"Degree\"])"
   ]
  },
  {
   "cell_type": "markdown",
   "metadata": {},
   "source": [
    "The results shown above show one of the first issues with the collected data, since it was not subject to any data-cleaning process before the analysis. By individually checking all the Twitter usernames listed above, it's easy to infer that they all correspond to famous, large-scale companies that use Twitter as a social media platform to get in touch with their customers, often through *customer technical support* inquiries. This explains their huge degree value (as of now, they're basically **network hubs**), but at the same times it represents a downside for our analysis since their connections are more likely not to be very meaningful.\n",
    "\n",
    "Mutual relationships between such companies and the users ideally won't be featured by any controversial/partisan dispute or particular ideology represented by the hashtags I'll be investigating on. Therefore, the most intuitive step to acknowledge is *getting rid of them*. However, this shouldn't actually be limited only to the top 20 users with top degree, but to all potential users that fall within the category identified above.\n",
    "\n",
    "It's better and cleaner to keep the data cleanup process in a separate notebook, therefore I could just dump the *node degrees* from the current notebook to a file and re-use it from the new notebook:"
   ]
  },
  {
   "cell_type": "code",
   "execution_count": 241,
   "metadata": {},
   "outputs": [],
   "source": [
    "with open(\"../data/temp/node_degrees.csv\", \"w\") as out:\n",
    "    for el in node_degrees:\n",
    "        out.write(\",\".join([str(el[0]), str(el[1])]) + \"\\n\")"
   ]
  },
  {
   "cell_type": "markdown",
   "metadata": {},
   "source": [
    "# 4. Perform Cleanup and calculate updated network properties\n",
    "The goal of this section is to re-calculate the basic network properties after excluding from the analysis the nodes that correspond to the usernames labeled as noisy data in the **5.1** notebook. Let's first proceed by removing the noisy data from the MMR graph.\n",
    "\n",
    "**WARNING**: Unfortunately, after a first iteration of this section, I noticed that a few customer service usernames were not captured by the cleanup. I had to manually clean them up here. The usernames are:\n",
    "~~~\n",
    "\"trafficvalencia\",\"traffictachira\",\"trafficaracas\",\"trafficmiranda\",\"trafficlara\",\"trafficmcbo\",\"trafficguayana\",\"trafficmerida\",\"trafficpuerto\",\"skyhelpteam\",\"telmexsoluciona\",\"virgintrains\",\"claroargentina\",\"directvservicio\"\n",
    "~~~"
   ]
  },
  {
   "cell_type": "code",
   "execution_count": 244,
   "metadata": {},
   "outputs": [],
   "source": [
    "excluded_usernames_df = pd.read_csv(\"../data/data_cleanup/final_excluded_usernames.csv\")"
   ]
  },
  {
   "cell_type": "code",
   "execution_count": 275,
   "metadata": {},
   "outputs": [
    {
     "name": "stdout",
     "output_type": "stream",
     "text": [
      "Nodes to be deleted: 1143\n",
      "Current number of nodes in graph: 89577277\n",
      "Current number of edges in graph: 434193958\n"
     ]
    }
   ],
   "source": [
    "print(\"Nodes to be deleted: {0}\".format(len(excluded_usernames_df.index)))\n",
    "print(\"Current number of nodes in graph: {0}\".format(graph.GetNodes()))\n",
    "print(\"Current number of edges in graph: {0}\".format(graph.GetEdges()))"
   ]
  },
  {
   "cell_type": "code",
   "execution_count": 291,
   "metadata": {},
   "outputs": [],
   "source": [
    "# Temporarily backup original graph\n",
    "FOut = snap.TFOut(\"../data/mmr.bin\")\n",
    "graph.Save(FOut)\n",
    "FOut.Flush()"
   ]
  },
  {
   "cell_type": "code",
   "execution_count": 292,
   "metadata": {},
   "outputs": [],
   "source": [
    "nodes_to_remove = snap.TIntV()\n",
    "for nId in excluded_usernames_df[\"encoding\"]:\n",
    "    nodes_to_remove.Add(nId)"
   ]
  },
  {
   "cell_type": "code",
   "execution_count": 301,
   "metadata": {},
   "outputs": [],
   "source": [
    "snap.DelNodes(graph, nodes_to_remove)"
   ]
  },
  {
   "cell_type": "markdown",
   "metadata": {},
   "source": [
    "I should also remove the **0-degree nodes** that resulted from the above removal:"
   ]
  },
  {
   "cell_type": "code",
   "execution_count": 303,
   "metadata": {},
   "outputs": [
    {
     "name": "stdout",
     "output_type": "stream",
     "text": [
      "Number of 0-degree nodes: 287575\n"
     ]
    }
   ],
   "source": [
    "print(\"Number of 0-degree nodes: {0}\".format(snap.CntDegNodes(graph,0)))\n",
    "snap.DelZeroDegNodes(graph)"
   ]
  },
  {
   "cell_type": "code",
   "execution_count": 363,
   "metadata": {},
   "outputs": [
    {
     "name": "stdout",
     "output_type": "stream",
     "text": [
      "Hardcoded usernames to delete: 14\n",
      "Number of 0-degree nodes: 33599\n"
     ]
    }
   ],
   "source": [
    "# Repeat same steps for the hardcoded companies\n",
    "hardcoded_encodings_to_delete = [18127,29860,60762,24455,34688,69424,262384,252793,6354,19636,3484,485913,145352,126192]\n",
    "print(\"Hardcoded usernames to delete: {0}\".format(len(hardcoded_encodings_to_delete)))\n",
    "\n",
    "# Collect nodes to remove\n",
    "nodes_to_remove = snap.TIntV()\n",
    "for nId in hardcoded_encodings_to_delete:\n",
    "    nodes_to_remove.Add(nId)\n",
    "    \n",
    "# Delete nodes\n",
    "snap.DelNodes(graph, nodes_to_remove)\n",
    "\n",
    "# Delete the 0-degree nodes as a result of the above deletion\n",
    "print(\"Number of 0-degree nodes: {0}\".format(snap.CntDegNodes(graph,0)))\n",
    "snap.DelZeroDegNodes(graph)"
   ]
  },
  {
   "cell_type": "markdown",
   "metadata": {},
   "source": [
    "Let's recalculate the updated basic network properties:"
   ]
  },
  {
   "cell_type": "code",
   "execution_count": 364,
   "metadata": {},
   "outputs": [],
   "source": [
    "# Re-set basic network properties\n",
    "N = graph.GetNodes()\n",
    "L = graph.GetEdges()\n",
    "K = 2.0 * L/N"
   ]
  },
  {
   "cell_type": "code",
   "execution_count": 366,
   "metadata": {},
   "outputs": [
    {
     "name": "stdout",
     "output_type": "stream",
     "text": [
      "Number of nodes in graph (after cleanup): 89254946\n",
      "Number of edges in graph (after cleanup): 432872203\n",
      "Average degree (after cleanup): 9.700\n"
     ]
    }
   ],
   "source": [
    "print(\"Number of nodes in graph (after cleanup): {0}\".format(graph.GetNodes()))\n",
    "print(\"Number of edges in graph (after cleanup): {0}\".format(graph.GetEdges()))\n",
    "print(\"Average degree (after cleanup): %.3f\" %K)"
   ]
  },
  {
   "cell_type": "markdown",
   "metadata": {},
   "source": [
    "| Property | Before Cleanup | After Cleanup | Difference | % Relative to original graph\n",
    "|---|---|---|---|---|\n",
    "| **Average Degree $\\langle K \\rangle$** | 9,694 | 9,7 | ~0.005 | -\n",
    "| **Number of nodes $N$** | 89.577.277 | 89.254.946 | **322.331** | 0,359%\n",
    "| **Number of edges $L$** | 434.193.958 | 432.872.203 | **1.321.755** | 0,30%"
   ]
  },
  {
   "cell_type": "markdown",
   "metadata": {},
   "source": [
    "The updated network properties shown above indicate that the consequence of the removal slightly impacted them, but let's see how this is now reflected to the **degree distribution**."
   ]
  },
  {
   "cell_type": "markdown",
   "metadata": {},
   "source": [
    "## 4.1 Degree Distribution (After Cleanup)"
   ]
  },
  {
   "cell_type": "markdown",
   "metadata": {},
   "source": [
    "Let's first show the top 10 nodes by degree, to actually verify that no more unwanted usernames are present:"
   ]
  },
  {
   "cell_type": "code",
   "execution_count": 373,
   "metadata": {},
   "outputs": [],
   "source": [
    "InDegV = snap.TIntPrV()\n",
    "snap.GetNodeInDegV(graph, InDegV)\n",
    "node_degrees = [(item.GetVal1(), item.GetVal2()) for item in InDegV]"
   ]
  },
  {
   "cell_type": "code",
   "execution_count": 374,
   "metadata": {},
   "outputs": [],
   "source": [
    "def cast_df_to_original_types(df, columns, df_types_dict):\n",
    "    for column in columns:\n",
    "        df[column] = df[column].astype(df_types_dict[column])"
   ]
  },
  {
   "cell_type": "code",
   "execution_count": 375,
   "metadata": {},
   "outputs": [],
   "source": [
    "node_degrees_df = pd.DataFrame(node_degrees,columns=[\"encoding\",\"degree\"])\n",
    "cast_df_to_original_types(node_degrees_df, [\"degree\",\"encoding\"],{\"degree\": np.uint16, \"encoding\": np.uint32})\n",
    "node_degrees_df.sort_values(by=\"degree\",ascending=False, inplace=True)"
   ]
  },
  {
   "cell_type": "code",
   "execution_count": 385,
   "metadata": {},
   "outputs": [],
   "source": [
    "id_to_username_dict = get_multiple_usernames(node_degrees_df[\"encoding\"][:10])"
   ]
  },
  {
   "cell_type": "code",
   "execution_count": 386,
   "metadata": {},
   "outputs": [],
   "source": [
    "temp_df = pd.DataFrame(id_to_username_dict.items(),columns=[\"encoding\",\"username\"])\n",
    "cast_df_to_original_types(temp_df, [\"username\",\"encoding\"],{\"username\": np.str, \"encoding\": np.uint32})"
   ]
  },
  {
   "cell_type": "code",
   "execution_count": 387,
   "metadata": {},
   "outputs": [
    {
     "data": {
      "text/html": [
       "<div>\n",
       "<style scoped>\n",
       "    .dataframe tbody tr th:only-of-type {\n",
       "        vertical-align: middle;\n",
       "    }\n",
       "\n",
       "    .dataframe tbody tr th {\n",
       "        vertical-align: top;\n",
       "    }\n",
       "\n",
       "    .dataframe thead th {\n",
       "        text-align: right;\n",
       "    }\n",
       "</style>\n",
       "<table border=\"1\" class=\"dataframe\">\n",
       "  <thead>\n",
       "    <tr style=\"text-align: right;\">\n",
       "      <th></th>\n",
       "      <th>encoding</th>\n",
       "      <th>degree</th>\n",
       "      <th>username</th>\n",
       "    </tr>\n",
       "  </thead>\n",
       "  <tbody>\n",
       "    <tr>\n",
       "      <th>0</th>\n",
       "      <td>368890</td>\n",
       "      <td>15914</td>\n",
       "      <td>alphabetsuccess</td>\n",
       "    </tr>\n",
       "    <tr>\n",
       "      <th>1</th>\n",
       "      <td>29181</td>\n",
       "      <td>15750</td>\n",
       "      <td>shawnabner</td>\n",
       "    </tr>\n",
       "    <tr>\n",
       "      <th>2</th>\n",
       "      <td>59007420</td>\n",
       "      <td>15579</td>\n",
       "      <td>shoutrts</td>\n",
       "    </tr>\n",
       "    <tr>\n",
       "      <th>3</th>\n",
       "      <td>49612</td>\n",
       "      <td>14488</td>\n",
       "      <td>bcci</td>\n",
       "    </tr>\n",
       "    <tr>\n",
       "      <th>4</th>\n",
       "      <td>76124</td>\n",
       "      <td>13076</td>\n",
       "      <td>brucevh</td>\n",
       "    </tr>\n",
       "    <tr>\n",
       "      <th>5</th>\n",
       "      <td>83689</td>\n",
       "      <td>12358</td>\n",
       "      <td>donplaticador</td>\n",
       "    </tr>\n",
       "    <tr>\n",
       "      <th>6</th>\n",
       "      <td>69434050</td>\n",
       "      <td>12124</td>\n",
       "      <td>onrpe</td>\n",
       "    </tr>\n",
       "    <tr>\n",
       "      <th>7</th>\n",
       "      <td>47536</td>\n",
       "      <td>11628</td>\n",
       "      <td>chucknellis</td>\n",
       "    </tr>\n",
       "    <tr>\n",
       "      <th>8</th>\n",
       "      <td>86006071</td>\n",
       "      <td>11094</td>\n",
       "      <td>kitkatjapan</td>\n",
       "    </tr>\n",
       "    <tr>\n",
       "      <th>9</th>\n",
       "      <td>180670</td>\n",
       "      <td>10942</td>\n",
       "      <td>applebees</td>\n",
       "    </tr>\n",
       "  </tbody>\n",
       "</table>\n",
       "</div>"
      ],
      "text/plain": [
       "   encoding  degree         username\n",
       "0    368890   15914  alphabetsuccess\n",
       "1     29181   15750       shawnabner\n",
       "2  59007420   15579         shoutrts\n",
       "3     49612   14488             bcci\n",
       "4     76124   13076          brucevh\n",
       "5     83689   12358    donplaticador\n",
       "6  69434050   12124            onrpe\n",
       "7     47536   11628      chucknellis\n",
       "8  86006071   11094      kitkatjapan\n",
       "9    180670   10942        applebees"
      ]
     },
     "execution_count": 387,
     "metadata": {},
     "output_type": "execute_result"
    }
   ],
   "source": [
    "temp_df = node_degrees_df.merge(temp_df, on=\"encoding\")\n",
    "temp_df.head(10)"
   ]
  },
  {
   "cell_type": "markdown",
   "metadata": {},
   "source": [
    "Now we can compute and plot the updated degree distribution."
   ]
  },
  {
   "cell_type": "code",
   "execution_count": 388,
   "metadata": {},
   "outputs": [
    {
     "name": "stdout",
     "output_type": "stream",
     "text": [
      "Min Degree: 1\n",
      "Max Degree: 15914\n",
      "\n",
      "Min p(k): 0.000000011203861\n",
      "Max p(k): 0.325428072075692\n"
     ]
    }
   ],
   "source": [
    "DegToCntV = calculate_degree_distribution(graph)\n",
    "x, y = get_deg_dist_variables_to_plot(DegToCntV)"
   ]
  },
  {
   "cell_type": "code",
   "execution_count": 392,
   "metadata": {},
   "outputs": [
    {
     "data": {
      "image/png": "[encoded data removed]",
      "text/plain": [
       "<Figure size 1600x600 with 2 Axes>"
      ]
     },
     "metadata": {
      "needs_background": "light"
     },
     "output_type": "display_data"
    }
   ],
   "source": [
    "plot_degree_distribution(x, y, \"degree_distribution_2.png\")"
   ]
  },
  {
   "cell_type": "markdown",
   "metadata": {},
   "source": [
    "As before, the power-law behavior is still evident. The cleanup process made the upper boundary way lower than before though."
   ]
  },
  {
   "cell_type": "markdown",
   "metadata": {},
   "source": [
    "# 4. Nodes Centrality"
   ]
  },
  {
   "cell_type": "markdown",
   "metadata": {},
   "source": [
    "# 4. Connected Components"
   ]
  },
  {
   "cell_type": "code",
   "execution_count": 154,
   "metadata": {},
   "outputs": [
    {
     "name": "stdout",
     "output_type": "stream",
     "text": [
      "Size: 2 - Number of Components: 1736460\n",
      "Size: 3 - Number of Components: 199996\n",
      "Size: 4 - Number of Components: 48135\n",
      "Size: 5 - Number of Components: 16107\n",
      "Size: 6 - Number of Components: 7011\n",
      "Size: 7 - Number of Components: 3303\n",
      "Size: 8 - Number of Components: 1967\n",
      "Size: 9 - Number of Components: 1285\n",
      "Size: 10 - Number of Components: 984\n",
      "Size: 11 - Number of Components: 750\n",
      "Size: 12 - Number of Components: 570\n",
      "Size: 13 - Number of Components: 452\n",
      "Size: 14 - Number of Components: 358\n",
      "Size: 15 - Number of Components: 317\n",
      "Size: 16 - Number of Components: 256\n",
      "Size: 17 - Number of Components: 184\n",
      "Size: 18 - Number of Components: 152\n",
      "Size: 19 - Number of Components: 134\n",
      "Size: 20 - Number of Components: 132\n",
      "Size: 21 - Number of Components: 108\n",
      "Size: 22 - Number of Components: 95\n",
      "Size: 23 - Number of Components: 96\n",
      "Size: 24 - Number of Components: 70\n",
      "Size: 25 - Number of Components: 78\n",
      "Size: 26 - Number of Components: 79\n",
      "Size: 27 - Number of Components: 65\n",
      "Size: 28 - Number of Components: 65\n",
      "Size: 29 - Number of Components: 41\n",
      "Size: 30 - Number of Components: 43\n",
      "Size: 31 - Number of Components: 39\n",
      "Size: 32 - Number of Components: 48\n",
      "Size: 33 - Number of Components: 42\n",
      "Size: 34 - Number of Components: 35\n",
      "Size: 35 - Number of Components: 44\n",
      "Size: 36 - Number of Components: 25\n",
      "Size: 37 - Number of Components: 30\n",
      "Size: 38 - Number of Components: 34\n",
      "Size: 39 - Number of Components: 30\n",
      "Size: 40 - Number of Components: 24\n",
      "Size: 41 - Number of Components: 22\n",
      "Size: 42 - Number of Components: 29\n",
      "Size: 43 - Number of Components: 19\n",
      "Size: 44 - Number of Components: 16\n",
      "Size: 45 - Number of Components: 19\n",
      "Size: 46 - Number of Components: 13\n",
      "Size: 47 - Number of Components: 26\n",
      "Size: 48 - Number of Components: 17\n",
      "Size: 49 - Number of Components: 19\n",
      "Size: 50 - Number of Components: 13\n",
      "Size: 51 - Number of Components: 14\n",
      "Size: 52 - Number of Components: 20\n",
      "Size: 53 - Number of Components: 20\n",
      "Size: 54 - Number of Components: 15\n",
      "Size: 55 - Number of Components: 13\n",
      "Size: 56 - Number of Components: 6\n",
      "Size: 57 - Number of Components: 9\n",
      "Size: 58 - Number of Components: 10\n",
      "Size: 59 - Number of Components: 13\n",
      "Size: 60 - Number of Components: 8\n",
      "Size: 61 - Number of Components: 20\n",
      "Size: 62 - Number of Components: 15\n",
      "Size: 63 - Number of Components: 7\n",
      "Size: 64 - Number of Components: 4\n",
      "Size: 65 - Number of Components: 7\n",
      "Size: 66 - Number of Components: 10\n",
      "Size: 67 - Number of Components: 9\n",
      "Size: 68 - Number of Components: 13\n",
      "Size: 69 - Number of Components: 10\n",
      "Size: 70 - Number of Components: 9\n",
      "Size: 71 - Number of Components: 6\n",
      "Size: 72 - Number of Components: 7\n",
      "Size: 73 - Number of Components: 15\n",
      "Size: 74 - Number of Components: 11\n",
      "Size: 75 - Number of Components: 8\n",
      "Size: 76 - Number of Components: 7\n",
      "Size: 77 - Number of Components: 10\n",
      "Size: 78 - Number of Components: 4\n",
      "Size: 79 - Number of Components: 7\n",
      "Size: 80 - Number of Components: 14\n",
      "Size: 81 - Number of Components: 11\n",
      "Size: 82 - Number of Components: 6\n",
      "Size: 83 - Number of Components: 7\n",
      "Size: 84 - Number of Components: 3\n",
      "Size: 85 - Number of Components: 6\n",
      "Size: 86 - Number of Components: 7\n",
      "Size: 87 - Number of Components: 10\n",
      "Size: 88 - Number of Components: 2\n",
      "Size: 89 - Number of Components: 2\n",
      "Size: 90 - Number of Components: 4\n",
      "Size: 91 - Number of Components: 7\n",
      "Size: 92 - Number of Components: 10\n",
      "Size: 93 - Number of Components: 9\n",
      "Size: 94 - Number of Components: 6\n",
      "Size: 95 - Number of Components: 5\n",
      "Size: 96 - Number of Components: 3\n",
      "Size: 97 - Number of Components: 8\n",
      "Size: 98 - Number of Components: 3\n",
      "Size: 99 - Number of Components: 2\n",
      "Size: 100 - Number of Components: 9\n",
      "Size: 101 - Number of Components: 1\n",
      "Size: 102 - Number of Components: 5\n",
      "Size: 103 - Number of Components: 6\n",
      "Size: 104 - Number of Components: 2\n",
      "Size: 105 - Number of Components: 7\n",
      "Size: 106 - Number of Components: 3\n",
      "Size: 107 - Number of Components: 5\n",
      "Size: 108 - Number of Components: 3\n",
      "Size: 109 - Number of Components: 2\n",
      "Size: 110 - Number of Components: 1\n",
      "Size: 111 - Number of Components: 1\n",
      "Size: 112 - Number of Components: 4\n",
      "Size: 113 - Number of Components: 8\n",
      "Size: 114 - Number of Components: 2\n",
      "Size: 115 - Number of Components: 5\n",
      "Size: 116 - Number of Components: 3\n",
      "Size: 117 - Number of Components: 3\n",
      "Size: 118 - Number of Components: 9\n",
      "Size: 119 - Number of Components: 3\n",
      "Size: 120 - Number of Components: 4\n",
      "Size: 121 - Number of Components: 3\n",
      "Size: 122 - Number of Components: 2\n",
      "Size: 123 - Number of Components: 4\n",
      "Size: 124 - Number of Components: 3\n",
      "Size: 125 - Number of Components: 3\n",
      "Size: 126 - Number of Components: 4\n",
      "Size: 127 - Number of Components: 4\n",
      "Size: 128 - Number of Components: 4\n",
      "Size: 129 - Number of Components: 4\n",
      "Size: 130 - Number of Components: 3\n",
      "Size: 131 - Number of Components: 1\n",
      "Size: 132 - Number of Components: 5\n",
      "Size: 133 - Number of Components: 1\n",
      "Size: 134 - Number of Components: 4\n",
      "Size: 135 - Number of Components: 1\n",
      "Size: 136 - Number of Components: 2\n",
      "Size: 137 - Number of Components: 3\n",
      "Size: 138 - Number of Components: 4\n",
      "Size: 139 - Number of Components: 3\n",
      "Size: 140 - Number of Components: 5\n",
      "Size: 141 - Number of Components: 3\n",
      "Size: 142 - Number of Components: 3\n",
      "Size: 144 - Number of Components: 4\n",
      "Size: 145 - Number of Components: 2\n",
      "Size: 146 - Number of Components: 1\n",
      "Size: 147 - Number of Components: 5\n",
      "Size: 148 - Number of Components: 2\n",
      "Size: 149 - Number of Components: 3\n",
      "Size: 150 - Number of Components: 3\n",
      "Size: 151 - Number of Components: 3\n",
      "Size: 152 - Number of Components: 2\n",
      "Size: 154 - Number of Components: 2\n",
      "Size: 155 - Number of Components: 3\n",
      "Size: 156 - Number of Components: 2\n",
      "Size: 157 - Number of Components: 2\n",
      "Size: 158 - Number of Components: 2\n",
      "Size: 159 - Number of Components: 1\n",
      "Size: 160 - Number of Components: 1\n",
      "Size: 162 - Number of Components: 2\n",
      "Size: 163 - Number of Components: 1\n",
      "Size: 164 - Number of Components: 2\n",
      "Size: 165 - Number of Components: 3\n",
      "Size: 166 - Number of Components: 1\n",
      "Size: 167 - Number of Components: 1\n",
      "Size: 168 - Number of Components: 1\n",
      "Size: 169 - Number of Components: 3\n",
      "Size: 170 - Number of Components: 1\n",
      "Size: 171 - Number of Components: 2\n",
      "Size: 173 - Number of Components: 1\n",
      "Size: 174 - Number of Components: 1\n",
      "Size: 175 - Number of Components: 7\n",
      "Size: 177 - Number of Components: 4\n",
      "Size: 179 - Number of Components: 3\n",
      "Size: 180 - Number of Components: 3\n",
      "Size: 181 - Number of Components: 3\n",
      "Size: 182 - Number of Components: 1\n",
      "Size: 183 - Number of Components: 2\n",
      "Size: 184 - Number of Components: 1\n",
      "Size: 185 - Number of Components: 4\n",
      "Size: 187 - Number of Components: 2\n",
      "Size: 188 - Number of Components: 2\n",
      "Size: 189 - Number of Components: 2\n",
      "Size: 190 - Number of Components: 1\n",
      "Size: 191 - Number of Components: 1\n",
      "Size: 192 - Number of Components: 2\n",
      "Size: 193 - Number of Components: 3\n",
      "Size: 194 - Number of Components: 1\n",
      "Size: 195 - Number of Components: 2\n",
      "Size: 196 - Number of Components: 1\n",
      "Size: 197 - Number of Components: 2\n",
      "Size: 198 - Number of Components: 1\n",
      "Size: 200 - Number of Components: 2\n",
      "Size: 201 - Number of Components: 2\n",
      "Size: 202 - Number of Components: 1\n",
      "Size: 205 - Number of Components: 1\n",
      "Size: 208 - Number of Components: 1\n",
      "Size: 212 - Number of Components: 2\n",
      "Size: 215 - Number of Components: 1\n",
      "Size: 216 - Number of Components: 1\n",
      "Size: 217 - Number of Components: 1\n",
      "Size: 219 - Number of Components: 1\n",
      "Size: 223 - Number of Components: 1\n",
      "Size: 225 - Number of Components: 1\n",
      "Size: 232 - Number of Components: 1\n",
      "Size: 234 - Number of Components: 1\n",
      "Size: 235 - Number of Components: 2\n",
      "Size: 240 - Number of Components: 1\n",
      "Size: 242 - Number of Components: 3\n",
      "Size: 243 - Number of Components: 1\n",
      "Size: 250 - Number of Components: 1\n",
      "Size: 251 - Number of Components: 1\n",
      "Size: 255 - Number of Components: 1\n",
      "Size: 258 - Number of Components: 1\n",
      "Size: 260 - Number of Components: 1\n",
      "Size: 264 - Number of Components: 2\n",
      "Size: 265 - Number of Components: 1\n",
      "Size: 267 - Number of Components: 1\n",
      "Size: 268 - Number of Components: 1\n",
      "Size: 271 - Number of Components: 1\n",
      "Size: 274 - Number of Components: 1\n",
      "Size: 275 - Number of Components: 1\n",
      "Size: 276 - Number of Components: 1\n",
      "Size: 282 - Number of Components: 1\n",
      "Size: 285 - Number of Components: 1\n",
      "Size: 286 - Number of Components: 1\n",
      "Size: 287 - Number of Components: 1\n",
      "Size: 293 - Number of Components: 2\n",
      "Size: 294 - Number of Components: 1\n",
      "Size: 301 - Number of Components: 2\n",
      "Size: 305 - Number of Components: 1\n",
      "Size: 307 - Number of Components: 1\n",
      "Size: 308 - Number of Components: 1\n",
      "Size: 309 - Number of Components: 1\n",
      "Size: 315 - Number of Components: 1\n",
      "Size: 321 - Number of Components: 1\n",
      "Size: 323 - Number of Components: 2\n",
      "Size: 325 - Number of Components: 1\n",
      "Size: 334 - Number of Components: 1\n",
      "Size: 340 - Number of Components: 1\n",
      "Size: 341 - Number of Components: 1\n",
      "Size: 344 - Number of Components: 1\n",
      "Size: 358 - Number of Components: 1\n",
      "Size: 371 - Number of Components: 1\n",
      "Size: 378 - Number of Components: 2\n",
      "Size: 379 - Number of Components: 1\n",
      "Size: 382 - Number of Components: 1\n",
      "Size: 393 - Number of Components: 1\n",
      "Size: 395 - Number of Components: 1\n",
      "Size: 396 - Number of Components: 1\n",
      "Size: 401 - Number of Components: 1\n",
      "Size: 422 - Number of Components: 1\n",
      "Size: 428 - Number of Components: 1\n",
      "Size: 454 - Number of Components: 1\n",
      "Size: 463 - Number of Components: 1\n",
      "Size: 464 - Number of Components: 1\n",
      "Size: 470 - Number of Components: 2\n",
      "Size: 478 - Number of Components: 1\n",
      "Size: 489 - Number of Components: 1\n",
      "Size: 490 - Number of Components: 1\n",
      "Size: 494 - Number of Components: 1\n",
      "Size: 497 - Number of Components: 1\n",
      "Size: 506 - Number of Components: 1\n",
      "Size: 509 - Number of Components: 1\n",
      "Size: 510 - Number of Components: 1\n",
      "Size: 515 - Number of Components: 1\n",
      "Size: 516 - Number of Components: 1\n",
      "Size: 517 - Number of Components: 1\n",
      "Size: 518 - Number of Components: 1\n",
      "Size: 522 - Number of Components: 1\n",
      "Size: 532 - Number of Components: 1\n",
      "Size: 557 - Number of Components: 1\n",
      "Size: 560 - Number of Components: 1\n",
      "Size: 572 - Number of Components: 1\n",
      "Size: 575 - Number of Components: 1\n",
      "Size: 592 - Number of Components: 1\n",
      "Size: 608 - Number of Components: 2\n",
      "Size: 615 - Number of Components: 1\n",
      "Size: 621 - Number of Components: 1\n",
      "Size: 631 - Number of Components: 1\n",
      "Size: 663 - Number of Components: 1\n",
      "Size: 688 - Number of Components: 1\n",
      "Size: 711 - Number of Components: 1\n",
      "Size: 718 - Number of Components: 1\n",
      "Size: 726 - Number of Components: 1\n",
      "Size: 742 - Number of Components: 1\n",
      "Size: 749 - Number of Components: 1\n",
      "Size: 771 - Number of Components: 1\n",
      "Size: 779 - Number of Components: 1\n",
      "Size: 812 - Number of Components: 1\n",
      "Size: 813 - Number of Components: 1\n",
      "Size: 851 - Number of Components: 1\n",
      "Size: 859 - Number of Components: 1\n",
      "Size: 872 - Number of Components: 1\n",
      "Size: 900 - Number of Components: 1\n",
      "Size: 903 - Number of Components: 1\n",
      "Size: 906 - Number of Components: 1\n",
      "Size: 912 - Number of Components: 1\n",
      "Size: 948 - Number of Components: 1\n",
      "Size: 955 - Number of Components: 1\n",
      "Size: 968 - Number of Components: 1\n",
      "Size: 978 - Number of Components: 1\n",
      "Size: 987 - Number of Components: 1\n",
      "Size: 992 - Number of Components: 2\n",
      "Size: 998 - Number of Components: 1\n",
      "Size: 1001 - Number of Components: 1\n",
      "Size: 1005 - Number of Components: 1\n",
      "Size: 1019 - Number of Components: 1\n",
      "Size: 1028 - Number of Components: 1\n",
      "Size: 1031 - Number of Components: 1\n",
      "Size: 1107 - Number of Components: 1\n",
      "Size: 1450 - Number of Components: 1\n",
      "Size: 1649 - Number of Components: 1\n",
      "Size: 1721 - Number of Components: 1\n",
      "Size: 1831 - Number of Components: 1\n",
      "Size: 1913 - Number of Components: 1\n",
      "Size: 2210 - Number of Components: 1\n",
      "Size: 2302 - Number of Components: 1\n",
      "Size: 2867 - Number of Components: 1\n",
      "Size: 3058 - Number of Components: 1\n",
      "Size: 3246 - Number of Components: 1\n",
      "Size: 4630 - Number of Components: 1\n",
      "Size: 6276 - Number of Components: 1\n",
      "Size: 6551 - Number of Components: 1\n",
      "Size: 9397 - Number of Components: 1\n",
      "Size: 84863741 - Number of Components: 1\n"
     ]
    }
   ],
   "source": [
    "ComponentDist = snap.TIntPrV()\n",
    "snap.GetSccSzCnt(graph, ComponentDist)\n",
    "for comp in ComponentDist:\n",
    "    print(\"Size: %d - Number of Components: %d\" % (comp.GetVal1(), comp.GetVal2()))"
   ]
  },
  {
   "cell_type": "code",
   "execution_count": null,
   "metadata": {},
   "outputs": [],
   "source": []
  }
 ],
 "metadata": {
  "kernelspec": {
   "display_name": "Python [conda env:py27]",
   "language": "python",
   "name": "conda-env-py27-py"
  },
  "language_info": {
   "codemirror_mode": {
    "name": "ipython",
    "version": 2
   },
   "file_extension": ".py",
   "mimetype": "text/x-python",
   "name": "python",
   "nbconvert_exporter": "python",
   "pygments_lexer": "ipython2",
   "version": "2.7.15"
  }
 },
 "nbformat": 4,
 "nbformat_minor": 2
}
