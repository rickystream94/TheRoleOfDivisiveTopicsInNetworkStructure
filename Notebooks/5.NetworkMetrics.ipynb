{
 "cells": [
  {
   "cell_type": "code",
   "execution_count": 1,
   "metadata": {},
   "outputs": [],
   "source": [
    "import snap\n",
    "from snap import TUNGraph\n",
    "import os\n",
    "import sys\n",
    "import operator\n",
    "import pandas as pd\n",
    "import subprocess\n",
    "import numpy as np\n",
    "import csv\n",
    "import matplotlib as mpl\n",
    "from matplotlib import pyplot as plt\n",
    "import seaborn as sns\n",
    "from __future__ import print_function\n",
    "from IPython.display import HTML, display\n",
    "import tabulate\n",
    "\n",
    "# Set Seaborn defaults\n",
    "sns.set()\n",
    "%matplotlib inline\n",
    "pd.set_option(\"display.precision\", 3)\n",
    "mpl.rcParams['figure.dpi'] = 100\n",
    "mpl.rcParams['savefig.dpi'] = 200\n",
    "\n",
    "# Global variables\n",
    "data_dir = \"../data\"\n",
    "pictures_path = os.path.join(\"../Pictures\", \"5.NetworkMetrics\")"
   ]
  },
  {
   "cell_type": "markdown",
   "metadata": {},
   "source": [
    "# 0. Basic Network Properties\n",
    "It's important to understand the core features of the network before digging into low-level analysis through expensive algorithms. From now on, we would be referring to the terminology listed below.\n",
    "\n",
    "We already had obtained the number of nodes $N$ and the number of links $L$ from the previous notebooks, and these two information are enough to calculate the average degree $\\langle K \\rangle$ as $\\langle K \\rangle = \\frac{2L}{N}$, since the network is ***undirected***."
   ]
  },
  {
   "cell_type": "code",
   "execution_count": 2,
   "metadata": {},
   "outputs": [
    {
     "name": "stdout",
     "output_type": "stream",
     "text": [
      "Average Degree is 9.694\n"
     ]
    }
   ],
   "source": [
    "# Calculate network average degree\n",
    "N = 89577277\n",
    "L = 434193958\n",
    "K = 2.0 * L/N\n",
    "print(\"Average Degree is %.3f\" %K)"
   ]
  },
  {
   "cell_type": "markdown",
   "metadata": {},
   "source": [
    "| Number of nodes ($N$) | Number of links ($L$) | Average Degree $\\langle K \\rangle$ |\n",
    "|---|---|---|\n",
    "| 89.577.277 (~90M) | 434.193.958 (~400M) | 9,694 |"
   ]
  },
  {
   "cell_type": "markdown",
   "metadata": {},
   "source": [
    "# 1. Generate undirected graph with SNAP.Py\n",
    "Calculating the network metrics doesn't necessarily require including edge metadata in the graph, therefore **SNAP.Py** comes handy in this case. Let's import the MMR data in an **undirected graph** data structure and build the main network.\n",
    "\n",
    "Since SNAP.Py allows inserting vertices by specifying a **node ID**, I don't need to read the `usernames.csv` file, since all IDs from 0 to $(N-1)$ are existing for sure, where $N=89.577.277$. By the other hand, I may read the edges from the `mmr_encoded_final.csv` file and ignore the edge metadata column including the periods array."
   ]
  },
  {
   "cell_type": "code",
   "execution_count": 3,
   "metadata": {},
   "outputs": [],
   "source": [
    "def read_large_file(file_object):\n",
    "    while True:\n",
    "        data = file_object.readline()\n",
    "        if not data:\n",
    "            break\n",
    "        yield data.rstrip('\\n')\n",
    "\n",
    "# We ignore prop for the moment\n",
    "def process_edge_line(line):\n",
    "    source, target, prop = line.split(',')\n",
    "    return int(source), int(target)\n",
    "\n",
    "def build_mmr_graph():\n",
    "    # Create main graph object\n",
    "    graph = TUNGraph.New()\n",
    "\n",
    "    # First add vertices\n",
    "    print(\"Adding vertices...\")\n",
    "    for i in xrange(0, N):\n",
    "        graph.AddNode(i)\n",
    "    print(\"Done adding vertices, now adding links...\")\n",
    "\n",
    "    # Add links by reading them from MMR data file\n",
    "    with open(os.path.join(data_dir,\"mmr_encoded_final.csv\")) as io:\n",
    "        counter = 0\n",
    "        for line in read_large_file(io):\n",
    "            source, target = process_edge_line(line)\n",
    "            graph.AddEdge(source, target)\n",
    "            counter += 1\n",
    "            if counter % 50000000 == 0:\n",
    "                print(\"Added %d links...\" %counter)\n",
    "        print(\"Done! Total links: %d\" %counter)\n",
    "        assert counter == L\n",
    "    return graph"
   ]
  },
  {
   "cell_type": "code",
   "execution_count": 4,
   "metadata": {},
   "outputs": [
    {
     "name": "stdout",
     "output_type": "stream",
     "text": [
      "Adding vertices...\n",
      "Done adding vertices, now adding links...\n",
      "Added 50000000 links...\n",
      "Added 100000000 links...\n",
      "Added 150000000 links...\n",
      "Added 200000000 links...\n",
      "Added 250000000 links...\n",
      "Added 300000000 links...\n",
      "Added 350000000 links...\n",
      "Added 400000000 links...\n",
      "Done! Total links: 434193958\n",
      "CPU times: user 25min 3s, sys: 14.4 s, total: 25min 17s\n",
      "Wall time: 25min 14s\n"
     ]
    }
   ],
   "source": [
    "%%time\n",
    "graph = build_mmr_graph()"
   ]
  },
  {
   "cell_type": "code",
   "execution_count": 5,
   "metadata": {},
   "outputs": [
    {
     "name": "stdout",
     "output_type": "stream",
     "text": [
      "CPU times: user 24.8 s, sys: 3.19 s, total: 28 s\n",
      "Wall time: 28 s\n"
     ]
    }
   ],
   "source": [
    "%%time\n",
    "# Create binary backup of original MMR graph, for easy re-import\n",
    "FOut = snap.TFOut(\"../data/mmr_original.bin\")\n",
    "graph.Save(FOut)\n",
    "FOut.Flush()"
   ]
  },
  {
   "cell_type": "markdown",
   "metadata": {},
   "source": [
    "Building the whole MMR graph takes ~30 minutes, which is quite reasonable. Let's check how much is the currently consumed memory:"
   ]
  },
  {
   "cell_type": "code",
   "execution_count": 6,
   "metadata": {},
   "outputs": [
    {
     "name": "stdout",
     "output_type": "stream",
     "text": [
      "              total        used        free      shared  buff/cache   available\n",
      "Mem:           125G         16G         43G        108M         65G        108G\n",
      "Swap:           63G        621M         63G\n"
     ]
    }
   ],
   "source": [
    "%%bash\n",
    "free -h"
   ]
  },
  {
   "cell_type": "markdown",
   "metadata": {},
   "source": [
    "The whole graph loaded in memory takes *less than 16GB* of RAM, which is significantly uncomparable with NetworkX's performance."
   ]
  },
  {
   "cell_type": "markdown",
   "metadata": {},
   "source": [
    "# 2. Degree Distribution and Node Degrees\n",
    "SNAP.Py comes with a built-in function to calculate the histogram values needed to plot the degree distribution. The output variable, `DegToCntV`, is a vector of pairs such that the first element indicates the $x$-axis value ($k$ = degree), and the second one the $y$-axis value (number of degree-$k$ nodes). In order to represent $p_k$, which is a probability hence whose values range in the interval $[0,1]$, I have to normalize it: $p_k=\\frac{N_k}{N}$, where $N_k$ is the number of degree-$k$ nodes.\n",
    "\n",
    "The degree distribution represents a core feature for network analysis, because it explains what is the probability $p_k$ that, given a random node, it has degree $k$. Furthermore, $p_k$ determines many network phenomena such as network robustness."
   ]
  },
  {
   "cell_type": "code",
   "execution_count": 7,
   "metadata": {},
   "outputs": [
    {
     "name": "stdout",
     "output_type": "stream",
     "text": [
      "CPU times: user 1.97 s, sys: 4 ms, total: 1.97 s\n",
      "Wall time: 1.97 s\n"
     ]
    }
   ],
   "source": [
    "%%time\n",
    "\n",
    "def calculate_degree_distribution(graph):\n",
    "    DegToCntV = snap.TIntPrV()\n",
    "    snap.GetDegCnt(graph, DegToCntV)\n",
    "    return DegToCntV\n",
    "\n",
    "DegToCntV = calculate_degree_distribution(graph)"
   ]
  },
  {
   "cell_type": "markdown",
   "metadata": {},
   "source": [
    "Execution time above points out the impressive performance of SNAP.Py even with large-scale networks over Neo4j and NetworkX.\n",
    "\n",
    "I hereby plot the degree distribution both in regular scale and logarithmic scale."
   ]
  },
  {
   "cell_type": "code",
   "execution_count": 8,
   "metadata": {},
   "outputs": [],
   "source": [
    "def get_deg_dist_variables_to_plot(DegToCntV):\n",
    "    x = [item.GetVal1() for item in DegToCntV]\n",
    "    y = [item.GetVal2() * 1.0 / N for item in DegToCntV]\n",
    "    print(\"Min Degree: %d\\nMax Degree: %d\\n\" %(min(x), max(x)))\n",
    "    print(\"Min p(k): %.15f\\nMax p(k): %.15f\" %(min(y), max(y)))\n",
    "    return x,y"
   ]
  },
  {
   "cell_type": "code",
   "execution_count": 9,
   "metadata": {},
   "outputs": [
    {
     "name": "stdout",
     "output_type": "stream",
     "text": [
      "Min Degree: 1\n",
      "Max Degree: 41359\n",
      "\n",
      "Min p(k): 0.000000011163545\n",
      "Max p(k): 0.326320502017493\n"
     ]
    }
   ],
   "source": [
    "x, y = get_deg_dist_variables_to_plot(DegToCntV)"
   ]
  },
  {
   "cell_type": "code",
   "execution_count": 10,
   "metadata": {},
   "outputs": [],
   "source": [
    "def plot_degree_distribution(x,y,fig_filename):\n",
    "    plt.figure(figsize=(16,6))\n",
    "\n",
    "    # First subplot: normal axes\n",
    "    plt.subplot(1,2,1)\n",
    "    plt.xlabel(\"K (Degree)\")\n",
    "    plt.ylabel(\"Probability of K-degree\")\n",
    "    plt.plot(x,y,\"r.\")\n",
    "    plt.title(\"Degree Distribution\", fontsize=16)\n",
    "\n",
    "    # Second subplot: logarithmic axes\n",
    "    plt.subplot(1,2,2)\n",
    "    plt.xlabel(\"K (Degree) (log)\")\n",
    "    plt.ylabel(\"Probability of K-degree (log)\")\n",
    "    plt.loglog(x, y, \"r.\")\n",
    "    plt.title(\"Degree Distribution (Logarithmic Axes)\", fontsize=16)\n",
    "    \n",
    "    # Save and show figure\n",
    "    plt.savefig(os.path.join(pictures_path,fig_filename))\n",
    "    plt.show()"
   ]
  },
  {
   "cell_type": "code",
   "execution_count": 11,
   "metadata": {},
   "outputs": [
    {
     "data": {
      "image/png": "[encoded data removed]",
      "text/plain": [
       "<Figure size 1152x432 with 2 Axes>"
      ]
     },
     "metadata": {
      "needs_background": "light"
     },
     "output_type": "display_data"
    }
   ],
   "source": [
    "plot_degree_distribution(x, y, \"degree_distribution_1.png\")"
   ]
  },
  {
   "cell_type": "markdown",
   "metadata": {},
   "source": [
    "At first sight, the distribution plotted with regular scale doesn't seem very meaningful, and the reason is easily arguable: our MMR graph has nodes whose degrees range in $1 \\leq k \\leq 41359$, whereas the values of the probability range in $0 \\lt p_k \\leq 0.326$. By looking at the plot, it's easy to infer that more than ${1/3}$ of the nodes have only one link, and the probability of having more than one link decreases exponentially. Here the logarithmic scale becomes convenient, because it better highlights this phenomenon which is typical of those networks known as ***scale-free networks***. A scale-free network, indeed, is defined as such when its degree distribution follows (at least asymptotically) a **power law**."
   ]
  },
  {
   "cell_type": "markdown",
   "metadata": {},
   "source": [
    "## 2.1 Usernames with highest $k$\n",
    "I wanted to investigate which Twitter usernames actually correspond to those nodes with extremely high degree."
   ]
  },
  {
   "cell_type": "code",
   "execution_count": 12,
   "metadata": {},
   "outputs": [
    {
     "name": "stdout",
     "output_type": "stream",
     "text": [
      "The node with the highest degree has ID 54790022\n"
     ]
    }
   ],
   "source": [
    "n_id_max_deg = snap.GetMxDegNId(graph)\n",
    "print(\"The node with the highest degree has ID %d\" %n_id_max_deg)"
   ]
  },
  {
   "cell_type": "code",
   "execution_count": 13,
   "metadata": {},
   "outputs": [
    {
     "name": "stdout",
     "output_type": "stream",
     "text": [
      "cocanomc,54790022\n"
     ]
    }
   ],
   "source": [
    "%%bash\n",
    "../scripts/get_username.sh 54790022"
   ]
  },
  {
   "cell_type": "markdown",
   "metadata": {},
   "source": [
    "SNAP.Py comes with a built-in function to calculate the In/Out degree of every node in the graph (`GetNodeInDegV` / `GetNodeOutDegV`). Since our graph is undirected, any function would suit fine."
   ]
  },
  {
   "cell_type": "code",
   "execution_count": 36,
   "metadata": {},
   "outputs": [
    {
     "name": "stdout",
     "output_type": "stream",
     "text": [
      "CPU times: user 3min 25s, sys: 9.43 s, total: 3min 34s\n",
      "Wall time: 3min 28s\n"
     ]
    }
   ],
   "source": [
    "%%time\n",
    "\n",
    "InDegV = snap.TIntPrV()\n",
    "snap.GetNodeInDegV(graph, InDegV)\n",
    "node_degrees = [(item.GetVal1(), item.GetVal2()) for item in InDegV]\n",
    "\n",
    "# Sort list by degree\n",
    "node_degrees = sorted(node_degrees, key=operator.itemgetter(1))"
   ]
  },
  {
   "cell_type": "markdown",
   "metadata": {},
   "source": [
    "Let's show who are the top 20 nodes with the highest degree and try to figure out if any of them correspond to any well known Twitter username. The previously created `get_username.sh` bash script is convenient when I need to lookup for a single value, but running it several times might be time consuming. Hereby the function that should be preferred when multiple lookups are needed:"
   ]
  },
  {
   "cell_type": "code",
   "execution_count": 141,
   "metadata": {},
   "outputs": [],
   "source": [
    "# %load ../scripts/def_get_multiple_usernames.py\n",
    "def get_multiple_usernames(ids):\n",
    "    # Convert ID to line number by adding 1\n",
    "    arg = \";\".join([str(el + 1) + \"p\" for el in ids])\n",
    "\n",
    "    #Invoke shell script that finds the occurrences\n",
    "    p = subprocess.Popen(['../scripts/get_usernames.sh', arg], stdout=subprocess.PIPE)\n",
    "    output = p.communicate()[0]\n",
    "\n",
    "    id_to_username_dict = {line.split(',')[1]:line.split(',')[0] for line in output.split('\\n') if line != \"\"}\n",
    "    return id_to_username_dict"
   ]
  },
  {
   "cell_type": "code",
   "execution_count": 150,
   "metadata": {},
   "outputs": [
    {
     "name": "stdout",
     "output_type": "stream",
     "text": [
      "CPU times: user 0 ns, sys: 392 ms, total: 392 ms\n",
      "Wall time: 15.7 s\n"
     ]
    }
   ],
   "source": [
    "%%time\n",
    "data = sorted(node_degrees[-20:], key=operator.itemgetter(1), reverse=True)\n",
    "node_ids = [el[0] for el in data]\n",
    "id_to_username_dict = get_multiple_usernames(node_ids)"
   ]
  },
  {
   "cell_type": "code",
   "execution_count": 210,
   "metadata": {},
   "outputs": [],
   "source": [
    "def show_data_as_dataframe(data, column_labels):\n",
    "    df = pd.DataFrame(data, columns=column_labels)\n",
    "    display(df)\n",
    "    return df"
   ]
  },
  {
   "cell_type": "code",
   "execution_count": 151,
   "metadata": {},
   "outputs": [
    {
     "data": {
      "text/html": [
       "<div>\n",
       "<style scoped>\n",
       "    .dataframe tbody tr th:only-of-type {\n",
       "        vertical-align: middle;\n",
       "    }\n",
       "\n",
       "    .dataframe tbody tr th {\n",
       "        vertical-align: top;\n",
       "    }\n",
       "\n",
       "    .dataframe thead th {\n",
       "        text-align: right;\n",
       "    }\n",
       "</style>\n",
       "<table border=\"1\" class=\"dataframe\">\n",
       "  <thead>\n",
       "    <tr style=\"text-align: right;\">\n",
       "      <th></th>\n",
       "      <th>Username</th>\n",
       "      <th>Node ID (Encoding)</th>\n",
       "      <th>Degree</th>\n",
       "    </tr>\n",
       "  </thead>\n",
       "  <tbody>\n",
       "    <tr>\n",
       "      <th>0</th>\n",
       "      <td>cocanomc</td>\n",
       "      <td>54790022</td>\n",
       "      <td>41359</td>\n",
       "    </tr>\n",
       "    <tr>\n",
       "      <th>1</th>\n",
       "      <td>telkomsel</td>\n",
       "      <td>61888</td>\n",
       "      <td>33341</td>\n",
       "    </tr>\n",
       "    <tr>\n",
       "      <th>2</th>\n",
       "      <td>stccare</td>\n",
       "      <td>272020</td>\n",
       "      <td>31578</td>\n",
       "    </tr>\n",
       "    <tr>\n",
       "      <th>3</th>\n",
       "      <td>virginmedia</td>\n",
       "      <td>113519</td>\n",
       "      <td>30738</td>\n",
       "    </tr>\n",
       "    <tr>\n",
       "      <th>4</th>\n",
       "      <td>xboxsupport</td>\n",
       "      <td>112622</td>\n",
       "      <td>27853</td>\n",
       "    </tr>\n",
       "    <tr>\n",
       "      <th>5</th>\n",
       "      <td>americanair</td>\n",
       "      <td>38831</td>\n",
       "      <td>25676</td>\n",
       "    </tr>\n",
       "    <tr>\n",
       "      <th>6</th>\n",
       "      <td>atviassist</td>\n",
       "      <td>13925</td>\n",
       "      <td>23270</td>\n",
       "    </tr>\n",
       "    <tr>\n",
       "      <th>7</th>\n",
       "      <td>tesco</td>\n",
       "      <td>34364</td>\n",
       "      <td>20606</td>\n",
       "    </tr>\n",
       "    <tr>\n",
       "      <th>8</th>\n",
       "      <td>btcare</td>\n",
       "      <td>46286</td>\n",
       "      <td>19399</td>\n",
       "    </tr>\n",
       "    <tr>\n",
       "      <th>9</th>\n",
       "      <td>indosatcare</td>\n",
       "      <td>64396</td>\n",
       "      <td>18911</td>\n",
       "    </tr>\n",
       "    <tr>\n",
       "      <th>10</th>\n",
       "      <td>amazonhelp</td>\n",
       "      <td>5513254</td>\n",
       "      <td>17815</td>\n",
       "    </tr>\n",
       "    <tr>\n",
       "      <th>11</th>\n",
       "      <td>erpestar</td>\n",
       "      <td>59012597</td>\n",
       "      <td>17097</td>\n",
       "    </tr>\n",
       "    <tr>\n",
       "      <th>12</th>\n",
       "      <td>tacobell</td>\n",
       "      <td>667666</td>\n",
       "      <td>16651</td>\n",
       "    </tr>\n",
       "    <tr>\n",
       "      <th>13</th>\n",
       "      <td>movistararg</td>\n",
       "      <td>13932</td>\n",
       "      <td>16205</td>\n",
       "    </tr>\n",
       "    <tr>\n",
       "      <th>14</th>\n",
       "      <td>telkomcare</td>\n",
       "      <td>735473</td>\n",
       "      <td>16169</td>\n",
       "    </tr>\n",
       "    <tr>\n",
       "      <th>15</th>\n",
       "      <td>alphabetsuccess</td>\n",
       "      <td>368890</td>\n",
       "      <td>15918</td>\n",
       "    </tr>\n",
       "    <tr>\n",
       "      <th>16</th>\n",
       "      <td>ee</td>\n",
       "      <td>219882</td>\n",
       "      <td>15770</td>\n",
       "    </tr>\n",
       "    <tr>\n",
       "      <th>17</th>\n",
       "      <td>shawnabner</td>\n",
       "      <td>29181</td>\n",
       "      <td>15750</td>\n",
       "    </tr>\n",
       "    <tr>\n",
       "      <th>18</th>\n",
       "      <td>shoutrts</td>\n",
       "      <td>59007420</td>\n",
       "      <td>15579</td>\n",
       "    </tr>\n",
       "    <tr>\n",
       "      <th>19</th>\n",
       "      <td>trafficvalencia</td>\n",
       "      <td>18127</td>\n",
       "      <td>15190</td>\n",
       "    </tr>\n",
       "  </tbody>\n",
       "</table>\n",
       "</div>"
      ],
      "text/plain": [
       "           Username  Node ID (Encoding)  Degree\n",
       "0          cocanomc            54790022   41359\n",
       "1         telkomsel               61888   33341\n",
       "2           stccare              272020   31578\n",
       "3       virginmedia              113519   30738\n",
       "4       xboxsupport              112622   27853\n",
       "5       americanair               38831   25676\n",
       "6        atviassist               13925   23270\n",
       "7             tesco               34364   20606\n",
       "8            btcare               46286   19399\n",
       "9       indosatcare               64396   18911\n",
       "10       amazonhelp             5513254   17815\n",
       "11         erpestar            59012597   17097\n",
       "12         tacobell              667666   16651\n",
       "13      movistararg               13932   16205\n",
       "14       telkomcare              735473   16169\n",
       "15  alphabetsuccess              368890   15918\n",
       "16               ee              219882   15770\n",
       "17       shawnabner               29181   15750\n",
       "18         shoutrts            59007420   15579\n",
       "19  trafficvalencia               18127   15190"
      ]
     },
     "execution_count": 151,
     "metadata": {},
     "output_type": "execute_result"
    }
   ],
   "source": [
    "# Show data formatted as DataFrame\n",
    "data = [[id_to_username_dict[str(el[0])], el[0], el[1]] for el in data]\n",
    "show_data_as_dataframe(data, [\"Username\", \"Node ID (Encoding)\", \"Degree\"])"
   ]
  },
  {
   "cell_type": "markdown",
   "metadata": {},
   "source": [
    "The results shown above show one of the first issues with the collected data, since it was not subject to any data-cleaning process before the analysis. By individually checking all the Twitter usernames listed above, it's easy to infer that they all correspond to famous, large-scale companies that use Twitter as a social media platform to get in touch with their customers, often through *customer technical support* inquiries. This explains their huge degree value (as of now, they're basically **network hubs**), but at the same times it represents a downside for our analysis since their connections are more likely not to be very meaningful.\n",
    "\n",
    "Mutual relationships between such companies and the users ideally won't be featured by any controversial/partisan dispute or particular ideology represented by the hashtags I'll be investigating on. Therefore, the most intuitive step to acknowledge is *getting rid of them*. However, this shouldn't actually be limited only to the top 20 users with top degree, but to all potential users that fall within the category identified above.\n",
    "\n",
    "It's better and cleaner to keep the data cleanup process in a separate notebook, therefore I could just dump the *node degrees* from the current notebook to a file and re-use it from the new notebook:"
   ]
  },
  {
   "cell_type": "code",
   "execution_count": 241,
   "metadata": {},
   "outputs": [],
   "source": [
    "with open(\"../data/temp/node_degrees.csv\", \"w\") as out:\n",
    "    for el in node_degrees:\n",
    "        out.write(\",\".join([str(el[0]), str(el[1])]) + \"\\n\")"
   ]
  },
  {
   "cell_type": "markdown",
   "metadata": {},
   "source": [
    "# 3. Perform Data Cleanup\n",
    "The goal of this section is to re-calculate the basic network properties after excluding from the analysis the nodes that correspond to the usernames labeled as noisy data in the **5.1** notebook. Let's first proceed by removing the noisy data from the MMR graph.\n",
    "\n",
    "**WARNING**: Unfortunately, after a first iteration of this section, I noticed that a few customer service usernames were not captured by the cleanup. I had to manually clean them up here. The usernames are:\n",
    "~~~\n",
    "\"trafficvalencia\",\"traffictachira\",\"trafficaracas\",\"trafficmiranda\",\"trafficlara\",\"trafficmcbo\",\"trafficguayana\",\"trafficmerida\",\"trafficpuerto\",\"skyhelpteam\",\"telmexsoluciona\",\"virgintrains\",\"claroargentina\",\"directvservicio\"\n",
    "~~~"
   ]
  },
  {
   "cell_type": "code",
   "execution_count": 14,
   "metadata": {},
   "outputs": [],
   "source": [
    "excluded_usernames_df = pd.read_csv(\"../data/data_cleanup/final_excluded_usernames.csv\")"
   ]
  },
  {
   "cell_type": "code",
   "execution_count": 15,
   "metadata": {},
   "outputs": [
    {
     "name": "stdout",
     "output_type": "stream",
     "text": [
      "Nodes to be deleted: 1143\n",
      "Current number of nodes in graph: 89577277\n",
      "Current number of edges in graph: 434193958\n"
     ]
    }
   ],
   "source": [
    "print(\"Nodes to be deleted: {0}\".format(len(excluded_usernames_df.index)))\n",
    "print(\"Current number of nodes in graph: {0}\".format(graph.GetNodes()))\n",
    "print(\"Current number of edges in graph: {0}\".format(graph.GetEdges()))"
   ]
  },
  {
   "cell_type": "code",
   "execution_count": 16,
   "metadata": {},
   "outputs": [],
   "source": [
    "nodes_to_remove = snap.TIntV()\n",
    "for nId in excluded_usernames_df[\"encoding\"]:\n",
    "    nodes_to_remove.Add(nId)"
   ]
  },
  {
   "cell_type": "code",
   "execution_count": 17,
   "metadata": {},
   "outputs": [],
   "source": [
    "snap.DelNodes(graph, nodes_to_remove)"
   ]
  },
  {
   "cell_type": "markdown",
   "metadata": {},
   "source": [
    "I should also remove the **0-degree nodes** that resulted from the above removal:"
   ]
  },
  {
   "cell_type": "code",
   "execution_count": 18,
   "metadata": {},
   "outputs": [
    {
     "name": "stdout",
     "output_type": "stream",
     "text": [
      "Number of 0-degree nodes: 287575\n"
     ]
    }
   ],
   "source": [
    "print(\"Number of 0-degree nodes: {0}\".format(snap.CntDegNodes(graph,0)))\n",
    "snap.DelZeroDegNodes(graph)"
   ]
  },
  {
   "cell_type": "code",
   "execution_count": 19,
   "metadata": {},
   "outputs": [
    {
     "name": "stdout",
     "output_type": "stream",
     "text": [
      "Hardcoded usernames to delete: 14\n",
      "Number of 0-degree nodes: 33599\n"
     ]
    }
   ],
   "source": [
    "# Repeat same steps for the hardcoded companies\n",
    "hardcoded_encodings_to_delete = [18127,29860,60762,24455,34688,69424,262384,252793,6354,19636,3484,485913,145352,126192]\n",
    "print(\"Hardcoded usernames to delete: {0}\".format(len(hardcoded_encodings_to_delete)))\n",
    "\n",
    "# Collect nodes to remove\n",
    "nodes_to_remove = snap.TIntV()\n",
    "for nId in hardcoded_encodings_to_delete:\n",
    "    nodes_to_remove.Add(nId)\n",
    "    \n",
    "# Delete nodes\n",
    "snap.DelNodes(graph, nodes_to_remove)\n",
    "\n",
    "# Delete the 0-degree nodes as a result of the above deletion\n",
    "print(\"Number of 0-degree nodes: {0}\".format(snap.CntDegNodes(graph,0)))\n",
    "snap.DelZeroDegNodes(graph)"
   ]
  },
  {
   "cell_type": "code",
   "execution_count": 20,
   "metadata": {},
   "outputs": [],
   "source": [
    "# Backup the cleaned MMR graph\n",
    "FOut = snap.TFOut(\"../data/mmr_cleaned.bin\")\n",
    "graph.Save(FOut)\n",
    "FOut.Flush()\n",
    "\n",
    "# Use snippet below to re-import the graph\n",
    "'''\n",
    "FIn = snap.TFIn(\"../data/mmr_cleaned.bin\")\n",
    "graph = snap.TUNGraph.Load(FIn)\n",
    "'''"
   ]
  },
  {
   "cell_type": "code",
   "execution_count": 2,
   "metadata": {},
   "outputs": [],
   "source": [
    "FIn = snap.TFIn(\"../data/mmr_cleaned.bin\")\n",
    "graph = snap.TUNGraph.Load(FIn)"
   ]
  },
  {
   "cell_type": "markdown",
   "metadata": {},
   "source": [
    "# 4. Updated Basic Network Properties (After Data Cleanup)\n",
    "Let's recalculate the updated basic network properties:"
   ]
  },
  {
   "cell_type": "code",
   "execution_count": 3,
   "metadata": {},
   "outputs": [],
   "source": [
    "# Re-set basic network properties\n",
    "N = graph.GetNodes()\n",
    "L = graph.GetEdges()\n",
    "K = 2.0 * L/N"
   ]
  },
  {
   "cell_type": "code",
   "execution_count": 4,
   "metadata": {},
   "outputs": [
    {
     "name": "stdout",
     "output_type": "stream",
     "text": [
      "Number of nodes in graph (after cleanup): 89254946\n",
      "Number of edges in graph (after cleanup): 432872203\n",
      "Average degree (after cleanup): 9.700\n"
     ]
    }
   ],
   "source": [
    "print(\"Number of nodes in graph (after cleanup): {0}\".format(graph.GetNodes()))\n",
    "print(\"Number of edges in graph (after cleanup): {0}\".format(graph.GetEdges()))\n",
    "print(\"Average degree (after cleanup): %.3f\" %K)"
   ]
  },
  {
   "cell_type": "markdown",
   "metadata": {},
   "source": [
    "| Property | Before Cleanup | After Cleanup | Difference | Difference (Percentage)\n",
    "|---|---|---|---|---|\n",
    "| **Average Degree $\\langle K \\rangle$** | 9,694 | 9,7 | ~0.005 | ~0,05%\n",
    "| **Number of nodes $N$** | 89.577.277 | 89.254.946 | **322.331** | 0,359%\n",
    "| **Number of edges $L$** | 434.193.958 | 432.872.203 | **1.321.755** | 0,30%"
   ]
  },
  {
   "cell_type": "markdown",
   "metadata": {},
   "source": [
    "The updated network properties shown above indicate that the consequence of the removal slightly impacted them, but let's see how this is now reflected to the **degree distribution**."
   ]
  },
  {
   "cell_type": "markdown",
   "metadata": {},
   "source": [
    "# 5. Degree Distribution (After Data Cleanup)"
   ]
  },
  {
   "cell_type": "markdown",
   "metadata": {},
   "source": [
    "Let's first show the top 10 nodes by degree, to actually verify that no more unwanted usernames are present:"
   ]
  },
  {
   "cell_type": "code",
   "execution_count": 373,
   "metadata": {},
   "outputs": [],
   "source": [
    "InDegV = snap.TIntPrV()\n",
    "snap.GetNodeInDegV(graph, InDegV)\n",
    "node_degrees = [(item.GetVal1(), item.GetVal2()) for item in InDegV]"
   ]
  },
  {
   "cell_type": "code",
   "execution_count": 374,
   "metadata": {},
   "outputs": [],
   "source": [
    "def cast_df_to_original_types(df, columns, df_types_dict):\n",
    "    for column in columns:\n",
    "        df[column] = df[column].astype(df_types_dict[column])"
   ]
  },
  {
   "cell_type": "code",
   "execution_count": 375,
   "metadata": {},
   "outputs": [],
   "source": [
    "node_degrees_df = pd.DataFrame(node_degrees,columns=[\"encoding\",\"degree\"])\n",
    "cast_df_to_original_types(node_degrees_df, [\"degree\",\"encoding\"],{\"degree\": np.uint16, \"encoding\": np.uint32})\n",
    "node_degrees_df.sort_values(by=\"degree\",ascending=False, inplace=True)"
   ]
  },
  {
   "cell_type": "code",
   "execution_count": 385,
   "metadata": {},
   "outputs": [],
   "source": [
    "id_to_username_dict = get_multiple_usernames(node_degrees_df[\"encoding\"][:10])"
   ]
  },
  {
   "cell_type": "code",
   "execution_count": 386,
   "metadata": {},
   "outputs": [],
   "source": [
    "temp_df = pd.DataFrame(id_to_username_dict.items(),columns=[\"encoding\",\"username\"])\n",
    "cast_df_to_original_types(temp_df, [\"username\",\"encoding\"],{\"username\": np.str, \"encoding\": np.uint32})"
   ]
  },
  {
   "cell_type": "code",
   "execution_count": 387,
   "metadata": {},
   "outputs": [
    {
     "data": {
      "text/html": [
       "<div>\n",
       "<style scoped>\n",
       "    .dataframe tbody tr th:only-of-type {\n",
       "        vertical-align: middle;\n",
       "    }\n",
       "\n",
       "    .dataframe tbody tr th {\n",
       "        vertical-align: top;\n",
       "    }\n",
       "\n",
       "    .dataframe thead th {\n",
       "        text-align: right;\n",
       "    }\n",
       "</style>\n",
       "<table border=\"1\" class=\"dataframe\">\n",
       "  <thead>\n",
       "    <tr style=\"text-align: right;\">\n",
       "      <th></th>\n",
       "      <th>encoding</th>\n",
       "      <th>degree</th>\n",
       "      <th>username</th>\n",
       "    </tr>\n",
       "  </thead>\n",
       "  <tbody>\n",
       "    <tr>\n",
       "      <th>0</th>\n",
       "      <td>368890</td>\n",
       "      <td>15914</td>\n",
       "      <td>alphabetsuccess</td>\n",
       "    </tr>\n",
       "    <tr>\n",
       "      <th>1</th>\n",
       "      <td>29181</td>\n",
       "      <td>15750</td>\n",
       "      <td>shawnabner</td>\n",
       "    </tr>\n",
       "    <tr>\n",
       "      <th>2</th>\n",
       "      <td>59007420</td>\n",
       "      <td>15579</td>\n",
       "      <td>shoutrts</td>\n",
       "    </tr>\n",
       "    <tr>\n",
       "      <th>3</th>\n",
       "      <td>49612</td>\n",
       "      <td>14488</td>\n",
       "      <td>bcci</td>\n",
       "    </tr>\n",
       "    <tr>\n",
       "      <th>4</th>\n",
       "      <td>76124</td>\n",
       "      <td>13076</td>\n",
       "      <td>brucevh</td>\n",
       "    </tr>\n",
       "    <tr>\n",
       "      <th>5</th>\n",
       "      <td>83689</td>\n",
       "      <td>12358</td>\n",
       "      <td>donplaticador</td>\n",
       "    </tr>\n",
       "    <tr>\n",
       "      <th>6</th>\n",
       "      <td>69434050</td>\n",
       "      <td>12124</td>\n",
       "      <td>onrpe</td>\n",
       "    </tr>\n",
       "    <tr>\n",
       "      <th>7</th>\n",
       "      <td>47536</td>\n",
       "      <td>11628</td>\n",
       "      <td>chucknellis</td>\n",
       "    </tr>\n",
       "    <tr>\n",
       "      <th>8</th>\n",
       "      <td>86006071</td>\n",
       "      <td>11094</td>\n",
       "      <td>kitkatjapan</td>\n",
       "    </tr>\n",
       "    <tr>\n",
       "      <th>9</th>\n",
       "      <td>180670</td>\n",
       "      <td>10942</td>\n",
       "      <td>applebees</td>\n",
       "    </tr>\n",
       "  </tbody>\n",
       "</table>\n",
       "</div>"
      ],
      "text/plain": [
       "   encoding  degree         username\n",
       "0    368890   15914  alphabetsuccess\n",
       "1     29181   15750       shawnabner\n",
       "2  59007420   15579         shoutrts\n",
       "3     49612   14488             bcci\n",
       "4     76124   13076          brucevh\n",
       "5     83689   12358    donplaticador\n",
       "6  69434050   12124            onrpe\n",
       "7     47536   11628      chucknellis\n",
       "8  86006071   11094      kitkatjapan\n",
       "9    180670   10942        applebees"
      ]
     },
     "execution_count": 387,
     "metadata": {},
     "output_type": "execute_result"
    }
   ],
   "source": [
    "temp_df = node_degrees_df.merge(temp_df, on=\"encoding\")\n",
    "temp_df.head(10)"
   ]
  },
  {
   "cell_type": "markdown",
   "metadata": {},
   "source": [
    "Compared to the highest degree nodes before the cleanup, now it's clear that the top nodes are not related to customer support / corporate accounts, and the highest degree value also dropped from ~40K to ~16K. I may now compute and plot the updated degree distribution."
   ]
  },
  {
   "cell_type": "code",
   "execution_count": 5,
   "metadata": {},
   "outputs": [
    {
     "ename": "NameError",
     "evalue": "name 'calculate_degree_distribution' is not defined",
     "output_type": "error",
     "traceback": [
      "\u001b[0;31m---------------------------------------------------------------------------\u001b[0m",
      "\u001b[0;31mNameError\u001b[0m                                 Traceback (most recent call last)",
      "\u001b[0;32m<ipython-input-5-7fb5bbd687cd>\u001b[0m in \u001b[0;36m<module>\u001b[0;34m()\u001b[0m\n\u001b[0;32m----> 1\u001b[0;31m \u001b[0mDegToCntV\u001b[0m \u001b[0;34m=\u001b[0m \u001b[0mcalculate_degree_distribution\u001b[0m\u001b[0;34m(\u001b[0m\u001b[0mgraph\u001b[0m\u001b[0;34m)\u001b[0m\u001b[0;34m\u001b[0m\u001b[0m\n\u001b[0m\u001b[1;32m      2\u001b[0m \u001b[0mx\u001b[0m\u001b[0;34m,\u001b[0m \u001b[0my\u001b[0m \u001b[0;34m=\u001b[0m \u001b[0mget_deg_dist_variables_to_plot\u001b[0m\u001b[0;34m(\u001b[0m\u001b[0mDegToCntV\u001b[0m\u001b[0;34m)\u001b[0m\u001b[0;34m\u001b[0m\u001b[0m\n",
      "\u001b[0;31mNameError\u001b[0m: name 'calculate_degree_distribution' is not defined"
     ]
    }
   ],
   "source": [
    "DegToCntV = calculate_degree_distribution(graph)\n",
    "x, y = get_deg_dist_variables_to_plot(DegToCntV)"
   ]
  },
  {
   "cell_type": "code",
   "execution_count": 392,
   "metadata": {},
   "outputs": [
    {
     "data": {
      "image/png": "[encoded data removed]",
      "text/plain": [
       "<Figure size 1600x600 with 2 Axes>"
      ]
     },
     "metadata": {
      "needs_background": "light"
     },
     "output_type": "display_data"
    }
   ],
   "source": [
    "plot_degree_distribution(x, y, \"degree_distribution_2.png\")"
   ]
  },
  {
   "cell_type": "markdown",
   "metadata": {},
   "source": [
    "The cleanup process made the upper boundary way lower than before though."
   ]
  },
  {
   "cell_type": "markdown",
   "metadata": {},
   "source": [
    "# 6. Connected Components\n",
    "Due to the nature and the size of the network, it's very unlikely that it's fully connected. Worth reminding that in the context of *undirected* networks, it's enough to simply say *connected* rather than *strongly/weakly* connected."
   ]
  },
  {
   "cell_type": "code",
   "execution_count": 24,
   "metadata": {},
   "outputs": [
    {
     "name": "stdout",
     "output_type": "stream",
     "text": [
      "Is the network connected? False\n"
     ]
    }
   ],
   "source": [
    "print(\"Is the network connected? {0}\".format(snap.IsConnected(graph)))"
   ]
  },
  {
   "cell_type": "markdown",
   "metadata": {},
   "source": [
    "It would be interesting to plot the **distribution of the connected components sizes**. The obtained distribution would consist of a vector of pairs, where in each pair the first element indicates the *size* of the components and the second one the number of components of that size."
   ]
  },
  {
   "cell_type": "code",
   "execution_count": 39,
   "metadata": {},
   "outputs": [],
   "source": [
    "def get_connected_components_distribution(graph):\n",
    "    ComponentDist = snap.TIntPrV()\n",
    "    snap.GetSccSzCnt(graph, ComponentDist)\n",
    "    return ComponentDist\n",
    "\n",
    "def plot_connected_components_distribution(distribution, fig_filename, remove_biggest_component=False):\n",
    "    sizes_x = [el.GetVal1() for el in distribution]\n",
    "    frequency_y = [el.GetVal2() for el in distribution]\n",
    "    if remove_biggest_component:\n",
    "        sizes_x = sizes_x[:-1]\n",
    "        frequency_y = frequency_y[:-1]\n",
    "    plt.figure(figsize=(16,6))\n",
    "\n",
    "    # First subplot: normal axes\n",
    "    plt.subplot(1,2,1)\n",
    "    plt.xlabel(\"Component Size\")\n",
    "    plt.ylabel(\"Frequency\")\n",
    "    plt.plot(sizes_x,frequency_y,\"r.\")\n",
    "    plt.title(\"Components Sizes Distribution\", fontsize=16)\n",
    "\n",
    "    # Second subplot: logarithmic axes\n",
    "    plt.subplot(1,2,2)\n",
    "    plt.xlabel(\"Component Size (log)\")\n",
    "    plt.ylabel(\"Frequency (log)\")\n",
    "    plt.loglog(sizes_x, frequency_y, \"r.\")\n",
    "    plt.title(\"Components Sizes Distribution (Logarithmic Axes)\", fontsize=16)\n",
    "    \n",
    "    # Save and show figure\n",
    "    plt.savefig(os.path.join(pictures_path,fig_filename))\n",
    "    plt.show()"
   ]
  },
  {
   "cell_type": "code",
   "execution_count": 26,
   "metadata": {},
   "outputs": [],
   "source": [
    "ComponentDist = get_connected_components_distribution(graph)"
   ]
  },
  {
   "cell_type": "code",
   "execution_count": 40,
   "metadata": {},
   "outputs": [
    {
     "data": {
      "image/png": "[encoded data removed]",
      "text/plain": [
       "<Figure size 1152x432 with 2 Axes>"
      ]
     },
     "metadata": {
      "needs_background": "light"
     },
     "output_type": "display_data"
    }
   ],
   "source": [
    "plot_connected_components_distribution(ComponentDist, \"connected_components_distribution.png\")"
   ]
  },
  {
   "cell_type": "markdown",
   "metadata": {},
   "source": [
    "The above results shows that the network is mostly connected, with the biggest connected component that has size in the order of $10^8$, which means it basically contains the vast majority of the nodes of the network. The biggest component is indeed an outlier in the above plots, so I may just provide an alternative visualization where I filter it out to better see the size distribution of the smaller components."
   ]
  },
  {
   "cell_type": "code",
   "execution_count": 41,
   "metadata": {},
   "outputs": [
    {
     "data": {
      "image/png": "[encoded data removed]",
      "text/plain": [
       "<Figure size 1152x432 with 2 Axes>"
      ]
     },
     "metadata": {
      "needs_background": "light"
     },
     "output_type": "display_data"
    }
   ],
   "source": [
    "plot_connected_components_distribution(ComponentDist, \"connected_components_distribution_no_biggest.png\", remove_biggest_component=True)"
   ]
  },
  {
   "cell_type": "code",
   "execution_count": 56,
   "metadata": {},
   "outputs": [],
   "source": [
    "# Get size of biggest component\n",
    "total_nodes_biggest_component = 84510806 # From the distribution above\n",
    "total_nodes_minor_components = sum([el.GetVal1() * el.GetVal2() for el in ComponentDist if el.GetVal1() != total_nodes_biggest_component])\n",
    "assert total_nodes_minor_components == N - total_nodes_biggest_component"
   ]
  },
  {
   "cell_type": "code",
   "execution_count": 62,
   "metadata": {},
   "outputs": [
    {
     "name": "stdout",
     "output_type": "stream",
     "text": [
      "Total nodes in minor components: 4744140\n",
      "Relative size (in percentage) compared to the total: 5.32%\n"
     ]
    }
   ],
   "source": [
    "print(\"Total nodes in minor components: %d\" % total_nodes_minor_components)\n",
    "print(\"Relative size (in percentage) compared to the total: %.2f%%\" % (((1.0*total_nodes_minor_components)/N)*100))"
   ]
  },
  {
   "cell_type": "markdown",
   "metadata": {},
   "source": [
    "According to the above plot, it's clear that the size of a component is indirectly proportional to the amount of nodes it contains.\n",
    "\n",
    "If we look at the number of components of size 2, which is $comp_2=1.747.089$, we would realize that there are $2*comp_2$ nodes (**~3,91%** of the total nodes in the network, which is relatively high) such that for example nodes $x$ and $y$ are connected to each other and not to any other node in the network. By the other side, the biggest connected component, $comp_{84510806}$, includes **84.510.806** nodes (**~94,7%** of the total). Because of this, I consider reasonable enough to restrict our analysis to the biggest connected component, and filter out all the smaller ones. Furthermore, there's a jump of **4 magnitude orders** (in base 10) from the size of the biggest connected component to the size of second biggest one. Overall, all the components beside the biggest one represent a total amount of nodes which is represented by:\n",
    "$$comp_2*2 + comp_3*3 + comp_4*4 + \\dots + comp_{9397}*9397 = 4.744.140$$\n",
    "\n",
    "This means that *only* **5.32%** of the nodes in the whole network are part of smaller components, out of which **~37%** are part of a component of size 2. With these stats, it's safe enough to state that the smaller components may be excluded from the analysis without significant consequences.\n",
    "\n",
    "Let's therefore **restrict our main network to the biggest connected component**."
   ]
  },
  {
   "cell_type": "markdown",
   "metadata": {},
   "source": [
    "## 6.1 Biggest Connected Component Properties\n",
    "Now that we have a *connected* graph, let's see how do the basic network properties change:"
   ]
  },
  {
   "cell_type": "code",
   "execution_count": 64,
   "metadata": {},
   "outputs": [],
   "source": [
    "graph_connected = snap.GetMxScc(graph)"
   ]
  },
  {
   "cell_type": "code",
   "execution_count": 71,
   "metadata": {},
   "outputs": [],
   "source": [
    "# Backup Max Connected Component\n",
    "FOut = snap.TFOut(\"../data/mmr_max_connected_component.bin\")\n",
    "graph_connected.Save(FOut)\n",
    "FOut.Flush()\n",
    "\n",
    "# Load again from below snippet\n",
    "'''\n",
    "FIn = snap.TFIn(\"../data/mmr_max_connected_component.bin\")\n",
    "graph_connected = snap.TUNGraph.Load(FIn)\n",
    "'''"
   ]
  },
  {
   "cell_type": "code",
   "execution_count": 3,
   "metadata": {},
   "outputs": [],
   "source": [
    "N_maxcc = graph_connected.GetNodes()\n",
    "L_maxcc = graph_connected.GetEdges()\n",
    "K_maxcc = (2.0 * L_maxcc)/N_maxcc"
   ]
  },
  {
   "cell_type": "code",
   "execution_count": 4,
   "metadata": {},
   "outputs": [
    {
     "name": "stdout",
     "output_type": "stream",
     "text": [
      "Nodes in Max connected component: 84510806\n",
      "Edges in Max connected component: 427935499\n",
      "Average degree in Max connected component: 10.127\n"
     ]
    }
   ],
   "source": [
    "print(\"Nodes in Max connected component: %d\" %(graph_connected.GetNodes()))\n",
    "print(\"Edges in Max connected component: %d\" %(graph_connected.GetEdges()))\n",
    "print(\"Average degree in Max connected component: %.3f\" % K_maxcc)"
   ]
  },
  {
   "cell_type": "markdown",
   "metadata": {},
   "source": [
    "| Property | Full MMR (Before Cleanup) | Full MMR (After Cleanup) | Max Connected Component | Difference\\* | Difference (Percentage)\n",
    "|---|---|---|---|---|---|\n",
    "| **Average Degree $\\langle K \\rangle$** | 9,694 | 9,7 | 10,127 | ~0.433 | ~4,46%\n",
    "| **Number of nodes $N$** | 89.577.277 | 89.254.946 | 84.510.806 | **5.066.471** | ~5,65%\n",
    "| **Number of edges $L$** | 434.193.958 | 432.872.203 | 427.935.499 | **6.258.459** | ~1,44%\n",
    "\n",
    "\\* *It's meant to be the difference of the property compared to the original graph*.\n",
    "\n",
    "As we can see from the above progression, only the number of nodes and the average degree have been affected by a slightly meaningful change, whereas the number of edges is still very high compared to the original graph."
   ]
  }
 ],
 "metadata": {
  "kernelspec": {
   "display_name": "Python [conda env:py27]",
   "language": "python",
   "name": "conda-env-py27-py"
  },
  "language_info": {
   "codemirror_mode": {
    "name": "ipython",
    "version": 2
   },
   "file_extension": ".py",
   "mimetype": "text/x-python",
   "name": "python",
   "nbconvert_exporter": "python",
   "pygments_lexer": "ipython2",
   "version": "2.7.15"
  }
 },
 "nbformat": 4,
 "nbformat_minor": 2
}
