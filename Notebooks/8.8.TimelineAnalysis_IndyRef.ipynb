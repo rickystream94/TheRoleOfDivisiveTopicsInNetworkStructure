{
 "cells": [
  {
   "cell_type": "markdown",
   "metadata": {},
   "source": [
    "# Timeline Analysis\n",
    "Scope of the following analysis is to investigate whether the previously analyzed hashtags actually play a significant role in the underlying network structure: does a specific topic (hashtag) strengthen ties or increases diversity within Twitter users? The idea is therefore to build a metric and extract this information by combining mutual interactions Tweets and the network structure that represented the sole core of the analysis so far."
   ]
  },
  {
   "cell_type": "code",
   "execution_count": 1,
   "metadata": {},
   "outputs": [],
   "source": [
    "import snap\n",
    "from snap import TUNGraph\n",
    "import os\n",
    "import sys\n",
    "import operator\n",
    "import pandas as pd\n",
    "import subprocess\n",
    "import numpy as np\n",
    "import csv\n",
    "import matplotlib as mpl\n",
    "from matplotlib import pyplot as plt\n",
    "from matplotlib import dates as mdates\n",
    "import seaborn as sns\n",
    "from __future__ import print_function\n",
    "from IPython.display import HTML, display\n",
    "import tabulate\n",
    "import json\n",
    "import datetime\n",
    "from datetime import timedelta\n",
    "from dateutil.relativedelta import relativedelta\n",
    "from collections import Counter\n",
    "import re\n",
    "from itertools import combinations\n",
    "\n",
    "# Set Seaborn defaults\n",
    "sns.set()\n",
    "%matplotlib inline\n",
    "pd.set_option(\"display.precision\", 6)\n",
    "mpl.rcParams['figure.dpi'] = 100\n",
    "mpl.rcParams['savefig.dpi'] = 200\n",
    "mpl.rcParams['figure.autolayout'] = True\n",
    "\n",
    "# Global variables\n",
    "data_dir = \"../data\"\n",
    "pictures_path = os.path.join(\"../Pictures\", \"8.TimelineAnalysis\")\n",
    "tweets_path = \"../lib/GetOldTweets-python/out/completed\""
   ]
  },
  {
   "cell_type": "markdown",
   "metadata": {},
   "source": [
    "## 0. Creation of Model Classes\n",
    "First of all, I might need to be a bit more concerned about performance since some Tweets files are pretty big (a few GBs), therefore I'd like to optimize some operations as much as possible.\n",
    "- Since Tweets come naturally with a unique ID, I may create a `Tweet` custom type;\n",
    "- Class `Interaction` representing an interaction between 2 users."
   ]
  },
  {
   "cell_type": "code",
   "execution_count": 2,
   "metadata": {},
   "outputs": [],
   "source": [
    "class Tweet:\n",
    "    def __init__(self, tweet_id, users, tweet_dict):\n",
    "        self.tweet_id = tweet_id\n",
    "        self.tweet_dict = tweet_dict\n",
    "        self.users = users\n",
    "        \n",
    "    def __eq__(self, other):\n",
    "        if isinstance(other, Tweet):\n",
    "            return self.tweet_id == other.tweet_id\n",
    "        return NotImplemented\n",
    "    \n",
    "    def __ne__(self, other):\n",
    "        x = self.__eq__(other)\n",
    "        if x is not NotImplemented:\n",
    "            return not x\n",
    "        return NotImplemented\n",
    "    \n",
    "    def __hash__(self):\n",
    "        return hash(self.tweet_id)"
   ]
  },
  {
   "cell_type": "code",
   "execution_count": 3,
   "metadata": {},
   "outputs": [],
   "source": [
    "class Interaction:        \n",
    "    def __init__(self, source, target, periods=None):\n",
    "        self.source = source\n",
    "        self.target = target\n",
    "        self.periods = periods\n",
    "        \n",
    "    def __eq__(self, other):\n",
    "        if isinstance(other, Interaction):\n",
    "            return (self.source == other.source and self.target == other.target) or (self.source == other.target and self.target == other.source)\n",
    "        return NotImplemented\n",
    "    \n",
    "    def __ne__(self, other):\n",
    "        x = self.__eq__(other)\n",
    "        if x is not NotImplemented:\n",
    "            return not x\n",
    "        return NotImplemented\n",
    "    \n",
    "    def __hash__(self):\n",
    "        return hash(hash(self.source)+hash(self.target))"
   ]
  },
  {
   "cell_type": "markdown",
   "metadata": {},
   "source": [
    "Hereby a collection of some utility functions:"
   ]
  },
  {
   "cell_type": "code",
   "execution_count": 4,
   "metadata": {},
   "outputs": [],
   "source": [
    "def get_relative_percentage(n,m):\n",
    "    return n*100.0/m\n",
    "\n",
    "def load_graph_from_backup(filename):\n",
    "    FIn = snap.TFIn(\"../data/\"+filename+\".bin\")\n",
    "    graph = snap.TUNGraph.Load(FIn)\n",
    "    return graph\n",
    "\n",
    "def read_large_file(file_object):\n",
    "    while True:\n",
    "        data = file_object.readline()\n",
    "        if not data:\n",
    "            break\n",
    "        yield data.rstrip('\\n')\n",
    "        \n",
    "def process_edge_line(line):\n",
    "    source, target, prop = line.split(',')\n",
    "    return int(source), int(target), [int(p) for p in prop.split(';')]\n",
    "        \n",
    "def get_usernames_from_basic_tweet_info(hashtag, tweet):\n",
    "    usernames = set()\n",
    "    # (1): Has tweeted using hashtag\n",
    "    if hashtag in [h.lower() for h in tweet[\"entities\"][\"hashtags\"]]:\n",
    "        usernames.add(tweet[\"user\"][\"screen_name\"].lower())\n",
    "\n",
    "    # (2): Has been mentioned / replied to\n",
    "    if not tweet[\"in_reply_to_screen_name\"] is None:\n",
    "        usernames.add(tweet[\"in_reply_to_screen_name\"].lower())\n",
    "    for mentions in tweet[\"entities\"][\"user_mentions\"]:\n",
    "        usernames.add(mentions[\"screen_name\"].lower())\n",
    "    return usernames\n",
    "\n",
    "def get_tweet_usernames(hashtag, tweet):\n",
    "    usernames = set()\n",
    "    usernames.update(get_usernames_from_basic_tweet_info(hashtag, tweet))\n",
    "    if \"retweeted_status\" in tweet:\n",
    "        usernames.update(get_usernames_from_basic_tweet_info(hashtag, tweet[\"retweeted_status\"]))\n",
    "    if \"quoted_status\" in tweet:\n",
    "        usernames.update(get_usernames_from_basic_tweet_info(hashtag, tweet[\"quoted_status\"]))\n",
    "    return usernames\n",
    "\n",
    "def extract_hashtag_usernames(hashtag, tweets):\n",
    "    hashtag_usernames = set()\n",
    "    for tweet in tweets:\n",
    "        hashtag_usernames.update(tweet.users)\n",
    "    print(\"Total unique usernames involved in '#%s' hashtag conversations from %d tweets: %d\" %(hashtag, len(tweets), len(hashtag_usernames)))\n",
    "    return hashtag_usernames\n",
    "\n",
    "# Extract tweets given a specific hashtag\n",
    "def get_tweets(hashtag):\n",
    "    tweets_filename = os.path.join(tweets_path,\"tweets_#\" + hashtag + \"_2013-09-01_2016-12-31.json\")\n",
    "    tweets = set()\n",
    "    with open(tweets_filename) as fin:\n",
    "        for line in read_large_file(fin):\n",
    "            tweet_dict = json.loads(line)\n",
    "            tweet_id = np.int64(tweet_dict[\"id_str\"])\n",
    "            tweet_users = get_tweet_usernames(hashtag, tweet_dict)\n",
    "            tweets.add(Tweet(tweet_id, tweet_users, tweet_dict))\n",
    "    print(\"Imported %d tweets from %s\" %(len(tweets),tweets_filename))\n",
    "    return tweets"
   ]
  },
  {
   "cell_type": "markdown",
   "metadata": {},
   "source": [
    "## 1. Extract Tweets: filter usernames and tweets"
   ]
  },
  {
   "cell_type": "code",
   "execution_count": 5,
   "metadata": {},
   "outputs": [],
   "source": [
    "hashtag = \"indyref\"\n",
    "hashtag_full = \"#IndyRef\""
   ]
  },
  {
   "cell_type": "markdown",
   "metadata": {},
   "source": [
    "Load hashtag subgraph from backup:"
   ]
  },
  {
   "cell_type": "code",
   "execution_count": 6,
   "metadata": {},
   "outputs": [],
   "source": [
    "hashtag_subgraph = load_graph_from_backup(\"mmr_subgraph_\"+hashtag)"
   ]
  },
  {
   "cell_type": "code",
   "execution_count": 7,
   "metadata": {},
   "outputs": [
    {
     "name": "stdout",
     "output_type": "stream",
     "text": [
      "Imported 1178737 tweets from ../lib/GetOldTweets-python/out/completed/tweets_#indyref_2013-09-01_2016-12-31.json\n",
      "CPU times: user 52.6 s, sys: 3.32 s, total: 55.9 s\n",
      "Wall time: 55.9 s\n"
     ]
    }
   ],
   "source": [
    "%%time\n",
    "tweets = get_tweets(hashtag)"
   ]
  },
  {
   "cell_type": "code",
   "execution_count": 8,
   "metadata": {},
   "outputs": [
    {
     "name": "stdout",
     "output_type": "stream",
     "text": [
      "Total unique usernames involved in '#indyref' hashtag conversations from 1178737 tweets: 121578\n"
     ]
    }
   ],
   "source": [
    "hashtag_usernames = extract_hashtag_usernames(hashtag, tweets)"
   ]
  },
  {
   "cell_type": "code",
   "execution_count": 9,
   "metadata": {},
   "outputs": [
    {
     "name": "stdout",
     "output_type": "stream",
     "text": [
      "CPU times: user 3min 19s, sys: 916 ms, total: 3min 20s\n",
      "Wall time: 3min 20s\n"
     ]
    }
   ],
   "source": [
    "%%time\n",
    "usernames_to_id_dict = {}\n",
    "with open(\"../data/usernames.csv\") as usernames_f:\n",
    "    for line in read_large_file(usernames_f):\n",
    "        username = line.split(',')[0]\n",
    "        encoding = int(line.split(',')[1])\n",
    "        # Add to dict only if username is part of the hashtag subgraph\n",
    "        if hashtag_subgraph.IsNode(encoding):\n",
    "            usernames_to_id_dict[username] = encoding"
   ]
  },
  {
   "cell_type": "markdown",
   "metadata": {},
   "source": [
    "The next step is then to filter out those Tweets whose involved users are not part of the corresponding $H$ subgraph (i.e. if none of its involved users represents a node in $H$). The keys of the `usernames_to_id_dict` dictionary correspond to all the usernames of the $H$ subgraph, so it should be sufficient to check the following criteria:\n",
    "- A tweet is kept if any of its involved users is part of the $H$ subgraph:"
   ]
  },
  {
   "cell_type": "code",
   "execution_count": 10,
   "metadata": {},
   "outputs": [
    {
     "name": "stdout",
     "output_type": "stream",
     "text": [
      "Number of filtered tweets (with at least 1 involved user within MMR graph data): 997110 (84.59% of 1178737 total tweets)\n"
     ]
    }
   ],
   "source": [
    "tweets_filtered = filter(lambda t: any(map(lambda u: u in usernames_to_id_dict, t.users)), tweets)\n",
    "print(\"Number of filtered tweets (with at least 1 involved user within MMR graph data): %d (%.2f%% of %d total tweets)\" %(len(tweets_filtered), get_relative_percentage(len(tweets_filtered), len(tweets)), len(tweets)))"
   ]
  },
  {
   "cell_type": "markdown",
   "metadata": {},
   "source": [
    "According to the above: among 1.178.737 total tweets, **997.110** involve at least one user that is part of the MMR graph data."
   ]
  },
  {
   "cell_type": "code",
   "execution_count": 11,
   "metadata": {},
   "outputs": [
    {
     "name": "stdout",
     "output_type": "stream",
     "text": [
      "Total number of unique users involved in 997110 filtered tweets: 106152 (87.31% of 121578 total usernames)\n"
     ]
    }
   ],
   "source": [
    "def count_tot_users(tweets):\n",
    "    tot_users = set()\n",
    "    for t in tweets:\n",
    "        tot_users.update(t.users)\n",
    "    return len(tot_users)\n",
    "\n",
    "tot_users = count_tot_users(tweets_filtered)\n",
    "print(\"Total number of unique users involved in %d filtered tweets: %d (%.2f%% of %d total usernames)\" %(len(tweets_filtered), tot_users, get_relative_percentage(tot_users, len(hashtag_usernames)), len(hashtag_usernames)))"
   ]
  },
  {
   "cell_type": "markdown",
   "metadata": {},
   "source": [
    "**Note**: Of course the number of users involved in the filtered tweets may be higher than the actual number of nodes in $H$, since each Tweet might include users that have not been captured by the MMR data. The reason why I decided to apply this filtering step, is that the users collected by the MMR graph data hide some extra interaction properties, e.g. 2 users are related if their total number of interactions within a 3 months period is sufficiently high, so that it represents a constant interaction over time and not a random one. This way we would already remove a lot of noisy/irrelevant data and speed up the algorithms in the next steps."
   ]
  },
  {
   "cell_type": "markdown",
   "metadata": {},
   "source": [
    "Hereby a summary of the filtering steps and the statistics about the collected tweets and usernames:\n",
    "\n",
    "| Property | Before Filtering | After Filtering | % After/Before\n",
    "|---|---|---|---|\n",
    "| **Total Collected Tweets** | 1.178.737 | 997.110 | 84,59%\n",
    "| **Total Unique Usernames** | 121.578 | 106.152 | 87,31%"
   ]
  },
  {
   "cell_type": "markdown",
   "metadata": {},
   "source": [
    "## 2. User Interactions Statistics\n",
    "I could first show some statistics about the interactions."
   ]
  },
  {
   "cell_type": "markdown",
   "metadata": {},
   "source": [
    "### 2.1 Top Interactions\n",
    "I may show which are the interactions that occurred the most throughout the years we're considering. It's convenient to create a dictionary with $K \\rightarrow V$ pairs where $K$ = interaction, $V$ = count (count how many times two people have interacted with each other within the whole timeline period we're considering).\n",
    "\n",
    "Collecting the interactions count dictionary may be done linearly with a single pass, and the steps are hereby summarized:\n",
    "1. For each tweet, create a list of all possible pairs of its involved users and for each of them create an `Interaction` instance;\n",
    "2. Add a new entry to the dictionary with value 1, if the interaction is not existing;\n",
    "3. If the interaction is already existing, increment its value. "
   ]
  },
  {
   "cell_type": "code",
   "execution_count": 12,
   "metadata": {},
   "outputs": [],
   "source": [
    "def create_interactions_count_dict(tweets):\n",
    "    interactions_count = {}\n",
    "    for t in tweets:\n",
    "        pairs = list(combinations(t.users, 2))\n",
    "        for p in pairs:\n",
    "            i = Interaction(p[0], p[1])\n",
    "            if i in interactions_count:\n",
    "                interactions_count[i] += 1\n",
    "            else:\n",
    "                interactions_count[i] = 1\n",
    "    return interactions_count"
   ]
  },
  {
   "cell_type": "code",
   "execution_count": 13,
   "metadata": {},
   "outputs": [],
   "source": [
    "interactions_count = create_interactions_count_dict(tweets_filtered)"
   ]
  },
  {
   "cell_type": "markdown",
   "metadata": {},
   "source": [
    "Let's visualize the results conveniently through a DataFrame, by first sorting it with descending counts (I only show the top interactions e.g. whose count value are at least 100):"
   ]
  },
  {
   "cell_type": "code",
   "execution_count": 14,
   "metadata": {},
   "outputs": [],
   "source": [
    "interactions_df = pd.DataFrame(data=[(el[0].source, el[0].target, el[1]) for el in interactions_count.items()], columns=[\"Source\", \"Target\", \"Count\"])"
   ]
  },
  {
   "cell_type": "code",
   "execution_count": 15,
   "metadata": {},
   "outputs": [
    {
     "data": {
      "text/html": [
       "<div>\n",
       "<style scoped>\n",
       "    .dataframe tbody tr th:only-of-type {\n",
       "        vertical-align: middle;\n",
       "    }\n",
       "\n",
       "    .dataframe tbody tr th {\n",
       "        vertical-align: top;\n",
       "    }\n",
       "\n",
       "    .dataframe thead th {\n",
       "        text-align: right;\n",
       "    }\n",
       "</style>\n",
       "<table border=\"1\" class=\"dataframe\">\n",
       "  <thead>\n",
       "    <tr style=\"text-align: right;\">\n",
       "      <th></th>\n",
       "      <th>Source</th>\n",
       "      <th>Target</th>\n",
       "      <th>Count</th>\n",
       "    </tr>\n",
       "  </thead>\n",
       "  <tbody>\n",
       "    <tr>\n",
       "      <th>405923</th>\n",
       "      <td>hsnewsbreak</td>\n",
       "      <td>ianiwrussell</td>\n",
       "      <td>1942</td>\n",
       "    </tr>\n",
       "    <tr>\n",
       "      <th>173674</th>\n",
       "      <td>uk_together</td>\n",
       "      <td>yesscotland</td>\n",
       "      <td>1567</td>\n",
       "    </tr>\n",
       "    <tr>\n",
       "      <th>114238</th>\n",
       "      <td>stevie_leary</td>\n",
       "      <td>thesnp</td>\n",
       "      <td>1079</td>\n",
       "    </tr>\n",
       "    <tr>\n",
       "      <th>470031</th>\n",
       "      <td>thescotsman</td>\n",
       "      <td>pd_politics</td>\n",
       "      <td>1073</td>\n",
       "    </tr>\n",
       "    <tr>\n",
       "      <th>449390</th>\n",
       "      <td>glasgowmurphy</td>\n",
       "      <td>jimmurphymp</td>\n",
       "      <td>1043</td>\n",
       "    </tr>\n",
       "    <tr>\n",
       "      <th>504682</th>\n",
       "      <td>neiledwardlovat</td>\n",
       "      <td>scotpensions</td>\n",
       "      <td>1027</td>\n",
       "    </tr>\n",
       "    <tr>\n",
       "      <th>395382</th>\n",
       "      <td>ianiwrussell</td>\n",
       "      <td>citizentommy</td>\n",
       "      <td>985</td>\n",
       "    </tr>\n",
       "    <tr>\n",
       "      <th>338965</th>\n",
       "      <td>alexsalmond</td>\n",
       "      <td>thesnp</td>\n",
       "      <td>886</td>\n",
       "    </tr>\n",
       "    <tr>\n",
       "      <th>508169</th>\n",
       "      <td>thesnp</td>\n",
       "      <td>nicolasturgeon</td>\n",
       "      <td>878</td>\n",
       "    </tr>\n",
       "    <tr>\n",
       "      <th>151842</th>\n",
       "      <td>newsnetscotland</td>\n",
       "      <td>jakimclaren</td>\n",
       "      <td>868</td>\n",
       "    </tr>\n",
       "    <tr>\n",
       "      <th>354748</th>\n",
       "      <td>alexsalmond</td>\n",
       "      <td>nicolasturgeon</td>\n",
       "      <td>839</td>\n",
       "    </tr>\n",
       "    <tr>\n",
       "      <th>72479</th>\n",
       "      <td>historywoman</td>\n",
       "      <td>strongerunited1</td>\n",
       "      <td>760</td>\n",
       "    </tr>\n",
       "    <tr>\n",
       "      <th>449310</th>\n",
       "      <td>theheraldpaper</td>\n",
       "      <td>pd_politics</td>\n",
       "      <td>696</td>\n",
       "    </tr>\n",
       "    <tr>\n",
       "      <th>538002</th>\n",
       "      <td>1gkh</td>\n",
       "      <td>newsnetscotland</td>\n",
       "      <td>692</td>\n",
       "    </tr>\n",
       "    <tr>\n",
       "      <th>172946</th>\n",
       "      <td>yesscotland</td>\n",
       "      <td>strongerunited1</td>\n",
       "      <td>648</td>\n",
       "    </tr>\n",
       "    <tr>\n",
       "      <th>74815</th>\n",
       "      <td>fivemillionqs</td>\n",
       "      <td>dundeeuniv</td>\n",
       "      <td>631</td>\n",
       "    </tr>\n",
       "    <tr>\n",
       "      <th>518378</th>\n",
       "      <td>blairmcdougall</td>\n",
       "      <td>uk_together</td>\n",
       "      <td>582</td>\n",
       "    </tr>\n",
       "    <tr>\n",
       "      <th>79318</th>\n",
       "      <td>scottishlabour</td>\n",
       "      <td>starbright164</td>\n",
       "      <td>577</td>\n",
       "    </tr>\n",
       "    <tr>\n",
       "      <th>413693</th>\n",
       "      <td>sunscotnational</td>\n",
       "      <td>newsundayherald</td>\n",
       "      <td>554</td>\n",
       "    </tr>\n",
       "    <tr>\n",
       "      <th>174626</th>\n",
       "      <td>hyvast</td>\n",
       "      <td>yesscotland</td>\n",
       "      <td>543</td>\n",
       "    </tr>\n",
       "    <tr>\n",
       "      <th>379576</th>\n",
       "      <td>philgry</td>\n",
       "      <td>bbcscotlandnews</td>\n",
       "      <td>529</td>\n",
       "    </tr>\n",
       "    <tr>\n",
       "      <th>439765</th>\n",
       "      <td>historywoman</td>\n",
       "      <td>2351onthelist</td>\n",
       "      <td>519</td>\n",
       "    </tr>\n",
       "    <tr>\n",
       "      <th>226678</th>\n",
       "      <td>yesscotland</td>\n",
       "      <td>thesnp</td>\n",
       "      <td>513</td>\n",
       "    </tr>\n",
       "    <tr>\n",
       "      <th>412652</th>\n",
       "      <td>scotsoutlaw</td>\n",
       "      <td>rpmcgee</td>\n",
       "      <td>512</td>\n",
       "    </tr>\n",
       "    <tr>\n",
       "      <th>147860</th>\n",
       "      <td>wotanson</td>\n",
       "      <td>bbcscotlandnews</td>\n",
       "      <td>467</td>\n",
       "    </tr>\n",
       "    <tr>\n",
       "      <th>107276</th>\n",
       "      <td>j4cobite</td>\n",
       "      <td>stevesayers1</td>\n",
       "      <td>454</td>\n",
       "    </tr>\n",
       "    <tr>\n",
       "      <th>8638</th>\n",
       "      <td>clickma</td>\n",
       "      <td>bbcscotlandnews</td>\n",
       "      <td>452</td>\n",
       "    </tr>\n",
       "    <tr>\n",
       "      <th>424118</th>\n",
       "      <td>bbcscotlandnews</td>\n",
       "      <td>stvnews</td>\n",
       "      <td>451</td>\n",
       "    </tr>\n",
       "    <tr>\n",
       "      <th>536946</th>\n",
       "      <td>pd_politics</td>\n",
       "      <td>telegraph</td>\n",
       "      <td>450</td>\n",
       "    </tr>\n",
       "    <tr>\n",
       "      <th>17838</th>\n",
       "      <td>alexsalmond</td>\n",
       "      <td>david_cameron</td>\n",
       "      <td>440</td>\n",
       "    </tr>\n",
       "    <tr>\n",
       "      <th>...</th>\n",
       "      <td>...</td>\n",
       "      <td>...</td>\n",
       "      <td>...</td>\n",
       "    </tr>\n",
       "    <tr>\n",
       "      <th>540407</th>\n",
       "      <td>naefear</td>\n",
       "      <td>scotindydebate</td>\n",
       "      <td>106</td>\n",
       "    </tr>\n",
       "    <tr>\n",
       "      <th>298790</th>\n",
       "      <td>alexsalmond</td>\n",
       "      <td>j4cobite</td>\n",
       "      <td>106</td>\n",
       "    </tr>\n",
       "    <tr>\n",
       "      <th>407775</th>\n",
       "      <td>uk_together</td>\n",
       "      <td>nicolasturgeon</td>\n",
       "      <td>105</td>\n",
       "    </tr>\n",
       "    <tr>\n",
       "      <th>82735</th>\n",
       "      <td>uk_together</td>\n",
       "      <td>larkinthemorn</td>\n",
       "      <td>105</td>\n",
       "    </tr>\n",
       "    <tr>\n",
       "      <th>181309</th>\n",
       "      <td>scottishlabour</td>\n",
       "      <td>bbcscotlandnews</td>\n",
       "      <td>105</td>\n",
       "    </tr>\n",
       "    <tr>\n",
       "      <th>518485</th>\n",
       "      <td>equatoragency</td>\n",
       "      <td>heraldscotland</td>\n",
       "      <td>105</td>\n",
       "    </tr>\n",
       "    <tr>\n",
       "      <th>79221</th>\n",
       "      <td>thesnp</td>\n",
       "      <td>pd_politics</td>\n",
       "      <td>104</td>\n",
       "    </tr>\n",
       "    <tr>\n",
       "      <th>63677</th>\n",
       "      <td>tartangladbach</td>\n",
       "      <td>uk_together</td>\n",
       "      <td>104</td>\n",
       "    </tr>\n",
       "    <tr>\n",
       "      <th>77623</th>\n",
       "      <td>davemball</td>\n",
       "      <td>strongerunited1</td>\n",
       "      <td>103</td>\n",
       "    </tr>\n",
       "    <tr>\n",
       "      <th>178089</th>\n",
       "      <td>kiltr</td>\n",
       "      <td>cca_glasgow</td>\n",
       "      <td>103</td>\n",
       "    </tr>\n",
       "    <tr>\n",
       "      <th>356543</th>\n",
       "      <td>gerryhassan</td>\n",
       "      <td>scottishreview</td>\n",
       "      <td>103</td>\n",
       "    </tr>\n",
       "    <tr>\n",
       "      <th>317958</th>\n",
       "      <td>uk_together</td>\n",
       "      <td>phantompower14</td>\n",
       "      <td>103</td>\n",
       "    </tr>\n",
       "    <tr>\n",
       "      <th>216862</th>\n",
       "      <td>eddireader</td>\n",
       "      <td>strongerunited1</td>\n",
       "      <td>103</td>\n",
       "    </tr>\n",
       "    <tr>\n",
       "      <th>309572</th>\n",
       "      <td>yeswestlothian</td>\n",
       "      <td>bellacaledonia</td>\n",
       "      <td>103</td>\n",
       "    </tr>\n",
       "    <tr>\n",
       "      <th>81420</th>\n",
       "      <td>uk_together</td>\n",
       "      <td>flashgrim</td>\n",
       "      <td>102</td>\n",
       "    </tr>\n",
       "    <tr>\n",
       "      <th>235028</th>\n",
       "      <td>wingsscotland</td>\n",
       "      <td>scotindydebate</td>\n",
       "      <td>102</td>\n",
       "    </tr>\n",
       "    <tr>\n",
       "      <th>171575</th>\n",
       "      <td>unitetheunion</td>\n",
       "      <td>starbright164</td>\n",
       "      <td>102</td>\n",
       "    </tr>\n",
       "    <tr>\n",
       "      <th>501888</th>\n",
       "      <td>bbcnews</td>\n",
       "      <td>ronixact</td>\n",
       "      <td>102</td>\n",
       "    </tr>\n",
       "    <tr>\n",
       "      <th>309803</th>\n",
       "      <td>thesnp</td>\n",
       "      <td>scottiemcclue</td>\n",
       "      <td>102</td>\n",
       "    </tr>\n",
       "    <tr>\n",
       "      <th>112451</th>\n",
       "      <td>brigadoongent</td>\n",
       "      <td>strongerunited1</td>\n",
       "      <td>102</td>\n",
       "    </tr>\n",
       "    <tr>\n",
       "      <th>49391</th>\n",
       "      <td>pd_politics</td>\n",
       "      <td>bbcscotlandnews</td>\n",
       "      <td>102</td>\n",
       "    </tr>\n",
       "    <tr>\n",
       "      <th>66151</th>\n",
       "      <td>scotlandsfuture</td>\n",
       "      <td>j4cobite</td>\n",
       "      <td>102</td>\n",
       "    </tr>\n",
       "    <tr>\n",
       "      <th>352013</th>\n",
       "      <td>indyscotevents</td>\n",
       "      <td>yeslocal</td>\n",
       "      <td>101</td>\n",
       "    </tr>\n",
       "    <tr>\n",
       "      <th>471073</th>\n",
       "      <td>tammcturk</td>\n",
       "      <td>yesenl</td>\n",
       "      <td>101</td>\n",
       "    </tr>\n",
       "    <tr>\n",
       "      <th>97835</th>\n",
       "      <td>smabdn</td>\n",
       "      <td>blairmcdougall</td>\n",
       "      <td>101</td>\n",
       "    </tr>\n",
       "    <tr>\n",
       "      <th>434714</th>\n",
       "      <td>youtube</td>\n",
       "      <td>soupcruncher</td>\n",
       "      <td>101</td>\n",
       "    </tr>\n",
       "    <tr>\n",
       "      <th>247211</th>\n",
       "      <td>uk_together</td>\n",
       "      <td>chrisdarroch2</td>\n",
       "      <td>100</td>\n",
       "    </tr>\n",
       "    <tr>\n",
       "      <th>45869</th>\n",
       "      <td>severincarrell</td>\n",
       "      <td>guardian</td>\n",
       "      <td>100</td>\n",
       "    </tr>\n",
       "    <tr>\n",
       "      <th>377708</th>\n",
       "      <td>bbcjohnbeattie</td>\n",
       "      <td>bbcradioscot</td>\n",
       "      <td>100</td>\n",
       "    </tr>\n",
       "    <tr>\n",
       "      <th>415711</th>\n",
       "      <td>historywoman</td>\n",
       "      <td>j4cobite</td>\n",
       "      <td>100</td>\n",
       "    </tr>\n",
       "  </tbody>\n",
       "</table>\n",
       "<p>340 rows × 3 columns</p>\n",
       "</div>"
      ],
      "text/plain": [
       "                 Source           Target  Count\n",
       "405923      hsnewsbreak     ianiwrussell   1942\n",
       "173674      uk_together      yesscotland   1567\n",
       "114238     stevie_leary           thesnp   1079\n",
       "470031      thescotsman      pd_politics   1073\n",
       "449390    glasgowmurphy      jimmurphymp   1043\n",
       "504682  neiledwardlovat     scotpensions   1027\n",
       "395382     ianiwrussell     citizentommy    985\n",
       "338965      alexsalmond           thesnp    886\n",
       "508169           thesnp   nicolasturgeon    878\n",
       "151842  newsnetscotland      jakimclaren    868\n",
       "354748      alexsalmond   nicolasturgeon    839\n",
       "72479      historywoman  strongerunited1    760\n",
       "449310   theheraldpaper      pd_politics    696\n",
       "538002             1gkh  newsnetscotland    692\n",
       "172946      yesscotland  strongerunited1    648\n",
       "74815     fivemillionqs       dundeeuniv    631\n",
       "518378   blairmcdougall      uk_together    582\n",
       "79318    scottishlabour    starbright164    577\n",
       "413693  sunscotnational  newsundayherald    554\n",
       "174626           hyvast      yesscotland    543\n",
       "379576          philgry  bbcscotlandnews    529\n",
       "439765     historywoman    2351onthelist    519\n",
       "226678      yesscotland           thesnp    513\n",
       "412652      scotsoutlaw          rpmcgee    512\n",
       "147860         wotanson  bbcscotlandnews    467\n",
       "107276         j4cobite     stevesayers1    454\n",
       "8638            clickma  bbcscotlandnews    452\n",
       "424118  bbcscotlandnews          stvnews    451\n",
       "536946      pd_politics        telegraph    450\n",
       "17838       alexsalmond    david_cameron    440\n",
       "...                 ...              ...    ...\n",
       "540407          naefear   scotindydebate    106\n",
       "298790      alexsalmond         j4cobite    106\n",
       "407775      uk_together   nicolasturgeon    105\n",
       "82735       uk_together    larkinthemorn    105\n",
       "181309   scottishlabour  bbcscotlandnews    105\n",
       "518485    equatoragency   heraldscotland    105\n",
       "79221            thesnp      pd_politics    104\n",
       "63677    tartangladbach      uk_together    104\n",
       "77623         davemball  strongerunited1    103\n",
       "178089            kiltr      cca_glasgow    103\n",
       "356543      gerryhassan   scottishreview    103\n",
       "317958      uk_together   phantompower14    103\n",
       "216862       eddireader  strongerunited1    103\n",
       "309572   yeswestlothian   bellacaledonia    103\n",
       "81420       uk_together        flashgrim    102\n",
       "235028    wingsscotland   scotindydebate    102\n",
       "171575    unitetheunion    starbright164    102\n",
       "501888          bbcnews         ronixact    102\n",
       "309803           thesnp    scottiemcclue    102\n",
       "112451    brigadoongent  strongerunited1    102\n",
       "49391       pd_politics  bbcscotlandnews    102\n",
       "66151   scotlandsfuture         j4cobite    102\n",
       "352013   indyscotevents         yeslocal    101\n",
       "471073        tammcturk           yesenl    101\n",
       "97835            smabdn   blairmcdougall    101\n",
       "434714          youtube     soupcruncher    101\n",
       "247211      uk_together    chrisdarroch2    100\n",
       "45869    severincarrell         guardian    100\n",
       "377708   bbcjohnbeattie     bbcradioscot    100\n",
       "415711     historywoman         j4cobite    100\n",
       "\n",
       "[340 rows x 3 columns]"
      ]
     },
     "execution_count": 15,
     "metadata": {},
     "output_type": "execute_result"
    }
   ],
   "source": [
    "interactions_df.sort_values(by=\"Count\", ascending=False, inplace=True)\n",
    "interactions_df[interactions_df[\"Count\"]>=100]"
   ]
  },
  {
   "cell_type": "markdown",
   "metadata": {},
   "source": [
    "The above DataFrame therefore shows who are the pairs of users that interacted the most on a time basis about hashtag **#IndyRef**. Please remind that because of the filtering performed in the previous section, DataFrame might include some users that are not part of the graph data.\n",
    "\n",
    "Another perspective may be given instead to highlight which individual users have been involved in the highest number of interactions:"
   ]
  },
  {
   "cell_type": "code",
   "execution_count": 17,
   "metadata": {},
   "outputs": [
    {
     "data": {
      "text/html": [
       "<div>\n",
       "<style scoped>\n",
       "    .dataframe tbody tr th:only-of-type {\n",
       "        vertical-align: middle;\n",
       "    }\n",
       "\n",
       "    .dataframe tbody tr th {\n",
       "        vertical-align: top;\n",
       "    }\n",
       "\n",
       "    .dataframe thead th {\n",
       "        text-align: right;\n",
       "    }\n",
       "</style>\n",
       "<table border=\"1\" class=\"dataframe\">\n",
       "  <thead>\n",
       "    <tr style=\"text-align: right;\">\n",
       "      <th></th>\n",
       "      <th>User</th>\n",
       "      <th>Count</th>\n",
       "    </tr>\n",
       "  </thead>\n",
       "  <tbody>\n",
       "    <tr>\n",
       "      <th>87340</th>\n",
       "      <td>yesscotland</td>\n",
       "      <td>31770</td>\n",
       "    </tr>\n",
       "    <tr>\n",
       "      <th>76853</th>\n",
       "      <td>strongerunited1</td>\n",
       "      <td>30269</td>\n",
       "    </tr>\n",
       "    <tr>\n",
       "      <th>83163</th>\n",
       "      <td>uk_together</td>\n",
       "      <td>25104</td>\n",
       "    </tr>\n",
       "    <tr>\n",
       "      <th>80349</th>\n",
       "      <td>thesnp</td>\n",
       "      <td>24453</td>\n",
       "    </tr>\n",
       "    <tr>\n",
       "      <th>3648</th>\n",
       "      <td>alexsalmond</td>\n",
       "      <td>21676</td>\n",
       "    </tr>\n",
       "    <tr>\n",
       "      <th>58535</th>\n",
       "      <td>nicolasturgeon</td>\n",
       "      <td>17112</td>\n",
       "    </tr>\n",
       "    <tr>\n",
       "      <th>86138</th>\n",
       "      <td>wingsscotland</td>\n",
       "      <td>15402</td>\n",
       "    </tr>\n",
       "    <tr>\n",
       "      <th>71553</th>\n",
       "      <td>scottishlabour</td>\n",
       "      <td>15122</td>\n",
       "    </tr>\n",
       "    <tr>\n",
       "      <th>85116</th>\n",
       "      <td>wearenational</td>\n",
       "      <td>14959</td>\n",
       "    </tr>\n",
       "    <tr>\n",
       "      <th>37751</th>\n",
       "      <td>j4cobite</td>\n",
       "      <td>13810</td>\n",
       "    </tr>\n",
       "    <tr>\n",
       "      <th>36031</th>\n",
       "      <td>ianiwrussell</td>\n",
       "      <td>10784</td>\n",
       "    </tr>\n",
       "    <tr>\n",
       "      <th>10385</th>\n",
       "      <td>blairmcdougall</td>\n",
       "      <td>10305</td>\n",
       "    </tr>\n",
       "    <tr>\n",
       "      <th>8597</th>\n",
       "      <td>bbcscotlandnews</td>\n",
       "      <td>10296</td>\n",
       "    </tr>\n",
       "    <tr>\n",
       "      <th>8484</th>\n",
       "      <td>bbcnews</td>\n",
       "      <td>9866</td>\n",
       "    </tr>\n",
       "    <tr>\n",
       "      <th>62113</th>\n",
       "      <td>pd_politics</td>\n",
       "      <td>9527</td>\n",
       "    </tr>\n",
       "    <tr>\n",
       "      <th>34684</th>\n",
       "      <td>historywoman</td>\n",
       "      <td>8288</td>\n",
       "    </tr>\n",
       "    <tr>\n",
       "      <th>57966</th>\n",
       "      <td>newsnetscotland</td>\n",
       "      <td>8267</td>\n",
       "    </tr>\n",
       "    <tr>\n",
       "      <th>71150</th>\n",
       "      <td>scotlandtonight</td>\n",
       "      <td>7635</td>\n",
       "    </tr>\n",
       "    <tr>\n",
       "      <th>40403</th>\n",
       "      <td>jimmurphymp</td>\n",
       "      <td>7238</td>\n",
       "    </tr>\n",
       "    <tr>\n",
       "      <th>15881</th>\n",
       "      <td>citizentommy</td>\n",
       "      <td>7146</td>\n",
       "    </tr>\n",
       "    <tr>\n",
       "      <th>9026</th>\n",
       "      <td>bellacaledonia</td>\n",
       "      <td>7050</td>\n",
       "    </tr>\n",
       "    <tr>\n",
       "      <th>80306</th>\n",
       "      <td>thescotsman</td>\n",
       "      <td>6787</td>\n",
       "    </tr>\n",
       "    <tr>\n",
       "      <th>32869</th>\n",
       "      <td>guardian</td>\n",
       "      <td>6562</td>\n",
       "    </tr>\n",
       "    <tr>\n",
       "      <th>21781</th>\n",
       "      <td>dhothersall</td>\n",
       "      <td>6273</td>\n",
       "    </tr>\n",
       "    <tr>\n",
       "      <th>20064</th>\n",
       "      <td>david_cameron</td>\n",
       "      <td>6003</td>\n",
       "    </tr>\n",
       "    <tr>\n",
       "      <th>76378</th>\n",
       "      <td>stevie_leary</td>\n",
       "      <td>5913</td>\n",
       "    </tr>\n",
       "    <tr>\n",
       "      <th>38220</th>\n",
       "      <td>jakimclaren</td>\n",
       "      <td>5847</td>\n",
       "    </tr>\n",
       "    <tr>\n",
       "      <th>57995</th>\n",
       "      <td>newsundayherald</td>\n",
       "      <td>5831</td>\n",
       "    </tr>\n",
       "    <tr>\n",
       "      <th>10221</th>\n",
       "      <td>bizforscotland</td>\n",
       "      <td>5731</td>\n",
       "    </tr>\n",
       "    <tr>\n",
       "      <th>75590</th>\n",
       "      <td>starbright164</td>\n",
       "      <td>5640</td>\n",
       "    </tr>\n",
       "    <tr>\n",
       "      <th>...</th>\n",
       "      <td>...</td>\n",
       "      <td>...</td>\n",
       "    </tr>\n",
       "    <tr>\n",
       "      <th>13236</th>\n",
       "      <td>camz99</td>\n",
       "      <td>521</td>\n",
       "    </tr>\n",
       "    <tr>\n",
       "      <th>70915</th>\n",
       "      <td>scot2014</td>\n",
       "      <td>519</td>\n",
       "    </tr>\n",
       "    <tr>\n",
       "      <th>78123</th>\n",
       "      <td>tamdeanburn</td>\n",
       "      <td>518</td>\n",
       "    </tr>\n",
       "    <tr>\n",
       "      <th>30611</th>\n",
       "      <td>gerry_mcgregor</td>\n",
       "      <td>518</td>\n",
       "    </tr>\n",
       "    <tr>\n",
       "      <th>85526</th>\n",
       "      <td>westmorlandhill</td>\n",
       "      <td>516</td>\n",
       "    </tr>\n",
       "    <tr>\n",
       "      <th>85254</th>\n",
       "      <td>weegingerdug</td>\n",
       "      <td>515</td>\n",
       "    </tr>\n",
       "    <tr>\n",
       "      <th>81603</th>\n",
       "      <td>tomimorrison</td>\n",
       "      <td>514</td>\n",
       "    </tr>\n",
       "    <tr>\n",
       "      <th>18132</th>\n",
       "      <td>cre8nu</td>\n",
       "      <td>513</td>\n",
       "    </tr>\n",
       "    <tr>\n",
       "      <th>25202</th>\n",
       "      <td>elginmorayscot</td>\n",
       "      <td>513</td>\n",
       "    </tr>\n",
       "    <tr>\n",
       "      <th>47700</th>\n",
       "      <td>lgprscotland</td>\n",
       "      <td>513</td>\n",
       "    </tr>\n",
       "    <tr>\n",
       "      <th>71797</th>\n",
       "      <td>screamingmasses</td>\n",
       "      <td>513</td>\n",
       "    </tr>\n",
       "    <tr>\n",
       "      <th>36835</th>\n",
       "      <td>indyrefbot</td>\n",
       "      <td>512</td>\n",
       "    </tr>\n",
       "    <tr>\n",
       "      <th>5502</th>\n",
       "      <td>andywightman</td>\n",
       "      <td>510</td>\n",
       "    </tr>\n",
       "    <tr>\n",
       "      <th>18814</th>\n",
       "      <td>daaronovitch</td>\n",
       "      <td>510</td>\n",
       "    </tr>\n",
       "    <tr>\n",
       "      <th>42784</th>\n",
       "      <td>jruddy99</td>\n",
       "      <td>510</td>\n",
       "    </tr>\n",
       "    <tr>\n",
       "      <th>35020</th>\n",
       "      <td>hoppinghaggis</td>\n",
       "      <td>509</td>\n",
       "    </tr>\n",
       "    <tr>\n",
       "      <th>78074</th>\n",
       "      <td>talkstough</td>\n",
       "      <td>509</td>\n",
       "    </tr>\n",
       "    <tr>\n",
       "      <th>18778</th>\n",
       "      <td>d_g_alexander</td>\n",
       "      <td>509</td>\n",
       "    </tr>\n",
       "    <tr>\n",
       "      <th>28696</th>\n",
       "      <td>franklandmark</td>\n",
       "      <td>509</td>\n",
       "    </tr>\n",
       "    <tr>\n",
       "      <th>41453</th>\n",
       "      <td>johnfinniemsp</td>\n",
       "      <td>507</td>\n",
       "    </tr>\n",
       "    <tr>\n",
       "      <th>87574</th>\n",
       "      <td>youngwd1</td>\n",
       "      <td>505</td>\n",
       "    </tr>\n",
       "    <tr>\n",
       "      <th>6755</th>\n",
       "      <td>arthurbirnie</td>\n",
       "      <td>504</td>\n",
       "    </tr>\n",
       "    <tr>\n",
       "      <th>42652</th>\n",
       "      <td>joyscobby</td>\n",
       "      <td>503</td>\n",
       "    </tr>\n",
       "    <tr>\n",
       "      <th>87287</th>\n",
       "      <td>yesmoray</td>\n",
       "      <td>502</td>\n",
       "    </tr>\n",
       "    <tr>\n",
       "      <th>4376</th>\n",
       "      <td>alynsmithmep</td>\n",
       "      <td>502</td>\n",
       "    </tr>\n",
       "    <tr>\n",
       "      <th>15574</th>\n",
       "      <td>christia_allard</td>\n",
       "      <td>501</td>\n",
       "    </tr>\n",
       "    <tr>\n",
       "      <th>26466</th>\n",
       "      <td>eunis_jassemi</td>\n",
       "      <td>501</td>\n",
       "    </tr>\n",
       "    <tr>\n",
       "      <th>1746</th>\n",
       "      <td>academicsforyes</td>\n",
       "      <td>501</td>\n",
       "    </tr>\n",
       "    <tr>\n",
       "      <th>60276</th>\n",
       "      <td>onemoreyesscot</td>\n",
       "      <td>500</td>\n",
       "    </tr>\n",
       "    <tr>\n",
       "      <th>66281</th>\n",
       "      <td>referendumtv</td>\n",
       "      <td>500</td>\n",
       "    </tr>\n",
       "  </tbody>\n",
       "</table>\n",
       "<p>684 rows × 2 columns</p>\n",
       "</div>"
      ],
      "text/plain": [
       "                  User  Count\n",
       "87340      yesscotland  31770\n",
       "76853  strongerunited1  30269\n",
       "83163      uk_together  25104\n",
       "80349           thesnp  24453\n",
       "3648       alexsalmond  21676\n",
       "58535   nicolasturgeon  17112\n",
       "86138    wingsscotland  15402\n",
       "71553   scottishlabour  15122\n",
       "85116    wearenational  14959\n",
       "37751         j4cobite  13810\n",
       "36031     ianiwrussell  10784\n",
       "10385   blairmcdougall  10305\n",
       "8597   bbcscotlandnews  10296\n",
       "8484           bbcnews   9866\n",
       "62113      pd_politics   9527\n",
       "34684     historywoman   8288\n",
       "57966  newsnetscotland   8267\n",
       "71150  scotlandtonight   7635\n",
       "40403      jimmurphymp   7238\n",
       "15881     citizentommy   7146\n",
       "9026    bellacaledonia   7050\n",
       "80306      thescotsman   6787\n",
       "32869         guardian   6562\n",
       "21781      dhothersall   6273\n",
       "20064    david_cameron   6003\n",
       "76378     stevie_leary   5913\n",
       "38220      jakimclaren   5847\n",
       "57995  newsundayherald   5831\n",
       "10221   bizforscotland   5731\n",
       "75590    starbright164   5640\n",
       "...                ...    ...\n",
       "13236           camz99    521\n",
       "70915         scot2014    519\n",
       "78123      tamdeanburn    518\n",
       "30611   gerry_mcgregor    518\n",
       "85526  westmorlandhill    516\n",
       "85254     weegingerdug    515\n",
       "81603     tomimorrison    514\n",
       "18132           cre8nu    513\n",
       "25202   elginmorayscot    513\n",
       "47700     lgprscotland    513\n",
       "71797  screamingmasses    513\n",
       "36835       indyrefbot    512\n",
       "5502      andywightman    510\n",
       "18814     daaronovitch    510\n",
       "42784         jruddy99    510\n",
       "35020    hoppinghaggis    509\n",
       "78074       talkstough    509\n",
       "18778    d_g_alexander    509\n",
       "28696    franklandmark    509\n",
       "41453    johnfinniemsp    507\n",
       "87574         youngwd1    505\n",
       "6755      arthurbirnie    504\n",
       "42652        joyscobby    503\n",
       "87287         yesmoray    502\n",
       "4376      alynsmithmep    502\n",
       "15574  christia_allard    501\n",
       "26466    eunis_jassemi    501\n",
       "1746   academicsforyes    501\n",
       "60276   onemoreyesscot    500\n",
       "66281     referendumtv    500\n",
       "\n",
       "[684 rows x 2 columns]"
      ]
     },
     "execution_count": 17,
     "metadata": {},
     "output_type": "execute_result"
    }
   ],
   "source": [
    "temp1 = interactions_df.groupby(['Source']).sum().reset_index().rename(columns={'Source':'User'})\n",
    "temp2 = interactions_df.groupby(['Target']).sum().reset_index().rename(columns={'Target':'User'})\n",
    "temp = temp1.append(temp2)\n",
    "temp = temp.groupby(['User']).sum().reset_index()\n",
    "temp.sort_values(by=\"Count\",ascending=False, inplace=True)\n",
    "temp[temp[\"Count\"]>=500]"
   ]
  },
  {
   "cell_type": "markdown",
   "metadata": {},
   "source": [
    "The result above gives an idea about who have been the most active users around the hashtag topic overtime."
   ]
  },
  {
   "cell_type": "code",
   "execution_count": 18,
   "metadata": {},
   "outputs": [],
   "source": [
    "# Backup DataFrames to visualize top interactions with NetworkX / Graphistry\n",
    "interactions_df[interactions_df[\"Count\"]>=50].to_csv(os.path.join(data_dir, \"graph_visualization_top_interactions/\"+hashtag+\"_top_interactions.csv\"),index=False)\n",
    "temp[temp[\"Count\"]>=100].to_csv(os.path.join(data_dir, \"graph_visualization_top_interactions/\"+hashtag+\"_users_frequency.csv\"),index=False)"
   ]
  },
  {
   "cell_type": "code",
   "execution_count": 16,
   "metadata": {},
   "outputs": [],
   "source": [
    "# Include only interactions that are captured by MMR data\n",
    "interactions_df = interactions_df[interactions_df.apply(lambda x: x[\"Source\"] in usernames_to_id_dict and x[\"Target\"] in usernames_to_id_dict, axis=1)]\n",
    "src_encodings = interactions_df.apply(lambda x: usernames_to_id_dict[x[\"Source\"]], axis=1)\n",
    "trg_encodings = interactions_df.apply(lambda x: usernames_to_id_dict[x[\"Target\"]], axis=1)\n",
    "interactions_df[\"Source_ID\"] = src_encodings\n",
    "interactions_df[\"Target_ID\"] = trg_encodings"
   ]
  },
  {
   "cell_type": "code",
   "execution_count": 17,
   "metadata": {},
   "outputs": [
    {
     "data": {
      "text/html": [
       "<div>\n",
       "<style scoped>\n",
       "    .dataframe tbody tr th:only-of-type {\n",
       "        vertical-align: middle;\n",
       "    }\n",
       "\n",
       "    .dataframe tbody tr th {\n",
       "        vertical-align: top;\n",
       "    }\n",
       "\n",
       "    .dataframe thead th {\n",
       "        text-align: right;\n",
       "    }\n",
       "</style>\n",
       "<table border=\"1\" class=\"dataframe\">\n",
       "  <thead>\n",
       "    <tr style=\"text-align: right;\">\n",
       "      <th></th>\n",
       "      <th>Source</th>\n",
       "      <th>Target</th>\n",
       "      <th>Count</th>\n",
       "      <th>Source_ID</th>\n",
       "      <th>Target_ID</th>\n",
       "    </tr>\n",
       "  </thead>\n",
       "  <tbody>\n",
       "    <tr>\n",
       "      <th>449390</th>\n",
       "      <td>glasgowmurphy</td>\n",
       "      <td>jimmurphymp</td>\n",
       "      <td>1043</td>\n",
       "      <td>65962817</td>\n",
       "      <td>14815743</td>\n",
       "    </tr>\n",
       "    <tr>\n",
       "      <th>395382</th>\n",
       "      <td>ianiwrussell</td>\n",
       "      <td>citizentommy</td>\n",
       "      <td>985</td>\n",
       "      <td>28535334</td>\n",
       "      <td>1326296</td>\n",
       "    </tr>\n",
       "    <tr>\n",
       "      <th>338965</th>\n",
       "      <td>alexsalmond</td>\n",
       "      <td>thesnp</td>\n",
       "      <td>886</td>\n",
       "      <td>20794977</td>\n",
       "      <td>1629677</td>\n",
       "    </tr>\n",
       "    <tr>\n",
       "      <th>508169</th>\n",
       "      <td>thesnp</td>\n",
       "      <td>nicolasturgeon</td>\n",
       "      <td>878</td>\n",
       "      <td>1629677</td>\n",
       "      <td>7285006</td>\n",
       "    </tr>\n",
       "    <tr>\n",
       "      <th>151842</th>\n",
       "      <td>newsnetscotland</td>\n",
       "      <td>jakimclaren</td>\n",
       "      <td>868</td>\n",
       "      <td>7441793</td>\n",
       "      <td>29533758</td>\n",
       "    </tr>\n",
       "  </tbody>\n",
       "</table>\n",
       "</div>"
      ],
      "text/plain": [
       "                 Source          Target  Count  Source_ID  Target_ID\n",
       "449390    glasgowmurphy     jimmurphymp   1043   65962817   14815743\n",
       "395382     ianiwrussell    citizentommy    985   28535334    1326296\n",
       "338965      alexsalmond          thesnp    886   20794977    1629677\n",
       "508169           thesnp  nicolasturgeon    878    1629677    7285006\n",
       "151842  newsnetscotland     jakimclaren    868    7441793   29533758"
      ]
     },
     "execution_count": 17,
     "metadata": {},
     "output_type": "execute_result"
    }
   ],
   "source": [
    "interactions_df.head()"
   ]
  },
  {
   "cell_type": "markdown",
   "metadata": {},
   "source": [
    "## 3. Measuring interactions consistency overtime\n",
    "What I'm now interested in, and what actually represents the end goal of this whole work, is identifying a measure of consistency related to the interactions of people taking part of controversies on Twitter. According to the data I am provided with, I may identify 2 paths:\n",
    "- **MMR graph data**: there's a property of the graph data that hasn't been used so far but still lies in the CSV files I got as result of all the data transformation steps that featured the first notebooks. This property would already give a built-in definition of *interaction consistency*; however, the information we may infer from it is quite limited, and the reason is that for each pair of users we only know whether they have interacted (consistently) within a 3 months period, and given the ranges of our timeline this sums up to a total of 13 periods. It's the only way, however, to compare how interaction consistency has changed overtime;\n",
    "- **Tweets**: when limiting the scope to the tweets related to a specific topic (hashtag), I have no information about which other topics all involved users have been tweeting about neither the related temporal information. Therefore, I may only know when has the *first* Twitter interaction occurred between each pair of mutually interacting users and all the subsequent ones. This is something that has already been highlighted a bit with the previous section, however I may further narrow it down and measure interactions consistency overtime if I count the interactions *per month*."
   ]
  },
  {
   "cell_type": "markdown",
   "metadata": {},
   "source": [
    "### 3.1 Long-term interaction consistency comparison: Analyzing behavioral changes overtime\n",
    "The idea of this analysis is to compare interaction consistency before and after the first $H$-type interaction, in order to highlight the bonding effect of a given hashtag: does it actually strengthen or weaken ties overtime? Are users more or less likely to communicate with each other after their $H$ interaction? We want to address these questions by carrying out this first timeline analysis by using metadata as edge attributes provided by the MMR graph data.\n",
    "\n",
    "In details: we have a total of 13 periods, ranging from 2013-09 to 2016-12, each of 3 months duration. For each edge in $H$ and for each of the periods, we then have a binary variable with values 1/0, set to 1 if the interaction occurred in the respective 3 months period, 0 otherwise (simplification of True/False values). Let's say, given period with 0-based index $i$ and edge $e$: $IsInPeriod(e,i)$ is a function as defined below:\n",
    "\n",
    "$$\n",
    "IsInPeriod(e,i) =\n",
    "    \\begin{cases}\n",
    "        1 & \\text{if $e$ occurred in period $i$,}\\\\\n",
    "        0 & \\text{otherwise.}\n",
    "    \\end{cases}\n",
    "$$\n",
    "\n",
    "Then, the **mutual interaction consistency** of edge $e$, calculated over $P$ consecutive periods starting from period with index $k$ until period with index $j$ (with $j +1 \\ge k$), is given by:\n",
    "\n",
    "$$MIC(e,k,j) = \\frac{\\sum_{i=k}^{j}IsInPeriod(e,i)}{P} = \\frac{\\sum_{i=k}^{j}IsInPeriod(e,i)}{j-k+1}$$\n",
    "\n",
    "Based on the values of $j$ and $k$, $MIC$ becomes meaningful if we consider its **average** over all edges. Therefore, the **average mutual interaction consistency** $\\langle MIC \\rangle$ may be calculated in three similar ways:\n",
    "- $\\langle MIC \\rangle_{T}$: for each edge $e$, $P = 13$, $k=0$, $j=12$ (the whole timeline period);\n",
    "- $\\langle MIC \\rangle_{B}$: for each edge $e$, $P$ is the number of consecutive periods *before* the first $H$ interaction between nodes of edge $e$, i.e. if the first interaction occurred in period with index $q$, then $k=0$, $j=q-1$;\n",
    "- $\\langle MIC \\rangle_{A}$: for each edge $e$, $P$ is the number of consecutive periods *after* the first $H$ interaction between nodes of edge $e$, i.e. $k=q$, $j=12$.\n",
    "\n",
    "In general, given $E$ as the set of edges of $H$ subgraph:\n",
    "\n",
    "$$\\langle MIC \\rangle = \\frac{\\sum_{e \\in E}MIC(e)}{|E|}$$\n",
    "\n",
    "where the values of $k$ and $j$, that depend directly on the considered edge $e$ based on which type of $\\langle MIC \\rangle$ we're calculating, have been encapsulated inside the $MIC$ function.\n",
    "\n",
    "Values of $\\langle MIC \\rangle_{T}$ may then be compared across different $H$ subgraphs, whereas $\\langle MIC \\rangle_{B}$ and $\\langle MIC \\rangle_{A}$ may be then directly compared within the same $H$ subgraph to quantify the bonding impact of hashtag $H$ overtime."
   ]
  },
  {
   "cell_type": "markdown",
   "metadata": {},
   "source": [
    "As a first step, we need to conveniently store the edges attribute. This metadata is already transformed into an array of integers where values are the encoding of the periods, ranging from 0 to 12, where period $0$ is period between 2013-09 and 2013-11 (edges included),  and period $12$ between 2016-09 and 2016-11.\n",
    "\n",
    "I may reuse the `Interaction` custom type to store them as keys of a dictionary (this time I also add a value for the periods field), and I map each `Interaction` to the period corresponding to the first $H$ interaction."
   ]
  },
  {
   "cell_type": "code",
   "execution_count": 12,
   "metadata": {},
   "outputs": [
    {
     "name": "stdout",
     "output_type": "stream",
     "text": [
      "Processed 43419395 lines...\n",
      "Processed 86838790 lines...\n",
      "Processed 130258185 lines...\n",
      "Processed 173677580 lines...\n",
      "Processed 217096975 lines...\n",
      "Processed 260516370 lines...\n",
      "Processed 303935765 lines...\n",
      "Processed 347355160 lines...\n",
      "Processed 390774555 lines...\n",
      "Processed 434193950 lines...\n",
      "Done!\n",
      "CPU times: user 26min 39s, sys: 3.41 s, total: 26min 42s\n",
      "Wall time: 26min 48s\n"
     ]
    }
   ],
   "source": [
    "%%time\n",
    "# Read MMR encoded file\n",
    "interaction_to_first_occ = {}\n",
    "count = 0\n",
    "tot_lines = !wc -l ../data/mmr_encoded_final.csv\n",
    "tot_lines = int(tot_lines[0].split()[0])\n",
    "checkpoint = tot_lines/10\n",
    "with open(\"../data/mmr_encoded_final.csv\") as fin:\n",
    "    for line in read_large_file(fin):\n",
    "        source, target, periods = process_edge_line(line)\n",
    "        count+=1\n",
    "        if count % checkpoint == 0:\n",
    "            print(\"Processed %d lines...\" %count)\n",
    "        if not hashtag_subgraph.IsEdge(source,target):\n",
    "            continue\n",
    "        interaction_to_first_occ[Interaction(source, target, periods)] = None\n",
    "print(\"Done!\")"
   ]
  },
  {
   "cell_type": "markdown",
   "metadata": {},
   "source": [
    "I also need to have a dict that maps each period with the corresponding encoding:"
   ]
  },
  {
   "cell_type": "code",
   "execution_count": 13,
   "metadata": {},
   "outputs": [],
   "source": [
    "def get_periods_encoding_dict():\n",
    "    periods_encoding_df = pd.read_csv(\"../data/period_encoding.csv\")\n",
    "    return {r[\"period\"]:r[\"encoding\"] for _,r in periods_encoding_df.iterrows()}"
   ]
  },
  {
   "cell_type": "code",
   "execution_count": 14,
   "metadata": {},
   "outputs": [],
   "source": [
    "periods_encoding_dict = get_periods_encoding_dict()"
   ]
  },
  {
   "cell_type": "markdown",
   "metadata": {},
   "source": [
    "Furthermore, I need a function that given a date returns the period it belongs to:"
   ]
  },
  {
   "cell_type": "code",
   "execution_count": 15,
   "metadata": {},
   "outputs": [],
   "source": [
    "def get_period_encoding_by_date(date, periods_encoding_dict):\n",
    "    for period,encoding in sorted(periods_encoding_dict.iteritems(), key=operator.itemgetter(1)):\n",
    "        if date >= datetime.datetime.strptime(period, \"%Y-%m\").date():\n",
    "            result = encoding\n",
    "        else:\n",
    "            break\n",
    "    return result"
   ]
  },
  {
   "cell_type": "markdown",
   "metadata": {},
   "source": [
    "Now I may scan all the tweets and save the period when each interaction first occurred:"
   ]
  },
  {
   "cell_type": "code",
   "execution_count": 16,
   "metadata": {},
   "outputs": [
    {
     "name": "stdout",
     "output_type": "stream",
     "text": [
      "CPU times: user 1min 19s, sys: 600 ms, total: 1min 19s\n",
      "Wall time: 1min 19s\n"
     ]
    }
   ],
   "source": [
    "%%time\n",
    "for t in tweets_filtered:\n",
    "    date = datetime.datetime.strptime(t.tweet_dict['created_at'],'%a %b %d %H:%M:%S +0000 %Y').date()\n",
    "    period_encoding = get_period_encoding_by_date(date, periods_encoding_dict)\n",
    "    potential_edges = list(combinations(t.users, 2))\n",
    "    for e in potential_edges:\n",
    "        if e[0] in usernames_to_id_dict and e[1] in usernames_to_id_dict:\n",
    "            interaction = Interaction(usernames_to_id_dict[e[0]],usernames_to_id_dict[e[1]])\n",
    "            if interaction in interaction_to_first_occ and (interaction_to_first_occ[interaction] is None or period_encoding < interaction_to_first_occ[interaction]):\n",
    "                interaction_to_first_occ[interaction] = period_encoding"
   ]
  },
  {
   "cell_type": "code",
   "execution_count": 17,
   "metadata": {},
   "outputs": [
    {
     "name": "stdout",
     "output_type": "stream",
     "text": [
      "Total interactions that have been captured by MMR graph data: 56058\n"
     ]
    }
   ],
   "source": [
    "print(\"Total interactions that have been captured by MMR graph data: %d\" %len([k for k in interaction_to_first_occ if not interaction_to_first_occ[k] is None]))"
   ]
  },
  {
   "cell_type": "code",
   "execution_count": 18,
   "metadata": {},
   "outputs": [],
   "source": [
    "interaction_to_first_occ = {k:interaction_to_first_occ[k] for k in interaction_to_first_occ if not interaction_to_first_occ[k] is None}"
   ]
  },
  {
   "cell_type": "code",
   "execution_count": 25,
   "metadata": {},
   "outputs": [],
   "source": [
    "# Let's filter the previously identified top interactions, to include exclusively the MUTUAL interactions\n",
    "# Indeed, ATM the interactions_df includes all potential interactions extracted by the tweets, not necessarily MUTUAL\n",
    "interactions_df = interactions_df[interactions_df.apply(lambda x: Interaction(x[\"Source_ID\"],x[\"Target_ID\"]) in interaction_to_first_occ, axis=1)]"
   ]
  },
  {
   "cell_type": "code",
   "execution_count": 28,
   "metadata": {},
   "outputs": [],
   "source": [
    "# Backup top interactions in DF to be used in graph visualization\n",
    "interactions_df[interactions_df[\"Count\"] >= 10].to_csv(os.path.join(data_dir, \"graph_visualization_top_interactions/\"+hashtag+\"_top_interactions_REAL.csv\"),\n",
    "                                                      columns=[\"Source\",\"Target\",\"Count\"], index=False)"
   ]
  },
  {
   "cell_type": "markdown",
   "metadata": {},
   "source": [
    "#### 3.1.1 Average Mutual Interaction Consistency (Total)"
   ]
  },
  {
   "cell_type": "code",
   "execution_count": 26,
   "metadata": {},
   "outputs": [],
   "source": [
    "def calculate_avg_mic_total(interactions_dict):\n",
    "    s = pd.Series([len(i.periods)*1.0/13 for i in interactions_dict], dtype=np.float32)\n",
    "    avg = s.describe()[\"mean\"]\n",
    "    return avg, pd.DataFrame(s, columns=[\"MIC Total\"])"
   ]
  },
  {
   "cell_type": "code",
   "execution_count": 27,
   "metadata": {},
   "outputs": [
    {
     "name": "stdout",
     "output_type": "stream",
     "text": [
      "Average Mutual Interaction Consistency (Total) for hashtag #IndyRef: 0.191920\n"
     ]
    }
   ],
   "source": [
    "avg_mic_total, mic_total_df = calculate_avg_mic_total(interaction_to_first_occ)\n",
    "mic_total_df.to_csv(\"../data/mic_data/mic_total_\"+hashtag+\".csv\", index=False)\n",
    "print(\"Average Mutual Interaction Consistency (Total) for hashtag %s: %.6f\" %(hashtag_full, avg_mic_total))"
   ]
  },
  {
   "cell_type": "markdown",
   "metadata": {},
   "source": [
    "#### 3.1.2 Average  Mutual Interaction Consistency (Before vs After)"
   ]
  },
  {
   "cell_type": "code",
   "execution_count": 28,
   "metadata": {},
   "outputs": [],
   "source": [
    "def calculate_avg_mic_before_after(interactions_dict):\n",
    "    mic_before_list = []\n",
    "    mic_after_list = []\n",
    "    for i in interactions_dict:\n",
    "        first_interaction = interactions_dict[i]\n",
    "        sorted_periods = sorted(i.periods)\n",
    "        periods_before = len(range(0,first_interaction))\n",
    "        mic_before = len([p for p in sorted_periods if p < first_interaction])*1.0/periods_before if periods_before!=0 else 0\n",
    "        mic_before_list.append(mic_before)\n",
    "        mic_after_list.append(len([p for p in sorted_periods if p >= first_interaction])*1.0/len(range(first_interaction,13)))\n",
    "    s_before = pd.Series(mic_before_list, name=\"MIC Before\", dtype=np.float32)\n",
    "    s_after = pd.Series(mic_after_list, name=\"MIC After\", dtype=np.float32)\n",
    "    avg_mic_before = s_before.describe()[\"mean\"]\n",
    "    avg_mic_after = s_after.describe()[\"mean\"]\n",
    "    return avg_mic_before, avg_mic_after, pd.concat([s_before, s_after], axis=1)"
   ]
  },
  {
   "cell_type": "code",
   "execution_count": 29,
   "metadata": {},
   "outputs": [
    {
     "name": "stdout",
     "output_type": "stream",
     "text": [
      "Average Mutual Interaction Consistency (Before) for hashtag #IndyRef: 0.136234\n",
      "Average Mutual Interaction Consistency (After) for hashtag #IndyRef: 0.230809\n"
     ]
    }
   ],
   "source": [
    "avg_mic_before, avg_mic_after, mic_before_after_df = calculate_avg_mic_before_after(interaction_to_first_occ)\n",
    "mic_before_after_df.to_csv(\"../data/mic_data/mic_before_after_\"+hashtag+\".csv\", index=False)\n",
    "print(\"Average Mutual Interaction Consistency (Before) for hashtag %s: %.6f\" %(hashtag_full, avg_mic_before))\n",
    "print(\"Average Mutual Interaction Consistency (After) for hashtag %s: %.6f\" %(hashtag_full, avg_mic_after))"
   ]
  },
  {
   "cell_type": "markdown",
   "metadata": {},
   "source": [
    "| Property | Value\n",
    "|---|---|\n",
    "| $\\langle MIC \\rangle_{T}$ | 0.191920\n",
    "| $\\langle MIC \\rangle_{B}$ | 0.136234\n",
    "| $\\langle MIC \\rangle_{A}$ | 0.230809"
   ]
  },
  {
   "cell_type": "markdown",
   "metadata": {},
   "source": [
    "I'd like to investigate also for how many interactions there has been an improvement in terms of bonding effect, meaning that the two users have been interacting more frequently than they had before because of the $H$ interaction:"
   ]
  },
  {
   "cell_type": "code",
   "execution_count": 30,
   "metadata": {},
   "outputs": [],
   "source": [
    "mic_before_after_df[\"Bonding\"] = mic_before_after_df[\"MIC After\"] > mic_before_after_df[\"MIC Before\"]"
   ]
  },
  {
   "cell_type": "code",
   "execution_count": 31,
   "metadata": {},
   "outputs": [
    {
     "data": {
      "text/plain": [
       "count     56058\n",
       "unique        2\n",
       "top        True\n",
       "freq      43475\n",
       "Name: Bonding, dtype: object"
      ]
     },
     "execution_count": 31,
     "metadata": {},
     "output_type": "execute_result"
    }
   ],
   "source": [
    "mic_before_after_df[\"Bonding\"].describe()"
   ]
  },
  {
   "cell_type": "markdown",
   "metadata": {},
   "source": [
    "### 3.2 Results Validation: Scientific Proof for Mutual Interaction Consistency\n",
    "The results from above seem to be very promising: mostly all interactions have experienced a higher communication consistency *after* the first $H$ interaction, meaning that the bonding effect of the hashtag is actually positive and it helps to strengthen the relationships in the long term. However, the way I compared the mutual interaction consistency before and after might hide a drawback and slightly bias the results in favor of the $\\langle MIC \\rangle_A$, because when calculating this metric, the period when the first interaction occurred has been also taken into account. This doesn't mean that the results so far are spoiled, but it's better to be safe than sorry and I may provide the final bulletproof to validate them.\n",
    "\n",
    "Therefore, let's have another similar approach: I want to measure *effectiveness* by comparing what can actually be compared. Similarly to what has already been formalized earlier, for each interaction we store an array $p$ of length 13, with indexes $i=0\\dots 12$ (each corresponding, in chronological order, to the 3 months periods ranging from September 2013 until December 2016) filled with $\\{0,1\\}$ where 1s tell whether such interaction occurred in period $p_i$. For each interaction, we also store the index of the period corresponding to the first $H$ interaction. This means that overall we're gonna have a **sparse matrix** $\\mathbf{P}$ where rows represent interactions and columns represent periods, i.e. each cell $p_{i,j}$ is a 0 or 1 telling whether interaction $i$ occurred in period $j$, and a vector $\\mathbf{F}$ where each cell $f_i$ indicates the period index where interaction $i$ has first involved $H$, ranging in $\\{0\\dots 12\\}$. An important prerequisite now for what I'm about to formulate, is that we filter out all those interactions where we don't have enough information, i.e. the first $H$ interaction occurred either in the very first ($f_i=0$) or last period ($f_i=12$). Then, for each interaction, we would be able to define $n_{bef}$ and $n_{aft}$, 2 numbers that indicate, respectively, the number of periods before and after the first $H$ interaction, and $n_{eff}=min(n_{bef}, n_{aft})$. By considering $n_{eff}$, we're basically setting a threshold for how many maximum consecutive periods have to be compared in terms of mutual interaction consistency, in order to reduce bias and avoid evaluating the consistency in the very long term. Then, for each interaction $i$, we would still calculate $\\langle MIC \\rangle_B$ and $\\langle MIC \\rangle_A$, but this time I restrict the calculation respectively only to the periods $n_{bef}$ and $n_{aft}$.\n",
    "\n",
    "According to this new model, $n_{eff}$ values range in $[1\\dots 6]$, so now for each $n_{eff}=1\\dots 6$, I want to count the raw number of interactions such that:\n",
    "1. $\\langle MIC \\rangle_B \\gt \\langle MIC \\rangle_A$\n",
    "2. $\\langle MIC \\rangle_B \\lt \\langle MIC \\rangle_A$\n",
    "3. $\\langle MIC \\rangle_B = \\langle MIC \\rangle_A$\n",
    "\n",
    "and plot the results. This would generate (up to) 6 plots per hashtag $H$."
   ]
  },
  {
   "cell_type": "code",
   "execution_count": 19,
   "metadata": {},
   "outputs": [],
   "source": [
    "# Create matrix P and vector F\n",
    "# It's easy to create a matrix of zeros and then fill the values where needed\n",
    "P = np.zeros(shape=(len(interaction_to_first_occ.keys()),13), dtype=np.bool)\n",
    "F = np.zeros(shape=(len(interaction_to_first_occ.keys()),1), dtype=np.uint8)"
   ]
  },
  {
   "cell_type": "code",
   "execution_count": 20,
   "metadata": {},
   "outputs": [
    {
     "name": "stdout",
     "output_type": "stream",
     "text": [
      "CPU times: user 184 ms, sys: 68 ms, total: 252 ms\n",
      "Wall time: 181 ms\n"
     ]
    }
   ],
   "source": [
    "%%time\n",
    "for i,interaction in enumerate(interaction_to_first_occ):\n",
    "    first = interaction_to_first_occ[interaction]\n",
    "    F[i] = first\n",
    "    for p in interaction.periods:\n",
    "        P[i][p] = True"
   ]
  },
  {
   "cell_type": "code",
   "execution_count": 21,
   "metadata": {},
   "outputs": [
    {
     "name": "stdout",
     "output_type": "stream",
     "text": [
      "Found 5043 rows with not enough data. Will not be considered when calculating MIC.\n"
     ]
    }
   ],
   "source": [
    "# Filter out rows i where F[i] == 0 or F[i] == 12\n",
    "rows_to_delete = [i for i,f in enumerate(F) if f == 0 or f == 12]\n",
    "print(\"Found %d rows with not enough data. Will not be considered when calculating MIC.\" %len(rows_to_delete))"
   ]
  },
  {
   "cell_type": "code",
   "execution_count": 22,
   "metadata": {},
   "outputs": [],
   "source": [
    "# Remove rows\n",
    "F = np.delete(F, rows_to_delete, axis=0)\n",
    "P = np.delete(P, rows_to_delete, axis=0)"
   ]
  },
  {
   "cell_type": "code",
   "execution_count": 23,
   "metadata": {},
   "outputs": [
    {
     "name": "stdout",
     "output_type": "stream",
     "text": [
      "CPU times: user 8.57 s, sys: 24 ms, total: 8.59 s\n",
      "Wall time: 8.57 s\n"
     ]
    }
   ],
   "source": [
    "%%time\n",
    "n_eff_values = {n_eff:np.zeros((3,), dtype=np.uint32) for n_eff in np.arange(1,7)}\n",
    "for index,i in enumerate(P):\n",
    "    first = F[index][0]\n",
    "    n_before = len(P[index][0:first])\n",
    "    n_after = len(P[index][first+1:13])\n",
    "    n_eff = np.min([n_before, n_after])\n",
    "    for n in np.arange(1,n_eff+1):\n",
    "        if first-n < 0 or first+n+1 > 13:\n",
    "            continue\n",
    "        assert len(P[index][first-n:first]) == len(P[index][first+1:first+n+1])\n",
    "        mic_before = np.mean(P[index][first-n:first])\n",
    "        mic_after = np.mean(P[index][first+1:first+n+1])\n",
    "        if mic_before > mic_after:\n",
    "            n_eff_values[n][0] += 1\n",
    "        elif mic_before < mic_after:\n",
    "            n_eff_values[n][2] += 1\n",
    "        else:\n",
    "            n_eff_values[n][1] += 1"
   ]
  },
  {
   "cell_type": "code",
   "execution_count": 24,
   "metadata": {},
   "outputs": [],
   "source": [
    "cm = plt.cm.get_cmap('GnBu')"
   ]
  },
  {
   "cell_type": "code",
   "execution_count": 25,
   "metadata": {},
   "outputs": [],
   "source": [
    "def plot_mic_by_n_eff(n_eff_dict, cm, hashtag, hashtag_full):\n",
    "    fig, axes = plt.subplots(2,3, sharex='col', sharey='row')\n",
    "    fig.set_size_inches(10,7)\n",
    "    fig.set_dpi(150)\n",
    "    fig.set_tight_layout(False)\n",
    "\n",
    "    for i,ax in enumerate(axes.reshape(-1)):\n",
    "        y = n_eff_dict[i+1]\n",
    "        x = range(len(y))\n",
    "        colors = cm(y / float(max(y)))\n",
    "        ax.bar(x,y, color=colors)\n",
    "        ax.set_title(r\"$n_{eff}=%d$\" %(i+1))\n",
    "        ax.set_xticks(x)\n",
    "        ax.set_xticklabels([r\"$\\langle MIC \\rangle_B > \\langle MIC \\rangle_A$\", r\"$\\langle MIC \\rangle_B=\\langle MIC \\rangle_A$\", r\"$\\langle MIC \\rangle_B < \\langle MIC \\rangle_A$\"], fontsize=6)\n",
    "        for x_text,y_text in enumerate(y):\n",
    "            ax.text(x_text,y_text+50, str(y_text), horizontalalignment='center', fontweight=\"bold\", color='grey')\n",
    "\n",
    "    fig.suptitle(r\"Distribution of $\\langle MIC \\rangle$ variations overtime with different time-windows (%s)\" %(hashtag_full))\n",
    "    plt.savefig(os.path.join(pictures_path,hashtag+\"_mic_effective.png\"))\n",
    "    plt.show()"
   ]
  },
  {
   "cell_type": "code",
   "execution_count": 26,
   "metadata": {},
   "outputs": [
    {
     "data": {
      "image/png": "[encoded data removed]",
      "text/plain": [
       "<Figure size 1500x1050 with 6 Axes>"
      ]
     },
     "metadata": {
      "needs_background": "light"
     },
     "output_type": "display_data"
    }
   ],
   "source": [
    "plot_mic_by_n_eff(n_eff_values, cm, hashtag, hashtag_full)"
   ]
  },
  {
   "cell_type": "code",
   "execution_count": 23,
   "metadata": {},
   "outputs": [],
   "source": [
    "total_communication_by_period = np.sum(P, axis=0)*1.0/len(P)\n",
    "np.savetxt(os.path.join(data_dir,hashtag+\"_fraction_of_communication_by_period.txt\"), total_communication_by_period, fmt=\"%.6f\")"
   ]
  },
  {
   "cell_type": "code",
   "execution_count": null,
   "metadata": {},
   "outputs": [],
   "source": []
  }
 ],
 "metadata": {
  "kernelspec": {
   "display_name": "Python [conda env:py27]",
   "language": "python",
   "name": "conda-env-py27-py"
  },
  "language_info": {
   "codemirror_mode": {
    "name": "ipython",
    "version": 2
   },
   "file_extension": ".py",
   "mimetype": "text/x-python",
   "name": "python",
   "nbconvert_exporter": "python",
   "pygments_lexer": "ipython2",
   "version": "2.7.15"
  }
 },
 "nbformat": 4,
 "nbformat_minor": 2
}
