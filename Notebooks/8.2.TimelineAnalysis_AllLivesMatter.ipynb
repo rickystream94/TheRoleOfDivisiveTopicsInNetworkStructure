{
 "cells": [
  {
   "cell_type": "markdown",
   "metadata": {},
   "source": [
    "# Timeline Analysis\n",
    "Scope of the following analysis is to investigate whether the previously analyzed hashtags actually play a significant role in the underlying network structure: does a specific topic (hashtag) strengthen ties or increases diversity within Twitter users? The idea is therefore to build a metric and extract this information by combining mutual interactions Tweets and the network structure that represented the sole core of the analysis so far."
   ]
  },
  {
   "cell_type": "code",
   "execution_count": 1,
   "metadata": {},
   "outputs": [],
   "source": [
    "import snap\n",
    "from snap import TUNGraph\n",
    "import os\n",
    "import sys\n",
    "import operator\n",
    "import pandas as pd\n",
    "import subprocess\n",
    "import numpy as np\n",
    "import csv\n",
    "import matplotlib as mpl\n",
    "from matplotlib import pyplot as plt\n",
    "from matplotlib import dates as mdates\n",
    "import seaborn as sns\n",
    "from __future__ import print_function\n",
    "from IPython.display import HTML, display\n",
    "import tabulate\n",
    "import json\n",
    "import datetime\n",
    "from datetime import timedelta\n",
    "from dateutil.relativedelta import relativedelta\n",
    "from collections import Counter\n",
    "import re\n",
    "from itertools import combinations\n",
    "\n",
    "# Set Seaborn defaults\n",
    "sns.set()\n",
    "%matplotlib inline\n",
    "pd.set_option(\"display.precision\", 6)\n",
    "mpl.rcParams['figure.dpi'] = 100\n",
    "mpl.rcParams['savefig.dpi'] = 100\n",
    "mpl.rcParams['figure.autolayout'] = True\n",
    "\n",
    "# Global variables\n",
    "data_dir = \"../data\"\n",
    "pictures_path = os.path.join(\"../Pictures\", \"8.TimelineAnalysis\")\n",
    "tweets_path = \"../lib/GetOldTweets-python/out/completed\""
   ]
  },
  {
   "cell_type": "markdown",
   "metadata": {},
   "source": [
    "## 0. Creation of Model Classes\n",
    "First of all, I might need to be a bit more concerned about performance since some Tweets files are pretty big (a few GBs), therefore I'd like to optimize some operations as much as possible.\n",
    "- Since Tweets come naturally with a unique ID, I may create a `Tweet` custom type;\n",
    "- Class `Interaction` representing an interaction between 2 users."
   ]
  },
  {
   "cell_type": "code",
   "execution_count": 2,
   "metadata": {},
   "outputs": [],
   "source": [
    "class Tweet:\n",
    "    def __init__(self, tweet_id, users, tweet_dict):\n",
    "        self.tweet_id = tweet_id\n",
    "        self.tweet_dict = tweet_dict\n",
    "        self.users = users\n",
    "        \n",
    "    def __eq__(self, other):\n",
    "        if isinstance(other, Tweet):\n",
    "            return self.tweet_id == other.tweet_id\n",
    "        return NotImplemented\n",
    "    \n",
    "    def __ne__(self, other):\n",
    "        x = self.__eq__(other)\n",
    "        if x is not NotImplemented:\n",
    "            return not x\n",
    "        return NotImplemented\n",
    "    \n",
    "    def __hash__(self):\n",
    "        return hash(self.tweet_id)"
   ]
  },
  {
   "cell_type": "code",
   "execution_count": 3,
   "metadata": {},
   "outputs": [],
   "source": [
    "class Interaction:        \n",
    "    def __init__(self, source, target, periods=None):\n",
    "        self.source = source\n",
    "        self.target = target\n",
    "        self.periods = periods\n",
    "        \n",
    "    def __eq__(self, other):\n",
    "        if isinstance(other, Interaction):\n",
    "            return (self.source == other.source and self.target == other.target) or (self.source == other.target and self.target == other.source)\n",
    "        return NotImplemented\n",
    "    \n",
    "    def __ne__(self, other):\n",
    "        x = self.__eq__(other)\n",
    "        if x is not NotImplemented:\n",
    "            return not x\n",
    "        return NotImplemented\n",
    "    \n",
    "    def __hash__(self):\n",
    "        return hash(hash(self.source)+hash(self.target))"
   ]
  },
  {
   "cell_type": "markdown",
   "metadata": {},
   "source": [
    "Hereby a collection of some utility functions:"
   ]
  },
  {
   "cell_type": "code",
   "execution_count": 4,
   "metadata": {},
   "outputs": [],
   "source": [
    "def get_relative_percentage(n,m):\n",
    "    return n*100.0/m\n",
    "\n",
    "def load_graph_from_backup(filename):\n",
    "    FIn = snap.TFIn(\"../data/\"+filename+\".bin\")\n",
    "    graph = snap.TUNGraph.Load(FIn)\n",
    "    return graph\n",
    "\n",
    "def read_large_file(file_object):\n",
    "    while True:\n",
    "        data = file_object.readline()\n",
    "        if not data:\n",
    "            break\n",
    "        yield data.rstrip('\\n')\n",
    "        \n",
    "def process_edge_line(line):\n",
    "    source, target, prop = line.split(',')\n",
    "    return int(source), int(target), [int(p) for p in prop.split(';')]\n",
    "        \n",
    "def get_usernames_from_basic_tweet_info(hashtag, tweet):\n",
    "    usernames = set()\n",
    "    # (1): Has tweeted using hashtag\n",
    "    if hashtag in [h.lower() for h in tweet[\"entities\"][\"hashtags\"]]:\n",
    "        usernames.add(tweet[\"user\"][\"screen_name\"].lower())\n",
    "\n",
    "    # (2): Has been mentioned / replied to\n",
    "    if not tweet[\"in_reply_to_screen_name\"] is None:\n",
    "        usernames.add(tweet[\"in_reply_to_screen_name\"].lower())\n",
    "    for mentions in tweet[\"entities\"][\"user_mentions\"]:\n",
    "        usernames.add(mentions[\"screen_name\"].lower())\n",
    "    return usernames\n",
    "\n",
    "def get_tweet_usernames(hashtag, tweet):\n",
    "    usernames = set()\n",
    "    usernames.update(get_usernames_from_basic_tweet_info(hashtag, tweet))\n",
    "    if \"retweeted_status\" in tweet:\n",
    "        usernames.update(get_usernames_from_basic_tweet_info(hashtag, tweet[\"retweeted_status\"]))\n",
    "    if \"quoted_status\" in tweet:\n",
    "        usernames.update(get_usernames_from_basic_tweet_info(hashtag, tweet[\"quoted_status\"]))\n",
    "    return usernames\n",
    "\n",
    "def extract_hashtag_usernames(hashtag, tweets):\n",
    "    hashtag_usernames = set()\n",
    "    for tweet in tweets:\n",
    "        hashtag_usernames.update(tweet.users)\n",
    "    print(\"Total unique usernames involved in '#%s' hashtag conversations from %d tweets: %d\" %(hashtag, len(tweets), len(hashtag_usernames)))\n",
    "    return hashtag_usernames\n",
    "\n",
    "# Extract tweets given a specific hashtag\n",
    "def get_tweets(hashtag):\n",
    "    tweets_filename = os.path.join(tweets_path,\"tweets_#\" + hashtag + \"_2013-09-01_2016-12-31.json\")\n",
    "    tweets = set()\n",
    "    with open(tweets_filename) as fin:\n",
    "        for line in read_large_file(fin):\n",
    "            tweet_dict = json.loads(line)\n",
    "            tweet_id = np.int64(tweet_dict[\"id_str\"])\n",
    "            tweet_users = get_tweet_usernames(hashtag, tweet_dict)\n",
    "            tweets.add(Tweet(tweet_id, tweet_users, tweet_dict))\n",
    "    print(\"Imported %d tweets from %s\" %(len(tweets),tweets_filename))\n",
    "    return tweets"
   ]
  },
  {
   "cell_type": "markdown",
   "metadata": {},
   "source": [
    "## 1. Extract Tweets: filter usernames and tweets"
   ]
  },
  {
   "cell_type": "code",
   "execution_count": 5,
   "metadata": {},
   "outputs": [],
   "source": [
    "hashtag = \"alllivesmatter\"\n",
    "hashtag_full = \"#AllLivesMatter\""
   ]
  },
  {
   "cell_type": "markdown",
   "metadata": {},
   "source": [
    "Load hashtag subgraph from backup:"
   ]
  },
  {
   "cell_type": "code",
   "execution_count": 6,
   "metadata": {},
   "outputs": [],
   "source": [
    "hashtag_subgraph = load_graph_from_backup(\"mmr_subgraph_\"+hashtag)"
   ]
  },
  {
   "cell_type": "code",
   "execution_count": 7,
   "metadata": {},
   "outputs": [
    {
     "name": "stdout",
     "output_type": "stream",
     "text": [
      "Imported 440872 tweets from ../lib/GetOldTweets-python/out/completed/tweets_#alllivesmatter_2013-09-01_2016-12-31.json\n",
      "CPU times: user 19.6 s, sys: 1.11 s, total: 20.7 s\n",
      "Wall time: 20.7 s\n"
     ]
    }
   ],
   "source": [
    "%%time\n",
    "tweets = get_tweets(hashtag)"
   ]
  },
  {
   "cell_type": "code",
   "execution_count": 8,
   "metadata": {},
   "outputs": [
    {
     "name": "stdout",
     "output_type": "stream",
     "text": [
      "Total unique usernames involved in '#alllivesmatter' hashtag conversations from 440872 tweets: 296235\n"
     ]
    }
   ],
   "source": [
    "hashtag_usernames = extract_hashtag_usernames(hashtag, tweets)"
   ]
  },
  {
   "cell_type": "code",
   "execution_count": 9,
   "metadata": {},
   "outputs": [
    {
     "name": "stdout",
     "output_type": "stream",
     "text": [
      "CPU times: user 2min 56s, sys: 736 ms, total: 2min 57s\n",
      "Wall time: 2min 57s\n"
     ]
    }
   ],
   "source": [
    "%%time\n",
    "usernames_to_id_dict = {}\n",
    "with open(\"../data/usernames.csv\") as usernames_f:\n",
    "    for line in read_large_file(usernames_f):\n",
    "        username = line.split(',')[0]\n",
    "        encoding = int(line.split(',')[1])\n",
    "        # Add to dict only if username is part of the hashtag subgraph\n",
    "        if hashtag_subgraph.IsNode(encoding):\n",
    "            usernames_to_id_dict[username] = encoding"
   ]
  },
  {
   "cell_type": "markdown",
   "metadata": {},
   "source": [
    "The next step is then to filter out those Tweets whose involved users are not part of the corresponding $H$ subgraph (i.e. if none of its involved users represents a node in $H$). The keys of the `usernames_to_id_dict` dictionary correspond to all the usernames of the $H$ subgraph, so it should be sufficient to check the following criteria:\n",
    "- A tweet is kept if any of its involved users is part of the $H$ subgraph:"
   ]
  },
  {
   "cell_type": "code",
   "execution_count": 10,
   "metadata": {},
   "outputs": [
    {
     "name": "stdout",
     "output_type": "stream",
     "text": [
      "Number of filtered tweets (with at least 1 involved user within MMR graph data): 304762 (69.13% of 440872 total tweets)\n"
     ]
    }
   ],
   "source": [
    "tweets_filtered = filter(lambda t: any(map(lambda u: u in usernames_to_id_dict, t.users)), tweets)\n",
    "print(\"Number of filtered tweets (with at least 1 involved user within MMR graph data): %d (%.2f%% of %d total tweets)\" %(len(tweets_filtered), get_relative_percentage(len(tweets_filtered), len(tweets)), len(tweets)))"
   ]
  },
  {
   "cell_type": "markdown",
   "metadata": {},
   "source": [
    "According to the above: among 440.872 total tweets, **304.762** involve at least one user that is part of the MMR graph data."
   ]
  },
  {
   "cell_type": "code",
   "execution_count": 11,
   "metadata": {},
   "outputs": [
    {
     "name": "stdout",
     "output_type": "stream",
     "text": [
      "Total number of unique users involved in 304762 filtered tweets: 211564 (71.42% of 296235 total usernames)\n"
     ]
    }
   ],
   "source": [
    "def count_tot_users(tweets):\n",
    "    tot_users = set()\n",
    "    for t in tweets:\n",
    "        tot_users.update(t.users)\n",
    "    return len(tot_users)\n",
    "\n",
    "tot_users = count_tot_users(tweets_filtered)\n",
    "print(\"Total number of unique users involved in %d filtered tweets: %d (%.2f%% of %d total usernames)\" %(len(tweets_filtered), tot_users, get_relative_percentage(tot_users, len(hashtag_usernames)), len(hashtag_usernames)))"
   ]
  },
  {
   "cell_type": "markdown",
   "metadata": {},
   "source": [
    "**Note**: Of course the number of users involved in the filtered tweets may be higher than the actual number of nodes in $H$, since each Tweet might include users that have not been captured by the MMR data. The reason why I decided to apply this filtering step, is that the users collected by the MMR graph data hide some extra interaction properties, e.g. 2 users are related if their total number of interactions within a 3 months period is sufficiently high, so that it represents a constant interaction over time and not a random one. This way we would already remove a lot of noisy/irrelevant data and speed up the algorithms in the next steps."
   ]
  },
  {
   "cell_type": "markdown",
   "metadata": {},
   "source": [
    "Hereby a summary of the filtering steps and the statistics about the collected tweets and usernames:\n",
    "\n",
    "| Property | Before Filtering | After Filtering | % After/Before\n",
    "|---|---|---|---|\n",
    "| **Total Collected Tweets** | 440.872 | 304.762 | 69,13%\n",
    "| **Total Unique Usernames** | 296.235 | 211.564 | 71,42%"
   ]
  },
  {
   "cell_type": "markdown",
   "metadata": {},
   "source": [
    "## 2. User Interactions Statistics\n",
    "I could first show some statistics about the interactions."
   ]
  },
  {
   "cell_type": "markdown",
   "metadata": {},
   "source": [
    "### 2.1 Top Interactions\n",
    "I may show which are the interactions that occurred the most throughout the years we're considering. It's convenient to create a dictionary with $K \\rightarrow V$ pairs where $K$ = interaction, $V$ = count (count how many times two people have interacted with each other within the whole timeline period we're considering).\n",
    "\n",
    "Collecting the interactions count dictionary may be done linearly with a single pass, and the steps are hereby summarized:\n",
    "1. For each tweet, create a list of all possible pairs of its involved users and for each of them create an `Interaction` instance;\n",
    "2. Add a new entry to the dictionary with value 1, if the interaction is not existing;\n",
    "3. If the interaction is already existing, increment its value. "
   ]
  },
  {
   "cell_type": "code",
   "execution_count": 12,
   "metadata": {},
   "outputs": [],
   "source": [
    "def create_interactions_count_dict(tweets):\n",
    "    interactions_count = {}\n",
    "    for t in tweets:\n",
    "        pairs = list(combinations(t.users, 2))\n",
    "        for p in pairs:\n",
    "            i = Interaction(p[0], p[1])\n",
    "            if i in interactions_count:\n",
    "                interactions_count[i] += 1\n",
    "            else:\n",
    "                interactions_count[i] = 1\n",
    "    return interactions_count"
   ]
  },
  {
   "cell_type": "code",
   "execution_count": 13,
   "metadata": {},
   "outputs": [],
   "source": [
    "interactions_count = create_interactions_count_dict(tweets_filtered)"
   ]
  },
  {
   "cell_type": "markdown",
   "metadata": {},
   "source": [
    "Let's visualize the results conveniently through a DataFrame, by first sorting it with descending counts (I only show the top interactions e.g. whose count value are at least 100):"
   ]
  },
  {
   "cell_type": "code",
   "execution_count": 14,
   "metadata": {},
   "outputs": [],
   "source": [
    "interactions_df = pd.DataFrame(data=[(el[0].source, el[0].target, el[1]) for el in interactions_count.items()], columns=[\"Source\", \"Target\", \"Count\"])"
   ]
  },
  {
   "cell_type": "code",
   "execution_count": 15,
   "metadata": {},
   "outputs": [
    {
     "data": {
      "text/html": [
       "<div>\n",
       "<style scoped>\n",
       "    .dataframe tbody tr th:only-of-type {\n",
       "        vertical-align: middle;\n",
       "    }\n",
       "\n",
       "    .dataframe tbody tr th {\n",
       "        vertical-align: top;\n",
       "    }\n",
       "\n",
       "    .dataframe thead th {\n",
       "        text-align: right;\n",
       "    }\n",
       "</style>\n",
       "<table border=\"1\" class=\"dataframe\">\n",
       "  <thead>\n",
       "    <tr style=\"text-align: right;\">\n",
       "      <th></th>\n",
       "      <th>Source</th>\n",
       "      <th>Target</th>\n",
       "      <th>Count</th>\n",
       "    </tr>\n",
       "  </thead>\n",
       "  <tbody>\n",
       "    <tr>\n",
       "      <th>30313</th>\n",
       "      <td>shepnewsteam</td>\n",
       "      <td>foxnews</td>\n",
       "      <td>693</td>\n",
       "    </tr>\n",
       "    <tr>\n",
       "      <th>13366</th>\n",
       "      <td>dmashak</td>\n",
       "      <td>mngop</td>\n",
       "      <td>436</td>\n",
       "    </tr>\n",
       "    <tr>\n",
       "      <th>174494</th>\n",
       "      <td>bobbyjindal</td>\n",
       "      <td>shepnewsteam</td>\n",
       "      <td>406</td>\n",
       "    </tr>\n",
       "    <tr>\n",
       "      <th>168729</th>\n",
       "      <td>potus</td>\n",
       "      <td>potus44</td>\n",
       "      <td>332</td>\n",
       "    </tr>\n",
       "    <tr>\n",
       "      <th>156591</th>\n",
       "      <td>cnn</td>\n",
       "      <td>foxnews</td>\n",
       "      <td>279</td>\n",
       "    </tr>\n",
       "    <tr>\n",
       "      <th>125709</th>\n",
       "      <td>bobbyjindal</td>\n",
       "      <td>foxnews</td>\n",
       "      <td>279</td>\n",
       "    </tr>\n",
       "    <tr>\n",
       "      <th>164103</th>\n",
       "      <td>thedemocrats</td>\n",
       "      <td>gop</td>\n",
       "      <td>273</td>\n",
       "    </tr>\n",
       "    <tr>\n",
       "      <th>117322</th>\n",
       "      <td>minnesotadfl</td>\n",
       "      <td>mngop</td>\n",
       "      <td>251</td>\n",
       "    </tr>\n",
       "    <tr>\n",
       "      <th>253644</th>\n",
       "      <td>dmashak</td>\n",
       "      <td>minnesotadfl</td>\n",
       "      <td>246</td>\n",
       "    </tr>\n",
       "    <tr>\n",
       "      <th>228489</th>\n",
       "      <td>cindysvoice</td>\n",
       "      <td>wdtv</td>\n",
       "      <td>239</td>\n",
       "    </tr>\n",
       "    <tr>\n",
       "      <th>9856</th>\n",
       "      <td>dmashak</td>\n",
       "      <td>gop</td>\n",
       "      <td>230</td>\n",
       "    </tr>\n",
       "    <tr>\n",
       "      <th>155548</th>\n",
       "      <td>dmashak</td>\n",
       "      <td>thedemocrats</td>\n",
       "      <td>230</td>\n",
       "    </tr>\n",
       "    <tr>\n",
       "      <th>23607</th>\n",
       "      <td>thedemocrats</td>\n",
       "      <td>beyonce</td>\n",
       "      <td>220</td>\n",
       "    </tr>\n",
       "    <tr>\n",
       "      <th>143906</th>\n",
       "      <td>beyonce</td>\n",
       "      <td>gop</td>\n",
       "      <td>220</td>\n",
       "    </tr>\n",
       "    <tr>\n",
       "      <th>19508</th>\n",
       "      <td>thedemocrats</td>\n",
       "      <td>mngop</td>\n",
       "      <td>211</td>\n",
       "    </tr>\n",
       "    <tr>\n",
       "      <th>139740</th>\n",
       "      <td>mngop</td>\n",
       "      <td>gop</td>\n",
       "      <td>211</td>\n",
       "    </tr>\n",
       "    <tr>\n",
       "      <th>18335</th>\n",
       "      <td>katyperry</td>\n",
       "      <td>beyonce</td>\n",
       "      <td>208</td>\n",
       "    </tr>\n",
       "    <tr>\n",
       "      <th>28238</th>\n",
       "      <td>katyperry</td>\n",
       "      <td>jlo</td>\n",
       "      <td>208</td>\n",
       "    </tr>\n",
       "    <tr>\n",
       "      <th>125642</th>\n",
       "      <td>jlo</td>\n",
       "      <td>gop</td>\n",
       "      <td>207</td>\n",
       "    </tr>\n",
       "    <tr>\n",
       "      <th>33546</th>\n",
       "      <td>thedemocrats</td>\n",
       "      <td>jlo</td>\n",
       "      <td>207</td>\n",
       "    </tr>\n",
       "    <tr>\n",
       "      <th>238900</th>\n",
       "      <td>jlo</td>\n",
       "      <td>beyonce</td>\n",
       "      <td>207</td>\n",
       "    </tr>\n",
       "    <tr>\n",
       "      <th>78720</th>\n",
       "      <td>thedemocrats</td>\n",
       "      <td>katyperry</td>\n",
       "      <td>206</td>\n",
       "    </tr>\n",
       "    <tr>\n",
       "      <th>199276</th>\n",
       "      <td>katyperry</td>\n",
       "      <td>gop</td>\n",
       "      <td>206</td>\n",
       "    </tr>\n",
       "    <tr>\n",
       "      <th>18454</th>\n",
       "      <td>lifeofdna</td>\n",
       "      <td>jaredmusicnc</td>\n",
       "      <td>204</td>\n",
       "    </tr>\n",
       "    <tr>\n",
       "      <th>94506</th>\n",
       "      <td>dmashak</td>\n",
       "      <td>beyonce</td>\n",
       "      <td>202</td>\n",
       "    </tr>\n",
       "    <tr>\n",
       "      <th>256726</th>\n",
       "      <td>carolynepromo</td>\n",
       "      <td>carolynescott</td>\n",
       "      <td>198</td>\n",
       "    </tr>\n",
       "    <tr>\n",
       "      <th>224835</th>\n",
       "      <td>mngop</td>\n",
       "      <td>beyonce</td>\n",
       "      <td>198</td>\n",
       "    </tr>\n",
       "    <tr>\n",
       "      <th>234743</th>\n",
       "      <td>mngop</td>\n",
       "      <td>jlo</td>\n",
       "      <td>197</td>\n",
       "    </tr>\n",
       "    <tr>\n",
       "      <th>86317</th>\n",
       "      <td>whitehouse</td>\n",
       "      <td>potus</td>\n",
       "      <td>197</td>\n",
       "    </tr>\n",
       "    <tr>\n",
       "      <th>14151</th>\n",
       "      <td>katyperry</td>\n",
       "      <td>mngop</td>\n",
       "      <td>197</td>\n",
       "    </tr>\n",
       "    <tr>\n",
       "      <th>104571</th>\n",
       "      <td>dmashak</td>\n",
       "      <td>jlo</td>\n",
       "      <td>193</td>\n",
       "    </tr>\n",
       "    <tr>\n",
       "      <th>150311</th>\n",
       "      <td>dmashak</td>\n",
       "      <td>katyperry</td>\n",
       "      <td>191</td>\n",
       "    </tr>\n",
       "    <tr>\n",
       "      <th>17699</th>\n",
       "      <td>amazon</td>\n",
       "      <td>nyc_fitfamily</td>\n",
       "      <td>185</td>\n",
       "    </tr>\n",
       "    <tr>\n",
       "      <th>255613</th>\n",
       "      <td>carolynepromo</td>\n",
       "      <td>youtube</td>\n",
       "      <td>181</td>\n",
       "    </tr>\n",
       "    <tr>\n",
       "      <th>174227</th>\n",
       "      <td>huffingtonpost</td>\n",
       "      <td>huffpost</td>\n",
       "      <td>175</td>\n",
       "    </tr>\n",
       "    <tr>\n",
       "      <th>141489</th>\n",
       "      <td>youtube</td>\n",
       "      <td>carolynescott</td>\n",
       "      <td>172</td>\n",
       "    </tr>\n",
       "    <tr>\n",
       "      <th>236773</th>\n",
       "      <td>ppact</td>\n",
       "      <td>ppfa</td>\n",
       "      <td>166</td>\n",
       "    </tr>\n",
       "    <tr>\n",
       "      <th>88870</th>\n",
       "      <td>cnn</td>\n",
       "      <td>msnbc</td>\n",
       "      <td>165</td>\n",
       "    </tr>\n",
       "    <tr>\n",
       "      <th>58968</th>\n",
       "      <td>annmnichols2014</td>\n",
       "      <td>wdtv</td>\n",
       "      <td>161</td>\n",
       "    </tr>\n",
       "    <tr>\n",
       "      <th>138922</th>\n",
       "      <td>ppact</td>\n",
       "      <td>revgrendel</td>\n",
       "      <td>159</td>\n",
       "    </tr>\n",
       "    <tr>\n",
       "      <th>142637</th>\n",
       "      <td>obamawhitehouse</td>\n",
       "      <td>whitehouse</td>\n",
       "      <td>152</td>\n",
       "    </tr>\n",
       "    <tr>\n",
       "      <th>133516</th>\n",
       "      <td>revgrendel</td>\n",
       "      <td>ppfa</td>\n",
       "      <td>147</td>\n",
       "    </tr>\n",
       "    <tr>\n",
       "      <th>101465</th>\n",
       "      <td>hillaryclinton</td>\n",
       "      <td>realdonaldtrump</td>\n",
       "      <td>142</td>\n",
       "    </tr>\n",
       "    <tr>\n",
       "      <th>49073</th>\n",
       "      <td>rtldmedia</td>\n",
       "      <td>therealestyk</td>\n",
       "      <td>138</td>\n",
       "    </tr>\n",
       "    <tr>\n",
       "      <th>10972</th>\n",
       "      <td>justice4cephus2</td>\n",
       "      <td>wdtv</td>\n",
       "      <td>137</td>\n",
       "    </tr>\n",
       "    <tr>\n",
       "      <th>221725</th>\n",
       "      <td>juliezeilinger</td>\n",
       "      <td>micnews</td>\n",
       "      <td>119</td>\n",
       "    </tr>\n",
       "    <tr>\n",
       "      <th>145244</th>\n",
       "      <td>foxnews</td>\n",
       "      <td>realdonaldtrump</td>\n",
       "      <td>118</td>\n",
       "    </tr>\n",
       "    <tr>\n",
       "      <th>23638</th>\n",
       "      <td>whitehouse</td>\n",
       "      <td>barackobama</td>\n",
       "      <td>115</td>\n",
       "    </tr>\n",
       "    <tr>\n",
       "      <th>170858</th>\n",
       "      <td>tigerblood42</td>\n",
       "      <td>flgovscott</td>\n",
       "      <td>108</td>\n",
       "    </tr>\n",
       "    <tr>\n",
       "      <th>61252</th>\n",
       "      <td>jblizzy243ceo</td>\n",
       "      <td>kriskartel718</td>\n",
       "      <td>107</td>\n",
       "    </tr>\n",
       "    <tr>\n",
       "      <th>245838</th>\n",
       "      <td>potus</td>\n",
       "      <td>usfws</td>\n",
       "      <td>106</td>\n",
       "    </tr>\n",
       "    <tr>\n",
       "      <th>61846</th>\n",
       "      <td>elizabethmanage</td>\n",
       "      <td>csiccness</td>\n",
       "      <td>105</td>\n",
       "    </tr>\n",
       "    <tr>\n",
       "      <th>148411</th>\n",
       "      <td>interior</td>\n",
       "      <td>usfws</td>\n",
       "      <td>104</td>\n",
       "    </tr>\n",
       "    <tr>\n",
       "      <th>116740</th>\n",
       "      <td>interior</td>\n",
       "      <td>potus</td>\n",
       "      <td>104</td>\n",
       "    </tr>\n",
       "    <tr>\n",
       "      <th>250922</th>\n",
       "      <td>tigerblood42</td>\n",
       "      <td>detsgt</td>\n",
       "      <td>103</td>\n",
       "    </tr>\n",
       "    <tr>\n",
       "      <th>119628</th>\n",
       "      <td>foxnews</td>\n",
       "      <td>msnbc</td>\n",
       "      <td>101</td>\n",
       "    </tr>\n",
       "    <tr>\n",
       "      <th>141641</th>\n",
       "      <td>flgovscott</td>\n",
       "      <td>detsgt</td>\n",
       "      <td>100</td>\n",
       "    </tr>\n",
       "    <tr>\n",
       "      <th>1976</th>\n",
       "      <td>proper83</td>\n",
       "      <td>kriskartel718</td>\n",
       "      <td>100</td>\n",
       "    </tr>\n",
       "  </tbody>\n",
       "</table>\n",
       "</div>"
      ],
      "text/plain": [
       "                 Source           Target  Count\n",
       "30313      shepnewsteam          foxnews    693\n",
       "13366           dmashak            mngop    436\n",
       "174494      bobbyjindal     shepnewsteam    406\n",
       "168729            potus          potus44    332\n",
       "156591              cnn          foxnews    279\n",
       "125709      bobbyjindal          foxnews    279\n",
       "164103     thedemocrats              gop    273\n",
       "117322     minnesotadfl            mngop    251\n",
       "253644          dmashak     minnesotadfl    246\n",
       "228489      cindysvoice             wdtv    239\n",
       "9856            dmashak              gop    230\n",
       "155548          dmashak     thedemocrats    230\n",
       "23607      thedemocrats          beyonce    220\n",
       "143906          beyonce              gop    220\n",
       "19508      thedemocrats            mngop    211\n",
       "139740            mngop              gop    211\n",
       "18335         katyperry          beyonce    208\n",
       "28238         katyperry              jlo    208\n",
       "125642              jlo              gop    207\n",
       "33546      thedemocrats              jlo    207\n",
       "238900              jlo          beyonce    207\n",
       "78720      thedemocrats        katyperry    206\n",
       "199276        katyperry              gop    206\n",
       "18454         lifeofdna     jaredmusicnc    204\n",
       "94506           dmashak          beyonce    202\n",
       "256726    carolynepromo    carolynescott    198\n",
       "224835            mngop          beyonce    198\n",
       "234743            mngop              jlo    197\n",
       "86317        whitehouse            potus    197\n",
       "14151         katyperry            mngop    197\n",
       "104571          dmashak              jlo    193\n",
       "150311          dmashak        katyperry    191\n",
       "17699            amazon    nyc_fitfamily    185\n",
       "255613    carolynepromo          youtube    181\n",
       "174227   huffingtonpost         huffpost    175\n",
       "141489          youtube    carolynescott    172\n",
       "236773            ppact             ppfa    166\n",
       "88870               cnn            msnbc    165\n",
       "58968   annmnichols2014             wdtv    161\n",
       "138922            ppact       revgrendel    159\n",
       "142637  obamawhitehouse       whitehouse    152\n",
       "133516       revgrendel             ppfa    147\n",
       "101465   hillaryclinton  realdonaldtrump    142\n",
       "49073         rtldmedia     therealestyk    138\n",
       "10972   justice4cephus2             wdtv    137\n",
       "221725   juliezeilinger          micnews    119\n",
       "145244          foxnews  realdonaldtrump    118\n",
       "23638        whitehouse      barackobama    115\n",
       "170858     tigerblood42       flgovscott    108\n",
       "61252     jblizzy243ceo    kriskartel718    107\n",
       "245838            potus            usfws    106\n",
       "61846   elizabethmanage        csiccness    105\n",
       "148411         interior            usfws    104\n",
       "116740         interior            potus    104\n",
       "250922     tigerblood42           detsgt    103\n",
       "119628          foxnews            msnbc    101\n",
       "141641       flgovscott           detsgt    100\n",
       "1976           proper83    kriskartel718    100"
      ]
     },
     "execution_count": 15,
     "metadata": {},
     "output_type": "execute_result"
    }
   ],
   "source": [
    "interactions_df.sort_values(by=\"Count\", ascending=False, inplace=True)\n",
    "interactions_df[interactions_df[\"Count\"]>=100]"
   ]
  },
  {
   "cell_type": "markdown",
   "metadata": {},
   "source": [
    "The above DataFrame therefore shows who are the pairs of users that interacted the most on a time basis about hashtag **#AllLivesMatter**. Please remind that because of the filtering performed in the previous section, DataFrame might include some users that are not part of the graph data.\n",
    "\n",
    "Another perspective may be given instead to highlight which individual users have been involved in the highest number of interactions:"
   ]
  },
  {
   "cell_type": "code",
   "execution_count": 16,
   "metadata": {},
   "outputs": [
    {
     "data": {
      "text/html": [
       "<div>\n",
       "<style scoped>\n",
       "    .dataframe tbody tr th:only-of-type {\n",
       "        vertical-align: middle;\n",
       "    }\n",
       "\n",
       "    .dataframe tbody tr th {\n",
       "        vertical-align: top;\n",
       "    }\n",
       "\n",
       "    .dataframe thead th {\n",
       "        text-align: right;\n",
       "    }\n",
       "</style>\n",
       "<table border=\"1\" class=\"dataframe\">\n",
       "  <thead>\n",
       "    <tr style=\"text-align: right;\">\n",
       "      <th></th>\n",
       "      <th>User</th>\n",
       "      <th>Count</th>\n",
       "    </tr>\n",
       "  </thead>\n",
       "  <tbody>\n",
       "    <tr>\n",
       "      <th>43812</th>\n",
       "      <td>foxnews</td>\n",
       "      <td>6773</td>\n",
       "    </tr>\n",
       "    <tr>\n",
       "      <th>103391</th>\n",
       "      <td>realdonaldtrump</td>\n",
       "      <td>5096</td>\n",
       "    </tr>\n",
       "    <tr>\n",
       "      <th>26604</th>\n",
       "      <td>cnn</td>\n",
       "      <td>4536</td>\n",
       "    </tr>\n",
       "    <tr>\n",
       "      <th>99792</th>\n",
       "      <td>potus</td>\n",
       "      <td>4062</td>\n",
       "    </tr>\n",
       "    <tr>\n",
       "      <th>113139</th>\n",
       "      <td>shepnewsteam</td>\n",
       "      <td>3933</td>\n",
       "    </tr>\n",
       "    <tr>\n",
       "      <th>137840</th>\n",
       "      <td>youtube</td>\n",
       "      <td>3409</td>\n",
       "    </tr>\n",
       "    <tr>\n",
       "      <th>51498</th>\n",
       "      <td>hillaryclinton</td>\n",
       "      <td>2937</td>\n",
       "    </tr>\n",
       "    <tr>\n",
       "      <th>12897</th>\n",
       "      <td>barackobama</td>\n",
       "      <td>2339</td>\n",
       "    </tr>\n",
       "    <tr>\n",
       "      <th>33418</th>\n",
       "      <td>deray</td>\n",
       "      <td>2325</td>\n",
       "    </tr>\n",
       "    <tr>\n",
       "      <th>47835</th>\n",
       "      <td>gop</td>\n",
       "      <td>2098</td>\n",
       "    </tr>\n",
       "    <tr>\n",
       "      <th>123321</th>\n",
       "      <td>thedemocrats</td>\n",
       "      <td>1970</td>\n",
       "    </tr>\n",
       "    <tr>\n",
       "      <th>35243</th>\n",
       "      <td>dmashak</td>\n",
       "      <td>1846</td>\n",
       "    </tr>\n",
       "    <tr>\n",
       "      <th>85637</th>\n",
       "      <td>mngop</td>\n",
       "      <td>1807</td>\n",
       "    </tr>\n",
       "    <tr>\n",
       "      <th>14917</th>\n",
       "      <td>beyonce</td>\n",
       "      <td>1801</td>\n",
       "    </tr>\n",
       "    <tr>\n",
       "      <th>61777</th>\n",
       "      <td>jlo</td>\n",
       "      <td>1713</td>\n",
       "    </tr>\n",
       "    <tr>\n",
       "      <th>17362</th>\n",
       "      <td>bobbyjindal</td>\n",
       "      <td>1581</td>\n",
       "    </tr>\n",
       "    <tr>\n",
       "      <th>113177</th>\n",
       "      <td>sheriffclarke</td>\n",
       "      <td>1568</td>\n",
       "    </tr>\n",
       "    <tr>\n",
       "      <th>70471</th>\n",
       "      <td>kriskartel718</td>\n",
       "      <td>1526</td>\n",
       "    </tr>\n",
       "    <tr>\n",
       "      <th>87980</th>\n",
       "      <td>msnbc</td>\n",
       "      <td>1507</td>\n",
       "    </tr>\n",
       "    <tr>\n",
       "      <th>66920</th>\n",
       "      <td>katyperry</td>\n",
       "      <td>1413</td>\n",
       "    </tr>\n",
       "    <tr>\n",
       "      <th>124915</th>\n",
       "      <td>thereval</td>\n",
       "      <td>1261</td>\n",
       "    </tr>\n",
       "    <tr>\n",
       "      <th>134623</th>\n",
       "      <td>whitehouse</td>\n",
       "      <td>1248</td>\n",
       "    </tr>\n",
       "    <tr>\n",
       "      <th>99870</th>\n",
       "      <td>ppact</td>\n",
       "      <td>1220</td>\n",
       "    </tr>\n",
       "    <tr>\n",
       "      <th>3441</th>\n",
       "      <td>abc</td>\n",
       "      <td>1151</td>\n",
       "    </tr>\n",
       "    <tr>\n",
       "      <th>14613</th>\n",
       "      <td>berniesanders</td>\n",
       "      <td>1145</td>\n",
       "    </tr>\n",
       "    <tr>\n",
       "      <th>47113</th>\n",
       "      <td>glennbeck</td>\n",
       "      <td>1138</td>\n",
       "    </tr>\n",
       "    <tr>\n",
       "      <th>111196</th>\n",
       "      <td>seanhannity</td>\n",
       "      <td>1126</td>\n",
       "    </tr>\n",
       "    <tr>\n",
       "      <th>76485</th>\n",
       "      <td>louisfarrakhan</td>\n",
       "      <td>1087</td>\n",
       "    </tr>\n",
       "    <tr>\n",
       "      <th>112723</th>\n",
       "      <td>shaunking</td>\n",
       "      <td>1035</td>\n",
       "    </tr>\n",
       "    <tr>\n",
       "      <th>26613</th>\n",
       "      <td>cnnbrk</td>\n",
       "      <td>965</td>\n",
       "    </tr>\n",
       "    <tr>\n",
       "      <th>...</th>\n",
       "      <td>...</td>\n",
       "      <td>...</td>\n",
       "    </tr>\n",
       "    <tr>\n",
       "      <th>93616</th>\n",
       "      <td>nytimes</td>\n",
       "      <td>803</td>\n",
       "    </tr>\n",
       "    <tr>\n",
       "      <th>72938</th>\n",
       "      <td>leahr77</td>\n",
       "      <td>787</td>\n",
       "    </tr>\n",
       "    <tr>\n",
       "      <th>82215</th>\n",
       "      <td>megynkelly</td>\n",
       "      <td>781</td>\n",
       "    </tr>\n",
       "    <tr>\n",
       "      <th>22742</th>\n",
       "      <td>cbsnews</td>\n",
       "      <td>773</td>\n",
       "    </tr>\n",
       "    <tr>\n",
       "      <th>8656</th>\n",
       "      <td>angelemichelle</td>\n",
       "      <td>748</td>\n",
       "    </tr>\n",
       "    <tr>\n",
       "      <th>71579</th>\n",
       "      <td>ladygaga</td>\n",
       "      <td>747</td>\n",
       "    </tr>\n",
       "    <tr>\n",
       "      <th>131323</th>\n",
       "      <td>usfws</td>\n",
       "      <td>741</td>\n",
       "    </tr>\n",
       "    <tr>\n",
       "      <th>133883</th>\n",
       "      <td>wdtv</td>\n",
       "      <td>734</td>\n",
       "    </tr>\n",
       "    <tr>\n",
       "      <th>9694</th>\n",
       "      <td>ap</td>\n",
       "      <td>718</td>\n",
       "    </tr>\n",
       "    <tr>\n",
       "      <th>52680</th>\n",
       "      <td>huffingtonpost</td>\n",
       "      <td>713</td>\n",
       "    </tr>\n",
       "    <tr>\n",
       "      <th>96885</th>\n",
       "      <td>patriotjewel</td>\n",
       "      <td>698</td>\n",
       "    </tr>\n",
       "    <tr>\n",
       "      <th>99898</th>\n",
       "      <td>ppfa</td>\n",
       "      <td>667</td>\n",
       "    </tr>\n",
       "    <tr>\n",
       "      <th>123030</th>\n",
       "      <td>theblaze</td>\n",
       "      <td>614</td>\n",
       "    </tr>\n",
       "    <tr>\n",
       "      <th>22558</th>\n",
       "      <td>catwahler</td>\n",
       "      <td>608</td>\n",
       "    </tr>\n",
       "    <tr>\n",
       "      <th>48649</th>\n",
       "      <td>greta</td>\n",
       "      <td>584</td>\n",
       "    </tr>\n",
       "    <tr>\n",
       "      <th>15636</th>\n",
       "      <td>billdeblasio</td>\n",
       "      <td>583</td>\n",
       "    </tr>\n",
       "    <tr>\n",
       "      <th>70762</th>\n",
       "      <td>kshllcenterpri1</td>\n",
       "      <td>575</td>\n",
       "    </tr>\n",
       "    <tr>\n",
       "      <th>110883</th>\n",
       "      <td>scottsaxman1</td>\n",
       "      <td>572</td>\n",
       "    </tr>\n",
       "    <tr>\n",
       "      <th>58314</th>\n",
       "      <td>jaredmusicnc</td>\n",
       "      <td>562</td>\n",
       "    </tr>\n",
       "    <tr>\n",
       "      <th>104961</th>\n",
       "      <td>revgrendel</td>\n",
       "      <td>560</td>\n",
       "    </tr>\n",
       "    <tr>\n",
       "      <th>16798</th>\n",
       "      <td>blklivesmatter</td>\n",
       "      <td>553</td>\n",
       "    </tr>\n",
       "    <tr>\n",
       "      <th>18637</th>\n",
       "      <td>breitbartnews</td>\n",
       "      <td>537</td>\n",
       "    </tr>\n",
       "    <tr>\n",
       "      <th>35835</th>\n",
       "      <td>donlemon</td>\n",
       "      <td>528</td>\n",
       "    </tr>\n",
       "    <tr>\n",
       "      <th>83649</th>\n",
       "      <td>micnews</td>\n",
       "      <td>528</td>\n",
       "    </tr>\n",
       "    <tr>\n",
       "      <th>84561</th>\n",
       "      <td>minnesotadfl</td>\n",
       "      <td>527</td>\n",
       "    </tr>\n",
       "    <tr>\n",
       "      <th>49257</th>\n",
       "      <td>gwattasquad</td>\n",
       "      <td>525</td>\n",
       "    </tr>\n",
       "    <tr>\n",
       "      <th>95379</th>\n",
       "      <td>oreillyfactor</td>\n",
       "      <td>517</td>\n",
       "    </tr>\n",
       "    <tr>\n",
       "      <th>111704</th>\n",
       "      <td>sensanders</td>\n",
       "      <td>517</td>\n",
       "    </tr>\n",
       "    <tr>\n",
       "      <th>121545</th>\n",
       "      <td>tedcruz</td>\n",
       "      <td>515</td>\n",
       "    </tr>\n",
       "    <tr>\n",
       "      <th>21993</th>\n",
       "      <td>carolynepromo</td>\n",
       "      <td>503</td>\n",
       "    </tr>\n",
       "  </tbody>\n",
       "</table>\n",
       "<p>66 rows × 2 columns</p>\n",
       "</div>"
      ],
      "text/plain": [
       "                   User  Count\n",
       "43812           foxnews   6773\n",
       "103391  realdonaldtrump   5096\n",
       "26604               cnn   4536\n",
       "99792             potus   4062\n",
       "113139     shepnewsteam   3933\n",
       "137840          youtube   3409\n",
       "51498    hillaryclinton   2937\n",
       "12897       barackobama   2339\n",
       "33418             deray   2325\n",
       "47835               gop   2098\n",
       "123321     thedemocrats   1970\n",
       "35243           dmashak   1846\n",
       "85637             mngop   1807\n",
       "14917           beyonce   1801\n",
       "61777               jlo   1713\n",
       "17362       bobbyjindal   1581\n",
       "113177    sheriffclarke   1568\n",
       "70471     kriskartel718   1526\n",
       "87980             msnbc   1507\n",
       "66920         katyperry   1413\n",
       "124915         thereval   1261\n",
       "134623       whitehouse   1248\n",
       "99870             ppact   1220\n",
       "3441                abc   1151\n",
       "14613     berniesanders   1145\n",
       "47113         glennbeck   1138\n",
       "111196      seanhannity   1126\n",
       "76485    louisfarrakhan   1087\n",
       "112723        shaunking   1035\n",
       "26613            cnnbrk    965\n",
       "...                 ...    ...\n",
       "93616           nytimes    803\n",
       "72938           leahr77    787\n",
       "82215        megynkelly    781\n",
       "22742           cbsnews    773\n",
       "8656     angelemichelle    748\n",
       "71579          ladygaga    747\n",
       "131323            usfws    741\n",
       "133883             wdtv    734\n",
       "9694                 ap    718\n",
       "52680    huffingtonpost    713\n",
       "96885      patriotjewel    698\n",
       "99898              ppfa    667\n",
       "123030         theblaze    614\n",
       "22558         catwahler    608\n",
       "48649             greta    584\n",
       "15636      billdeblasio    583\n",
       "70762   kshllcenterpri1    575\n",
       "110883     scottsaxman1    572\n",
       "58314      jaredmusicnc    562\n",
       "104961       revgrendel    560\n",
       "16798    blklivesmatter    553\n",
       "18637     breitbartnews    537\n",
       "35835          donlemon    528\n",
       "83649           micnews    528\n",
       "84561      minnesotadfl    527\n",
       "49257       gwattasquad    525\n",
       "95379     oreillyfactor    517\n",
       "111704       sensanders    517\n",
       "121545          tedcruz    515\n",
       "21993     carolynepromo    503\n",
       "\n",
       "[66 rows x 2 columns]"
      ]
     },
     "execution_count": 16,
     "metadata": {},
     "output_type": "execute_result"
    }
   ],
   "source": [
    "temp1 = interactions_df.groupby(['Source']).sum().reset_index().rename(columns={'Source':'User'})\n",
    "temp2 = interactions_df.groupby(['Target']).sum().reset_index().rename(columns={'Target':'User'})\n",
    "temp = temp1.append(temp2)\n",
    "temp = temp.groupby(['User']).sum().reset_index()\n",
    "temp.sort_values(by=\"Count\",ascending=False, inplace=True)\n",
    "temp[temp[\"Count\"]>=500]"
   ]
  },
  {
   "cell_type": "markdown",
   "metadata": {},
   "source": [
    "The result above gives an idea about who have been the most active users around the hashtag topic overtime."
   ]
  },
  {
   "cell_type": "code",
   "execution_count": 41,
   "metadata": {},
   "outputs": [],
   "source": [
    "# Backup DataFrames to visualize top interactions with NetworkX / Graphistry\n",
    "interactions_df[interactions_df[\"Count\"]>=50].to_csv(os.path.join(data_dir, \"graph_visualization_top_interactions/\"+hashtag+\"_top_interactions.csv\"),index=False)\n",
    "temp[temp[\"Count\"]>=100].to_csv(os.path.join(data_dir, \"graph_visualization_top_interactions/\"+hashtag+\"_users_frequency.csv\"),index=False)"
   ]
  },
  {
   "cell_type": "markdown",
   "metadata": {},
   "source": [
    "## 3. Measuring interactions consistency overtime\n",
    "What I'm now interested in, and what actually represents the end goal of this whole work, is identifying a measure of consistency related to the interactions of people taking part of controversies on Twitter. According to the data I am provided with, I may identify 2 paths:\n",
    "- **MMR graph data**: there's a property of the graph data that hasn't been used so far but still lies in the CSV files I got as result of all the data transformation steps that featured the first notebooks. This property would already give a built-in definition of *interaction consistency*; however, the information we may infer from it is quite limited, and the reason is that for each pair of users we only know whether they have interacted (consistently) within a 3 months period, and given the ranges of our timeline this sums up to a total of 13 periods. It's the only way, however, to compare how interaction consistency has changed overtime;\n",
    "- **Tweets**: when limiting the scope to the tweets related to a specific topic (hashtag), I have no information about which other topics all involved users have been tweeting about neither the related temporal information. Therefore, I may only know when has the *first* Twitter interaction occurred between each pair of mutually interacting users and all the subsequent ones. This is something that has already been highlighted a bit with the previous section, however I may further narrow it down and measure interactions consistency overtime if I count the interactions *per month*."
   ]
  },
  {
   "cell_type": "markdown",
   "metadata": {},
   "source": [
    "### 3.1 Long-term interaction consistency comparison: Analyzing behavioral changes overtime\n",
    "The idea of this analysis is to compare interaction consistency before and after the first $H$-type interaction, in order to highlight the bonding effect of a given hashtag: does it actually strengthen or weaken ties overtime? Are users more or less likely to communicate with each other after their $H$ interaction? We want to address these questions by carrying out this first timeline analysis by using metadata as edge attributes provided by the MMR graph data.\n",
    "\n",
    "In details: we have a total of 13 periods, ranging from 2013-09 to 2016-12, each of 3 months duration. For each edge in $H$ and for each of the periods, we then have a binary variable with values 1/0, set to 1 if the interaction occurred in the respective 3 months period, 0 otherwise (simplification of True/False values). Let's say, given period with 0-based index $i$ and edge $e$: $IsInPeriod(e,i)$ is a function as defined below:\n",
    "\n",
    "$$\n",
    "IsInPeriod(e,i) =\n",
    "    \\begin{cases}\n",
    "        1 & \\text{if $e$ occurred in period $i$,}\\\\\n",
    "        0 & \\text{otherwise.}\n",
    "    \\end{cases}\n",
    "$$\n",
    "\n",
    "Then, the **mutual interaction consistency** of edge $e$, calculated over $P$ consecutive periods starting from period with index $k$ until period with index $j$ (with $j +1 \\ge k$), is given by:\n",
    "\n",
    "$$MIC(e,k,j) = \\frac{\\sum_{i=k}^{j}IsInPeriod(e,i)}{P} = \\frac{\\sum_{i=k}^{j}IsInPeriod(e,i)}{j-k+1}$$\n",
    "\n",
    "Based on the values of $j$ and $k$, $MIC$ becomes meaningful if we consider its **average** over all edges. Therefore, the **average mutual interaction consistency** $\\langle MIC \\rangle$ may be calculated in three similar ways:\n",
    "- $\\langle MIC \\rangle_{T}$: for each edge $e$, $P = 13$, $k=0$, $j=12$ (the whole timeline period);\n",
    "- $\\langle MIC \\rangle_{B}$: for each edge $e$, $P$ is the number of consecutive periods *before* the first $H$ interaction between nodes of edge $e$, i.e. if the first interaction occurred in period with index $q$, then $k=0$, $j=q-1$;\n",
    "- $\\langle MIC \\rangle_{A}$: for each edge $e$, $P$ is the number of consecutive periods *after* the first $H$ interaction between nodes of edge $e$, i.e. $k=q$, $j=12$.\n",
    "\n",
    "In general, given $E$ as the set of edges of $H$ subgraph:\n",
    "\n",
    "$$\\langle MIC \\rangle = \\frac{\\sum_{e \\in E}MIC(e)}{|E|}$$\n",
    "\n",
    "where the values of $k$ and $j$, that depend directly on the considered edge $e$ based on which type of $\\langle MIC \\rangle$ we're calculating, have been encapsulated inside the $MIC$ function.\n",
    "\n",
    "Values of $\\langle MIC \\rangle_{T}$ may then be compared across different $H$ subgraphs, whereas $\\langle MIC \\rangle_{B}$ and $\\langle MIC \\rangle_{A}$ may be then directly compared within the same $H$ subgraph to quantify the bonding impact of hashtag $H$ overtime."
   ]
  },
  {
   "cell_type": "markdown",
   "metadata": {},
   "source": [
    "As a first step, we need to conveniently store the edges attribute. This metadata is already transformed into an array of integers where values are the encoding of the periods, ranging from 0 to 12, where period $0$ is period between 2013-09 and 2013-11 (edges included),  and period $12$ between 2016-09 and 2016-11.\n",
    "\n",
    "I may reuse the `Interaction` custom type to store them as keys of a dictionary (this time I also add a value for the periods field), and I map each `Interaction` to the period corresponding to the first $H$ interaction."
   ]
  },
  {
   "cell_type": "code",
   "execution_count": 12,
   "metadata": {},
   "outputs": [
    {
     "name": "stdout",
     "output_type": "stream",
     "text": [
      "Processed 43419395 lines...\n",
      "Processed 86838790 lines...\n",
      "Processed 130258185 lines...\n",
      "Processed 173677580 lines...\n",
      "Processed 217096975 lines...\n",
      "Processed 260516370 lines...\n",
      "Processed 303935765 lines...\n",
      "Processed 347355160 lines...\n",
      "Processed 390774555 lines...\n",
      "Processed 434193950 lines...\n",
      "Done!\n",
      "CPU times: user 28min 3s, sys: 3.58 s, total: 28min 7s\n",
      "Wall time: 28min 12s\n"
     ]
    }
   ],
   "source": [
    "%%time\n",
    "# Read MMR encoded file\n",
    "interaction_to_first_occ = {}\n",
    "count = 0\n",
    "tot_lines = !wc -l ../data/mmr_encoded_final.csv\n",
    "tot_lines = int(tot_lines[0].split()[0])\n",
    "checkpoint = tot_lines/10\n",
    "with open(\"../data/mmr_encoded_final.csv\") as fin:\n",
    "    for line in read_large_file(fin):\n",
    "        source, target, periods = process_edge_line(line)\n",
    "        count+=1\n",
    "        if count % checkpoint == 0:\n",
    "            print(\"Processed %d lines...\" %count)\n",
    "        if not hashtag_subgraph.IsEdge(source,target):\n",
    "            continue\n",
    "        interaction_to_first_occ[Interaction(source, target, periods)] = None\n",
    "print(\"Done!\")"
   ]
  },
  {
   "cell_type": "markdown",
   "metadata": {},
   "source": [
    "I also need to have a dict that maps each period with the corresponding encoding:"
   ]
  },
  {
   "cell_type": "code",
   "execution_count": 13,
   "metadata": {},
   "outputs": [],
   "source": [
    "def get_periods_encoding_dict():\n",
    "    periods_encoding_df = pd.read_csv(\"../data/period_encoding.csv\")\n",
    "    return {r[\"period\"]:r[\"encoding\"] for _,r in periods_encoding_df.iterrows()}"
   ]
  },
  {
   "cell_type": "code",
   "execution_count": 14,
   "metadata": {},
   "outputs": [],
   "source": [
    "periods_encoding_dict = get_periods_encoding_dict()"
   ]
  },
  {
   "cell_type": "markdown",
   "metadata": {},
   "source": [
    "Furthermore, I need a function that given a date returns the period it belongs to:"
   ]
  },
  {
   "cell_type": "code",
   "execution_count": 15,
   "metadata": {},
   "outputs": [],
   "source": [
    "def get_period_encoding_by_date(date, periods_encoding_dict):\n",
    "    for period,encoding in sorted(periods_encoding_dict.iteritems(), key=operator.itemgetter(1)):\n",
    "        if date >= datetime.datetime.strptime(period, \"%Y-%m\").date():\n",
    "            result = encoding\n",
    "        else:\n",
    "            break\n",
    "    return result"
   ]
  },
  {
   "cell_type": "markdown",
   "metadata": {},
   "source": [
    "Now I may scan all the tweets and save the period when each interaction first occurred:"
   ]
  },
  {
   "cell_type": "code",
   "execution_count": 16,
   "metadata": {},
   "outputs": [
    {
     "name": "stdout",
     "output_type": "stream",
     "text": [
      "CPU times: user 37.8 s, sys: 188 ms, total: 37.9 s\n",
      "Wall time: 37.9 s\n"
     ]
    }
   ],
   "source": [
    "%%time\n",
    "for t in tweets_filtered:\n",
    "    date = datetime.datetime.strptime(t.tweet_dict['created_at'],'%a %b %d %H:%M:%S +0000 %Y').date()\n",
    "    period_encoding = get_period_encoding_by_date(date, periods_encoding_dict)\n",
    "    potential_edges = list(combinations(t.users, 2))\n",
    "    for e in potential_edges:\n",
    "        if e[0] in usernames_to_id_dict and e[1] in usernames_to_id_dict:\n",
    "            interaction = Interaction(usernames_to_id_dict[e[0]],usernames_to_id_dict[e[1]])\n",
    "            if interaction in interaction_to_first_occ and (interaction_to_first_occ[interaction] is None or period_encoding < interaction_to_first_occ[interaction]):\n",
    "                interaction_to_first_occ[interaction] = period_encoding"
   ]
  },
  {
   "cell_type": "code",
   "execution_count": 17,
   "metadata": {},
   "outputs": [
    {
     "name": "stdout",
     "output_type": "stream",
     "text": [
      "Total interactions that have been captured by MMR graph data: 24256\n"
     ]
    }
   ],
   "source": [
    "print(\"Total interactions that have been captured by MMR graph data: %d\" %len([k for k in interaction_to_first_occ if not interaction_to_first_occ[k] is None]))"
   ]
  },
  {
   "cell_type": "code",
   "execution_count": 18,
   "metadata": {},
   "outputs": [],
   "source": [
    "interaction_to_first_occ = {k:interaction_to_first_occ[k] for k in interaction_to_first_occ if not interaction_to_first_occ[k] is None}"
   ]
  },
  {
   "cell_type": "markdown",
   "metadata": {},
   "source": [
    "#### 3.1.1 Average Mutual Interaction Consistency (Total)"
   ]
  },
  {
   "cell_type": "code",
   "execution_count": 19,
   "metadata": {},
   "outputs": [],
   "source": [
    "def calculate_avg_mic_total(interactions_dict):\n",
    "    s = pd.Series([len(i.periods)*1.0/13 for i in interactions_dict], dtype=np.float32)\n",
    "    avg = s.describe()[\"mean\"]\n",
    "    return avg, pd.DataFrame(s, columns=[\"MIC Total\"])"
   ]
  },
  {
   "cell_type": "code",
   "execution_count": 27,
   "metadata": {},
   "outputs": [
    {
     "name": "stdout",
     "output_type": "stream",
     "text": [
      "Average Mutual Interaction Consistency (Total) for hashtag #AllLivesMatter: 0.243835\n"
     ]
    }
   ],
   "source": [
    "avg_mic_total, mic_total_df = calculate_avg_mic_total(interaction_to_first_occ)\n",
    "mic_total_df.to_csv(\"../data/mic_data/mic_total_\"+hashtag+\".csv\", index=False)\n",
    "print(\"Average Mutual Interaction Consistency (Total) for hashtag %s: %.6f\" %(hashtag_full, avg_mic_total))"
   ]
  },
  {
   "cell_type": "markdown",
   "metadata": {},
   "source": [
    "#### 3.1.2 Average  Mutual Interaction Consistency (Before vs After)"
   ]
  },
  {
   "cell_type": "code",
   "execution_count": 36,
   "metadata": {},
   "outputs": [],
   "source": [
    "def calculate_avg_mic_before_after(interactions_dict):\n",
    "    mic_before_list = []\n",
    "    mic_after_list = []\n",
    "    for i in interactions_dict:\n",
    "        first_interaction = interactions_dict[i]\n",
    "        sorted_periods = sorted(i.periods)\n",
    "        periods_before = len(range(0,first_interaction))\n",
    "        mic_before = len([p for p in sorted_periods if p < first_interaction])*1.0/periods_before if periods_before!=0 else 0\n",
    "        mic_before_list.append(mic_before)\n",
    "        mic_after_list.append(len([p for p in sorted_periods if p >= first_interaction])*1.0/len(range(first_interaction,13)))\n",
    "    s_before = pd.Series(mic_before_list, name=\"MIC Before\", dtype=np.float32)\n",
    "    s_after = pd.Series(mic_after_list, name=\"MIC After\", dtype=np.float32)\n",
    "    avg_mic_before = s_before.describe()[\"mean\"]\n",
    "    avg_mic_after = s_after.describe()[\"mean\"]\n",
    "    return avg_mic_before, avg_mic_after, pd.concat([s_before, s_after], axis=1)"
   ]
  },
  {
   "cell_type": "code",
   "execution_count": 37,
   "metadata": {},
   "outputs": [
    {
     "name": "stdout",
     "output_type": "stream",
     "text": [
      "Average Mutual Interaction Consistency (Before) for hashtag #AllLivesMatter: 0.181784\n",
      "Average Mutual Interaction Consistency (After) for hashtag #AllLivesMatter: 0.397889\n"
     ]
    }
   ],
   "source": [
    "avg_mic_before, avg_mic_after, mic_before_after_df = calculate_avg_mic_before_after(interaction_to_first_occ)\n",
    "mic_before_after_df.to_csv(\"../data/mic_data/mic_before_after_\"+hashtag+\".csv\", index=False)\n",
    "print(\"Average Mutual Interaction Consistency (Before) for hashtag %s: %.6f\" %(hashtag_full, avg_mic_before))\n",
    "print(\"Average Mutual Interaction Consistency (After) for hashtag %s: %.6f\" %(hashtag_full, avg_mic_after))"
   ]
  },
  {
   "cell_type": "markdown",
   "metadata": {},
   "source": [
    "| Property | Value\n",
    "|---|---|\n",
    "| $\\langle MIC \\rangle_{T}$ | 0.243835\n",
    "| $\\langle MIC \\rangle_{B}$ | 0.181784\n",
    "| $\\langle MIC \\rangle_{A}$ | 0.397889"
   ]
  },
  {
   "cell_type": "markdown",
   "metadata": {},
   "source": [
    "I'd like to investigate also for how many interactions there has been an improvement in terms of bonding effect, meaning that the two users have been interacting more frequently than they had before because of the $H$ interaction:"
   ]
  },
  {
   "cell_type": "code",
   "execution_count": 34,
   "metadata": {},
   "outputs": [],
   "source": [
    "mic_before_after_df[\"Bonding\"] = mic_before_after_df[\"MIC After\"] > mic_before_after_df[\"MIC Before\"]"
   ]
  },
  {
   "cell_type": "code",
   "execution_count": 35,
   "metadata": {},
   "outputs": [
    {
     "data": {
      "text/plain": [
       "count     24256\n",
       "unique        2\n",
       "top        True\n",
       "freq      18141\n",
       "Name: Bonding, dtype: object"
      ]
     },
     "execution_count": 35,
     "metadata": {},
     "output_type": "execute_result"
    }
   ],
   "source": [
    "mic_before_after_df[\"Bonding\"].describe()"
   ]
  },
  {
   "cell_type": "markdown",
   "metadata": {},
   "source": [
    "### 3.2 Results Validation: Scientific Proof for Mutual Interaction Consistency\n",
    "The results from above seem to be very promising: mostly all interactions have experienced a higher communication consistency *after* the first $H$ interaction, meaning that the bonding effect of the hashtag is actually positive and it helps to strengthen the relationships in the long term. However, the way I compared the mutual interaction consistency before and after might hide a drawback and slightly bias the results in favor of the $\\langle MIC \\rangle_A$, because when calculating this metric, the period when the first interaction occurred has been also taken into account. This doesn't mean that the results so far are spoiled, but it's better to be safe than sorry and I may provide the final bulletproof to validate them.\n",
    "\n",
    "Therefore, let's have another similar approach: I want to measure *effectiveness* by comparing what can actually be compared. Similarly to what has already been formalized earlier, for each interaction we store an array $p$ of length 13, with indexes $i=0\\dots 12$ (each corresponding, in chronological order, to the 3 months periods ranging from September 2013 until December 2016) filled with $\\{0,1\\}$ where 1s tell whether such interaction occurred in period $p_i$. For each interaction, we also store the index of the period corresponding to the first $H$ interaction. This means that overall we're gonna have a **sparse matrix** $\\mathbf{P}$ where rows represent interactions and columns represent periods, i.e. each cell $p_{i,j}$ is a 0 or 1 telling whether interaction $i$ occurred in period $j$, and a vector $\\mathbf{F}$ where each cell $f_i$ indicates the period index where interaction $i$ has first involved $H$, ranging in $\\{0\\dots 12\\}$. An important prerequisite now for what I'm about to formulate, is that we filter out all those interactions where we don't have enough information, i.e. the first $H$ interaction occurred either in the very first ($f_i=0$) or last period ($f_i=12$). Then, for each interaction, we would be able to define $n_{bef}$ and $n_{aft}$, 2 numbers that indicate, respectively, the number of periods before and after the first $H$ interaction, and $n_{eff}=min(n_{bef}, n_{aft})$. By considering $n_{eff}$, we're basically setting a threshold for how many maximum consecutive periods have to be compared in terms of mutual interaction consistency, in order to reduce bias and avoid evaluating the consistency in the very long term. Then, for each interaction $i$, we would still calculate $\\langle MIC \\rangle_B$ and $\\langle MIC \\rangle_A$, but this time I restrict the calculation respectively only to the periods $n_{bef}$ and $n_{aft}$.\n",
    "\n",
    "According to this new model, $n_{eff}$ values range in $[1\\dots 6]$, so now for each $n_{eff}=1\\dots 6$, I want to count the raw number of interactions such that:\n",
    "1. $\\langle MIC \\rangle_B \\gt \\langle MIC \\rangle_A$\n",
    "2. $\\langle MIC \\rangle_B \\lt \\langle MIC \\rangle_A$\n",
    "3. $\\langle MIC \\rangle_B = \\langle MIC \\rangle_A$\n",
    "\n",
    "and plot the results. This would generate (up to) 6 plots per hashtag $H$."
   ]
  },
  {
   "cell_type": "code",
   "execution_count": 20,
   "metadata": {},
   "outputs": [],
   "source": [
    "# Create matrix P and vector F\n",
    "# It's easy to create a matrix of zeros and then fill the values where needed\n",
    "P = np.zeros(shape=(len(interaction_to_first_occ.keys()),13), dtype=np.bool)\n",
    "F = np.zeros(shape=(len(interaction_to_first_occ.keys()),1), dtype=np.uint8)"
   ]
  },
  {
   "cell_type": "code",
   "execution_count": 21,
   "metadata": {},
   "outputs": [
    {
     "name": "stdout",
     "output_type": "stream",
     "text": [
      "CPU times: user 80 ms, sys: 80 ms, total: 160 ms\n",
      "Wall time: 100 ms\n"
     ]
    }
   ],
   "source": [
    "%%time\n",
    "for i,interaction in enumerate(interaction_to_first_occ):\n",
    "    first = interaction_to_first_occ[interaction]\n",
    "    F[i] = first\n",
    "    for p in interaction.periods:\n",
    "        P[i][p] = True"
   ]
  },
  {
   "cell_type": "code",
   "execution_count": 22,
   "metadata": {},
   "outputs": [
    {
     "name": "stdout",
     "output_type": "stream",
     "text": [
      "Found 1710 rows with not enough data. Will not be considered when calculating MIC.\n"
     ]
    }
   ],
   "source": [
    "# Filter out rows i where F[i] == 0 or F[i] == 12\n",
    "rows_to_delete = [i for i,f in enumerate(F) if f == 0 or f == 12]\n",
    "print(\"Found %d rows with not enough data. Will not be considered when calculating MIC.\" %len(rows_to_delete))"
   ]
  },
  {
   "cell_type": "code",
   "execution_count": 23,
   "metadata": {},
   "outputs": [],
   "source": [
    "# Remove rows\n",
    "F = np.delete(F, rows_to_delete, axis=0)\n",
    "P = np.delete(P, rows_to_delete, axis=0)"
   ]
  },
  {
   "cell_type": "code",
   "execution_count": 24,
   "metadata": {},
   "outputs": [
    {
     "name": "stdout",
     "output_type": "stream",
     "text": [
      "CPU times: user 4.52 s, sys: 4 ms, total: 4.52 s\n",
      "Wall time: 4.51 s\n"
     ]
    }
   ],
   "source": [
    "%%time\n",
    "n_eff_values = {n_eff:np.zeros((3,), dtype=np.uint32) for n_eff in np.arange(1,7)}\n",
    "for index,i in enumerate(P):\n",
    "    first = F[index][0]\n",
    "    n_before = len(P[index][0:first])\n",
    "    n_after = len(P[index][first+1:13])\n",
    "    n_eff = np.min([n_before, n_after])\n",
    "    for n in np.arange(1,n_eff+1):\n",
    "        if first-n < 0 or first+n+1 > 13:\n",
    "            continue\n",
    "        assert len(P[index][first-n:first]) == len(P[index][first+1:first+n+1])\n",
    "        mic_before = np.mean(P[index][first-n:first])\n",
    "        mic_after = np.mean(P[index][first+1:first+n+1])\n",
    "        if mic_before > mic_after:\n",
    "            n_eff_values[n][0] += 1\n",
    "        elif mic_before < mic_after:\n",
    "            n_eff_values[n][2] += 1\n",
    "        else:\n",
    "            n_eff_values[n][1] += 1"
   ]
  },
  {
   "cell_type": "code",
   "execution_count": 28,
   "metadata": {},
   "outputs": [],
   "source": [
    "cm = plt.cm.get_cmap('Greys')"
   ]
  },
  {
   "cell_type": "code",
   "execution_count": 29,
   "metadata": {},
   "outputs": [],
   "source": [
    "def plot_mic_by_n_eff(n_eff_dict, cm, hashtag, hashtag_full):\n",
    "    fig, axes = plt.subplots(2,3, sharex='col', sharey='row')\n",
    "    fig.set_size_inches(10,7)\n",
    "    fig.set_dpi(150)\n",
    "    fig.set_tight_layout(False)\n",
    "\n",
    "    for i,ax in enumerate(axes.reshape(-1)):\n",
    "        y = n_eff_dict[i+1]\n",
    "        x = range(len(y))\n",
    "        colors = cm(y / float(max(y)))\n",
    "        ax.bar(x,y, color=colors)\n",
    "        ax.set_title(r\"$n_{eff}=%d$\" %(i+1))\n",
    "        ax.set_xticks(x)\n",
    "        ax.set_xticklabels([r\"$\\langle MIC \\rangle_B > \\langle MIC \\rangle_A$\", r\"$\\langle MIC \\rangle_B=\\langle MIC \\rangle_A$\", r\"$\\langle MIC \\rangle_B < \\langle MIC \\rangle_A$\"], fontsize=6)\n",
    "        for x_text,y_text in enumerate(y):\n",
    "            ax.text(x_text,y_text+50, str(y_text), horizontalalignment='center', fontweight=\"bold\", color='grey')\n",
    "\n",
    "    fig.suptitle(r\"Distribution of $\\langle MIC \\rangle$ variations overtime with different time-windows (%s)\" %(hashtag_full))\n",
    "    plt.savefig(os.path.join(pictures_path,hashtag+\"_mic_effective.png\"))\n",
    "    plt.show()"
   ]
  },
  {
   "cell_type": "code",
   "execution_count": 30,
   "metadata": {},
   "outputs": [
    {
     "data": {
      "image/png": "[encoded data removed]",
      "text/plain": [
       "<Figure size 1500x1050 with 6 Axes>"
      ]
     },
     "metadata": {
      "needs_background": "light"
     },
     "output_type": "display_data"
    }
   ],
   "source": [
    "plot_mic_by_n_eff(n_eff_values, cm, hashtag, hashtag_full)"
   ]
  },
  {
   "cell_type": "code",
   "execution_count": null,
   "metadata": {},
   "outputs": [],
   "source": []
  }
 ],
 "metadata": {
  "kernelspec": {
   "display_name": "Python [conda env:py27]",
   "language": "python",
   "name": "conda-env-py27-py"
  },
  "language_info": {
   "codemirror_mode": {
    "name": "ipython",
    "version": 2
   },
   "file_extension": ".py",
   "mimetype": "text/x-python",
   "name": "python",
   "nbconvert_exporter": "python",
   "pygments_lexer": "ipython2",
   "version": "2.7.15"
  }
 },
 "nbformat": 4,
 "nbformat_minor": 2
}
