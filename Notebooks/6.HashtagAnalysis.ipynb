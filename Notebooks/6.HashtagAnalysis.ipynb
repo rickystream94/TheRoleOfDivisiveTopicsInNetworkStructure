{
 "cells": [
  {
   "cell_type": "markdown",
   "metadata": {},
   "source": [
    "# Hashtag Analysis and relationship with MMR graph data"
   ]
  },
  {
   "cell_type": "code",
   "execution_count": 1,
   "metadata": {},
   "outputs": [],
   "source": [
    "import snap\n",
    "from snap import TUNGraph\n",
    "import os\n",
    "import sys\n",
    "import operator\n",
    "import pandas as pd\n",
    "import subprocess\n",
    "import numpy as np\n",
    "import csv\n",
    "import matplotlib as mpl\n",
    "from matplotlib import pyplot as plt\n",
    "from matplotlib import dates as mdates\n",
    "import seaborn as sns\n",
    "from __future__ import print_function\n",
    "from IPython.display import HTML, display\n",
    "import tabulate\n",
    "import json\n",
    "import datetime\n",
    "from datetime import timedelta\n",
    "from collections import Counter\n",
    "import re\n",
    "\n",
    "# Set Seaborn defaults\n",
    "sns.set()\n",
    "%matplotlib inline\n",
    "pd.set_option(\"display.precision\", 3)\n",
    "mpl.rcParams['figure.dpi'] = 100\n",
    "mpl.rcParams['savefig.dpi'] = 100\n",
    "mpl.rcParams['figure.autolayout'] = True\n",
    "\n",
    "# Global variables\n",
    "data_dir = \"../data\"\n",
    "pictures_path = os.path.join(\"../Pictures\", \"6.HashtagAnalysis\")\n",
    "tweets_path = \"../lib/GetOldTweets-python/out/completed\""
   ]
  },
  {
   "cell_type": "code",
   "execution_count": 2,
   "metadata": {},
   "outputs": [],
   "source": [
    "# Import the biggest connected component to work on\n",
    "FIn = snap.TFIn(\"../data/mmr_max_connected_component.bin\")\n",
    "graph = snap.TUNGraph.Load(FIn)"
   ]
  },
  {
   "cell_type": "code",
   "execution_count": 331,
   "metadata": {},
   "outputs": [],
   "source": [
    "def read_large_file(file_object):\n",
    "    while True:\n",
    "        data = file_object.readline()\n",
    "        if not data:\n",
    "            break\n",
    "        yield data.rstrip('\\n')"
   ]
  },
  {
   "cell_type": "code",
   "execution_count": 5,
   "metadata": {},
   "outputs": [],
   "source": [
    "hashtag = \"jesuischarlie\"\n",
    "hashtag_full = \"#JeSuisCharlie\""
   ]
  },
  {
   "cell_type": "code",
   "execution_count": 333,
   "metadata": {},
   "outputs": [
    {
     "name": "stdout",
     "output_type": "stream",
     "text": [
      "Imported 413857 tweets from ../lib/GetOldTweets-python/out/completed/tweets_#jesuischarlie_2013-09-01_2016-12-31.json\n",
      "CPU times: user 10.3 s, sys: 252 ms, total: 10.6 s\n",
      "Wall time: 10.5 s\n"
     ]
    }
   ],
   "source": [
    "%%time\n",
    "tweets_filename = os.path.join(tweets_path,\"tweets_#\" + hashtag + \"_2013-09-01_2016-12-31.json\")\n",
    "tweets = []\n",
    "with open(tweets_filename) as fin:\n",
    "    for line in read_large_file(fin):\n",
    "        tweets.append(json.loads(line))\n",
    "print(\"Imported %d tweets from %s\" %(len(tweets),tweets_filename))"
   ]
  },
  {
   "cell_type": "markdown",
   "metadata": {},
   "source": [
    "Given the main graph, I have to identify the subgraph of nodes (usernames) that have been part of a Twitter conversation that involved the concerned hashtag. This means that I would consider node $i$ part of the subnet if one of the following occurs:\n",
    "- $i$ has **tweeted** using hashtag $h$;\n",
    "- $i$ has been **mentioned**/**replied to** by someone that used hashtag $h$;\n",
    "- $i$ has tweeted a status that has been **retweeted**/**quoted** by someone else that used hashtag $h.$\n",
    "\n",
    "Of course this operation is not immediate and trivial, since the usernames will be collected first as a set of actual Twitter screen names, which have to be mapped to their specific encoding afterwards. As a first example, I'm going to carry out the analysis by considering a single hashtag, then I'll extend the same analysis to multiple hashtags.\n",
    "\n",
    "**#JeSuisCharlie** refers to the Charlie Hebdo shooting in France occurred on January 7th 2015, and by extension, a supporter of freedom of speech and resistance to armed threats. Some journalists embraced the expression as a rallying cry for the freedom of self-expression."
   ]
  },
  {
   "cell_type": "markdown",
   "metadata": {},
   "source": [
    "# 1. Extract Hashtag Subgraph\n",
    "Let's collect all the usernames from the downloaded tweets and keep only the ones that are part of our MMR data."
   ]
  },
  {
   "cell_type": "code",
   "execution_count": 334,
   "metadata": {},
   "outputs": [],
   "source": [
    "def get_usernames_from_basic_tweet_info(hashtag, tweet):\n",
    "    usernames = set()\n",
    "    # (1): Has tweeted using hashtag\n",
    "    if hashtag in [h.lower() for h in tweet[\"entities\"][\"hashtags\"]]:\n",
    "        usernames.add(tweet[\"user\"][\"screen_name\"].lower())\n",
    "\n",
    "    # (2): Has been mentioned / replied to\n",
    "    if not tweet[\"in_reply_to_screen_name\"] is None:\n",
    "        usernames.add(tweet[\"in_reply_to_screen_name\"].lower())\n",
    "    for mentions in tweet[\"entities\"][\"user_mentions\"]:\n",
    "        usernames.add(mentions[\"screen_name\"].lower())\n",
    "    return usernames\n",
    "\n",
    "def extract_hashtag_usernames(hashtag, tweets):\n",
    "    hashtag_usernames = set()\n",
    "    for tweet in tweets:\n",
    "        hashtag_usernames.update(get_usernames_from_basic_tweet_info(hashtag, tweet))\n",
    "   \n",
    "        # (3): Retweeted / Quoted status\n",
    "        if \"retweeted_status\" in tweet:\n",
    "            hashtag_usernames.update(get_usernames_from_basic_tweet_info(hashtag, tweet[\"retweeted_status\"]))\n",
    "        if \"quoted_status\" in tweet:\n",
    "            hashtag_usernames.update(get_usernames_from_basic_tweet_info(hashtag, tweet[\"quoted_status\"]))\n",
    "    print(\"Total unique usernames involved in '#%s' hashtag conversations from %d tweets: %d\" %(hashtag, len(tweets), len(hashtag_usernames)))\n",
    "    return hashtag_usernames"
   ]
  },
  {
   "cell_type": "code",
   "execution_count": 335,
   "metadata": {},
   "outputs": [
    {
     "name": "stdout",
     "output_type": "stream",
     "text": [
      "Total unique usernames involved in '#jesuischarlie' hashtag conversations from 413857 tweets: 224646\n"
     ]
    }
   ],
   "source": [
    "hashtag_usernames = extract_hashtag_usernames(hashtag, tweets)"
   ]
  },
  {
   "cell_type": "markdown",
   "metadata": {},
   "source": [
    "Let's now find the corresponding encoding for the usernames existing in the MMR graph data:"
   ]
  },
  {
   "cell_type": "code",
   "execution_count": 336,
   "metadata": {},
   "outputs": [
    {
     "name": "stdout",
     "output_type": "stream",
     "text": [
      "CPU times: user 2min 50s, sys: 5.28 s, total: 2min 55s\n",
      "Wall time: 2min 55s\n"
     ]
    }
   ],
   "source": [
    "%%time\n",
    "# First load all usernames in memory\n",
    "usernames_to_id_dict = {}\n",
    "with open(\"../data/usernames.csv\") as usernames_f:\n",
    "    for line in read_large_file(usernames_f):\n",
    "        username = line.split(',')[0]\n",
    "        encoding = int(line.split(',')[1])\n",
    "        usernames_to_id_dict[username] = encoding"
   ]
  },
  {
   "cell_type": "code",
   "execution_count": 337,
   "metadata": {},
   "outputs": [
    {
     "name": "stdout",
     "output_type": "stream",
     "text": [
      "CPU times: user 45.3 s, sys: 648 ms, total: 45.9 s\n",
      "Wall time: 45.5 s\n"
     ]
    }
   ],
   "source": [
    "%%time\n",
    "# Filter usernames\n",
    "usernames_to_id_dict = { k:v for k,v in usernames_to_id_dict.iteritems() if k in hashtag_usernames }"
   ]
  },
  {
   "cell_type": "markdown",
   "metadata": {},
   "source": [
    "At this point, all the values of the `usernames_to_id_dict` represent node IDs in the MMR graph so it's trivial to extract the subnet of nodes having some IDs:"
   ]
  },
  {
   "cell_type": "code",
   "execution_count": 338,
   "metadata": {},
   "outputs": [],
   "source": [
    "# Get subgraph\n",
    "NIdV = snap.TIntV()\n",
    "for node_id in usernames_to_id_dict.itervalues():\n",
    "    NIdV.Add(node_id)\n",
    "hashtag_subgraph = snap.GetSubGraph(graph, NIdV)"
   ]
  },
  {
   "cell_type": "markdown",
   "metadata": {},
   "source": [
    "Let's show some summary statistics:"
   ]
  },
  {
   "cell_type": "code",
   "execution_count": 339,
   "metadata": {},
   "outputs": [
    {
     "name": "stdout",
     "output_type": "stream",
     "text": [
      "Total Tweets for hashtag 'jesuischarlie':                         413857\n",
      "Total unique usernames found in tweets:                           224646\n",
      "Total usernames within ORIGINAL MMR data:                         132318 (59% of 224646)\n",
      "Total usernames within CLEANED MMR data and biggest component:    130173 (98.38% of 132318)\n",
      "Size of subgraph compared to full graph:                          0.15%\n"
     ]
    }
   ],
   "source": [
    "tab_format = \"{0: <65} {1}\"\n",
    "print(tab_format.format(\"Total Tweets for hashtag '%s': \" %hashtag, len(tweets)))\n",
    "print(tab_format.format(\"Total unique usernames found in tweets: \", len(hashtag_usernames)))\n",
    "print(tab_format.format(\"Total usernames within ORIGINAL MMR data: \", str(len(usernames_to_id_dict)) + \" (%2.f%% of %d)\" %(len(usernames_to_id_dict)*100.0/len(hashtag_usernames), len(hashtag_usernames))))\n",
    "print(tab_format.format(\"Total usernames within CLEANED MMR data and biggest component: \", str(hashtag_subgraph.GetNodes()) + \" (%.2f%% of %d)\" %(hashtag_subgraph.GetNodes()*100.0/len(usernames_to_id_dict), len(usernames_to_id_dict))))\n",
    "print(tab_format.format(\"Size of subgraph compared to full graph: \", \"%.2f%%\" %(hashtag_subgraph.GetNodes()*100.0/graph.GetNodes())))"
   ]
  },
  {
   "cell_type": "code",
   "execution_count": 340,
   "metadata": {},
   "outputs": [],
   "source": [
    "# Create binary backup of subgraph, for easy re-import\n",
    "FOut = snap.TFOut(\"../data/mmr_subgraph_\"+hashtag+\".bin\")\n",
    "hashtag_subgraph.Save(FOut)\n",
    "FOut.Flush()"
   ]
  },
  {
   "cell_type": "markdown",
   "metadata": {},
   "source": [
    "Overall, **59%** of the users who tweeted about **#JeSuisCharlie** have been captured by the MMR graph data (*potentially available hashtag data*). **98,38%** of usernames in the potentially available hashtag data are part of the cleaned data and the largest connected component. This means that the cleanup process from the previous chapters didn't significantly impact the amount of available data. Furthermore, the amount of nodes the are going to be analyzed from now on represent the **0,15%** of the global MMR data. For convenience, the extracted subgraph will be called $H$ in the next sections. \n",
    "\n",
    "# 2. Temporal Frequency Distribution of the hashtag\n",
    "As a first step of the hashtag analysis, we first want to do some basic processing on the downloaded tweets and figure out how much the utilization of such hashtag is spread throughout the time-window we're focusing on (September 2013 - December 2019)."
   ]
  },
  {
   "cell_type": "code",
   "execution_count": 320,
   "metadata": {},
   "outputs": [],
   "source": [
    "def get_tweet_users(tweet):\n",
    "    users = set()\n",
    "    users.add(tweet[\"user\"][\"screen_name\"].lower())\n",
    "    if not tweet[\"in_reply_to_screen_name\"] is None:\n",
    "        users.add(tweet[\"in_reply_to_screen_name\"].lower())\n",
    "    for mention in tweet[\"entities\"][\"user_mentions\"]:\n",
    "        users.add(mention[\"screen_name\"].lower())\n",
    "    if \"retweeted_status\" in tweet:\n",
    "        users.update(get_tweet_users(tweet[\"retweeted_status\"]))\n",
    "    if \"quoted_status\" in tweet:\n",
    "        users.update(get_tweet_users(tweet[\"quoted_status\"]))\n",
    "    return users\n",
    "\n",
    "def collect_tweets_dates(tweets, graph_usernames):\n",
    "    all_dates = []\n",
    "    subgraph_dates = []\n",
    "    graph_usernames_set = set(graph_usernames) # Membership check is much faster for sets than lists\n",
    "    print(\"Collecting tweets dates...\")\n",
    "    for tweet in tweets:\n",
    "        date = datetime.datetime.strptime(tweet['created_at'],'%a %b %d %H:%M:%S +0000 %Y').date()\n",
    "        all_dates.append(date)\n",
    "        if any([username in graph_usernames_set for username in get_tweet_users(tweet)]):\n",
    "            subgraph_dates.append(date)\n",
    "    print(\"Done! Total dates: %d\\nSubgraph dates: %d\" %(len(all_dates), len(subgraph_dates)))\n",
    "    return all_dates, subgraph_dates\n",
    "\n",
    "def plot_hashtag_frequency_distribution(all_tweets_dates, subgraph_tweets_dates, hashtag):\n",
    "    fig, ax = plt.subplots(1,1)\n",
    "    fig.set_size_inches(9,5)\n",
    "    fig.set_dpi(100)\n",
    "    mpl_data1 = mdates.date2num(all_tweets_dates)\n",
    "    mpl_data2 = mdates.date2num(subgraph_tweets_dates)\n",
    "    ax.hist([mpl_data1, mpl_data2], label=[\"All Users\", \"Only MMR Users\"], align=\"mid\", rwidth=0.5)\n",
    "    \n",
    "    # Set legend\n",
    "    ax.legend(loc=\"upper right\")\n",
    "    \n",
    "    # Axes labels\n",
    "    ax.set_ylabel(\"Frequency\", fontweight=\"bold\")\n",
    "    ax.set_xlabel(\"Periods\", fontsize=12, fontweight=\"bold\")\n",
    "    \n",
    "    # Axes ticks and formatting\n",
    "    locator = mdates.AutoDateLocator()\n",
    "    ax.xaxis.set_major_locator(locator)\n",
    "    ax.xaxis.set_major_formatter(mdates.AutoDateFormatter(locator))\n",
    "    plt.xticks(rotation=\"20\",fontsize=10)\n",
    "    plt.yticks(fontsize=10)\n",
    "    \n",
    "    plt.title(\"%s Hashtag Frequency Distribution over the years\" %hashtag)\n",
    "    plt.savefig(os.path.join(pictures_path,hashtag+\"_Frequency_Distribution.png\"))\n",
    "    fig.set_tight_layout(False)\n",
    "    plt.show()"
   ]
  },
  {
   "cell_type": "code",
   "execution_count": 254,
   "metadata": {},
   "outputs": [
    {
     "name": "stdout",
     "output_type": "stream",
     "text": [
      "Collecting tweets dates...\n",
      "Done! Total dates: 413857\n",
      "Subgraph dates: 221892\n",
      "CPU times: user 7.76 s, sys: 16 ms, total: 7.77 s\n",
      "Wall time: 7.76 s\n"
     ]
    }
   ],
   "source": [
    "%%time\n",
    "# Collect tweets dates\n",
    "all_tweets_dates, subgraph_tweets_dates = collect_tweets_dates(tweets, usernames_to_id_dict.keys())"
   ]
  },
  {
   "cell_type": "code",
   "execution_count": 321,
   "metadata": {},
   "outputs": [
    {
     "data": {
      "image/png": "[encoded data removed]",
      "text/plain": [
       "<Figure size 900x500 with 1 Axes>"
      ]
     },
     "metadata": {
      "needs_background": "light"
     },
     "output_type": "display_data"
    }
   ],
   "source": [
    "# Plot hashtag frequency distribution\n",
    "plot_hashtag_frequency_distribution(all_tweets_dates, subgraph_tweets_dates, hashtag_full)"
   ]
  },
  {
   "cell_type": "markdown",
   "metadata": {},
   "source": [
    "The **#JeSuisCharlie** hashtag doesn't have a really steady frequency distribution over the years in the timeframe we're considering, as it can be seen from the plot above. Indeed, the great majority of the tweets have been published in the first 5 months of 2015, as expected, since the events related to the spread of the hashtags occurred in January 2015. The overall peak has been reached on January 9th, 2015, with **95777** tweets published. The histogram that only considers the MMR users, as expected, follows pretty much the same distribution as the overall one: the peak values are lower but the height difference between the bars seems to be almost identical and the peak value is **61561**, reached on January 10th, 2015."
   ]
  },
  {
   "cell_type": "markdown",
   "metadata": {},
   "source": [
    "# 3. Hashtag Subgraph Metric Analysis"
   ]
  },
  {
   "cell_type": "code",
   "execution_count": 6,
   "metadata": {},
   "outputs": [],
   "source": [
    "'''# Import the biggest connected component to work on\n",
    "FIn = snap.TFIn(\"../data/mmr_subgraph_\"+hashtag+\".bin\")\n",
    "hashtag_subgraph = snap.TUNGraph.Load(FIn)'''"
   ]
  },
  {
   "cell_type": "markdown",
   "metadata": {},
   "source": [
    "## 3.1 Basic Network Properties\n",
    "Hereby I show how the basic network properties of $H$ change compared to the full MMR graph, in terms of number of nodes $N$, number of links $L$ and average degree $\\langle K \\rangle$."
   ]
  },
  {
   "cell_type": "code",
   "execution_count": 109,
   "metadata": {},
   "outputs": [
    {
     "name": "stdout",
     "output_type": "stream",
     "text": [
      "Nodes of H: 130173\n",
      "Edges of H: 580518\n",
      "Average Degree of H: 8.919\n"
     ]
    }
   ],
   "source": [
    "N = hashtag_subgraph.GetNodes()\n",
    "L = hashtag_subgraph.GetEdges()\n",
    "K = (2.0*L)/N\n",
    "print(\"Nodes of H: %d\" %N)\n",
    "print(\"Edges of H: %d\" %L)\n",
    "print(\"Average Degree of H: %.3f\" %K)"
   ]
  },
  {
   "cell_type": "markdown",
   "metadata": {},
   "source": [
    "| Property | $G$ (SCC) | $H$ (Hashtag Subgraph) | % Relative to $G$\n",
    "|---|---|---|---|\n",
    "| **Average Degree $\\langle K \\rangle$** | 10,127 | 8,919 | -\n",
    "| **Number of nodes $N$** | 84.510.806 | 130.173 | ~0,15%\n",
    "| **Number of edges $L$** | 427.935.499 | 580.518 | ~0,13%"
   ]
  },
  {
   "cell_type": "markdown",
   "metadata": {},
   "source": [
    "## 3.2 Extract Random Graphs\n",
    "It would be interesting to compare a set of network properties of $H$ with the ones of $M=100$ random subgraphs *of the same size* $N$."
   ]
  },
  {
   "cell_type": "code",
   "execution_count": 17,
   "metadata": {},
   "outputs": [],
   "source": [
    "def get_random_subgraphs(graph, M, N):\n",
    "    return [snap.GetRndSubGraph(graph,N) for _ in range(M)]"
   ]
  },
  {
   "cell_type": "code",
   "execution_count": 18,
   "metadata": {},
   "outputs": [
    {
     "name": "stdout",
     "output_type": "stream",
     "text": [
      "CPU times: user 8min 16s, sys: 10.1 s, total: 8min 26s\n",
      "Wall time: 8min 26s\n"
     ]
    }
   ],
   "source": [
    "%%time\n",
    "M = 100\n",
    "random_subgraphs = get_random_subgraphs(graph, M, N)"
   ]
  },
  {
   "cell_type": "code",
   "execution_count": 216,
   "metadata": {},
   "outputs": [],
   "source": [
    "def plot_random_subgraphs_property_distribution(random_subgraphs, data, hashtag, filename, M, N, y_ticks, labels_dict, rwidth, binwidth=None, x_ticks_rotation=0, bottom_adjust=None):\n",
    "    #Figure properties\n",
    "    fig, (ax1, ax2) = plt.subplots(1,2, gridspec_kw = {'width_ratios':[3, 2]})\n",
    "    fig.set_size_inches(12,4)\n",
    "    fig.set_dpi(100)\n",
    "    \n",
    "    # Plot histogram\n",
    "    if binwidth is None:\n",
    "        # Continuous values\n",
    "        counts, bins, _ = ax1.hist(data, align=\"mid\", rwidth=rwidth)\n",
    "    else:\n",
    "        # Discrete values\n",
    "        counts, bins, _ = ax1.hist(data, bins=range(min(data), max(data) + binwidth, binwidth), align=\"mid\", rwidth=rwidth)\n",
    "    \n",
    "    # Set Histogram Axes ticks\n",
    "    ax1.set_xticks(bins)\n",
    "    ax1.set_yticks(y_ticks)\n",
    "    ax1.xaxis.set_tick_params(rotation=x_ticks_rotation)\n",
    "    \n",
    "    # Set Histogram Axes labels and title\n",
    "    ax1.set_ylabel(labels_dict[\"y_label\"], fontsize=12, fontweight=\"bold\")\n",
    "    ax1.set_xlabel(labels_dict[\"x_label\"], fontsize=12, fontweight=\"bold\")\n",
    "    ax1.set_title(labels_dict[\"hist_title\"])\n",
    "    \n",
    "    # Plot Boxplot\n",
    "    sns.boxplot(data, ax=ax2)\n",
    "    \n",
    "    # Set Boxplot axes labels and title\n",
    "    ax2.set_title(labels_dict[\"boxplot_title\"])\n",
    "    ax2.set_xlabel(labels_dict[\"x_label\"], fontsize=12, fontweight=\"bold\")\n",
    "    \n",
    "    fig.set_tight_layout(False)\n",
    "    if not bottom_adjust is None:\n",
    "        fig.subplots_adjust(bottom=bottom_adjust)\n",
    "    plt.savefig(os.path.join(pictures_path,hashtag+\"_\"+filename+\".png\"))\n",
    "    plt.show()"
   ]
  },
  {
   "cell_type": "markdown",
   "metadata": {},
   "source": [
    "## 3.3 Average degree\n",
    "The average degree gives another useful insight closely related to the *network density*. It's worth pointing out that, since the degree is a function of $N$ and $L$, in this case the average degree distribution would be the same as the *edges count distribution* because $N$ is fixed."
   ]
  },
  {
   "cell_type": "code",
   "execution_count": 215,
   "metadata": {},
   "outputs": [
    {
     "data": {
      "image/png": "[encoded data removed]",
      "text/plain": [
       "<Figure size 1200x400 with 2 Axes>"
      ]
     },
     "metadata": {
      "needs_background": "light"
     },
     "output_type": "display_data"
    }
   ],
   "source": [
    "data = [(2.0*rnd.GetEdges())/rnd.GetNodes() for rnd in random_subgraphs]\n",
    "y_ticks = range(int(min(counts)), int(max(counts)), 2)\n",
    "rwidth = 0.6\n",
    "x_ticks_rotation = 25\n",
    "labels_dict = {\n",
    "    \"x_label\": \"Average Degree\",\n",
    "    \"y_label\": \"Frequency\",\n",
    "    \"hist_title\": \"Average Degree Distribution for %d rnd subnets, N=%d (%s)\" %(M, N, hashtag_full),\n",
    "    \"boxplot_title\": \"Average Degree Boxplot\"\n",
    "}\n",
    "bottom_adjust = 0.2\n",
    "filename = \"random_subgraphs_average_degree_distribution\"\n",
    "plot_random_subgraphs_property_distribution(random_subgraphs, data, hashtag_full, filename, M, N, y_ticks, labels_dict, rwidth, x_ticks_rotation=x_ticks_rotation, bottom_adjust=bottom_adjust)"
   ]
  },
  {
   "cell_type": "markdown",
   "metadata": {},
   "source": [
    "Given 100 random subgraphs of same size as $H$, it's clear that $\\langle K \\rangle _H=8,919$ is shifted by a significant offset compared to the mean average degree shown in the boxplot above. It would be meaningless to show a vertical line corresponding to the value of $\\langle K \\rangle _H$, as it would represent a clear outlier.\n",
    "\n",
    "## 3.4 Median Degree"
   ]
  },
  {
   "cell_type": "code",
   "execution_count": 229,
   "metadata": {},
   "outputs": [
    {
     "name": "stdout",
     "output_type": "stream",
     "text": [
      "The median degree for the hashtag network is: 0\n",
      "The unique values of median degrees for all random networks are:\n",
      "[0]\n"
     ]
    }
   ],
   "source": [
    "def get_median_degree(graph):\n",
    "    DegToCntV = snap.TIntPrV()\n",
    "    snap.GetDegCnt(rnd, DegToCntV)\n",
    "    deg_counter = [(el.GetVal1(), el.GetVal2()) for el in DegToCntV]\n",
    "    return max(deg_counter, key=lambda x: x[1])\n",
    "\n",
    "random_median_degrees = [get_median_degree(rnd) for rnd in random_subgraphs]\n",
    "hashtag_median_degree = get_median_degree(hashtag_subgraph)\n",
    "print(\"The median degree for the hashtag network is: %d\" %hashtag_median_degree[0])\n",
    "print(\"The unique values of median degrees for all random networks are:\")\n",
    "print(list(set(map(lambda x: x[0], random_median_degrees))))\n",
    "print()"
   ]
  },
  {
   "cell_type": "code",
   "execution_count": 236,
   "metadata": {},
   "outputs": [
    {
     "name": "stdout",
     "output_type": "stream",
     "text": [
      "Hashtag subgraph has 46021 Zero-Degree nodes (35.35% of 130173)\n",
      "Random subgraphs (on average) have 128331.750 Zero-Degree nodes (98.59% of 130173)\n"
     ]
    }
   ],
   "source": [
    "hashtag_zero_deg_nodes = snap.CntDegNodes(hashtag_subgraph, 0)\n",
    "avg_random_zero_deg_nodes = np.mean([snap.CntDegNodes(rnd, 0) for rnd in random_subgraphs])\n",
    "print(\"Hashtag subgraph has %d Zero-Degree nodes (%.2f%% of %d)\" %(hashtag_zero_deg_nodes, hashtag_zero_deg_nodes*100.0/N, N))\n",
    "print(\"Random subgraphs (on average) have %.3f Zero-Degree nodes (%.2f%% of %d)\" %(avg_random_zero_deg_nodes, avg_random_zero_deg_nodes*100.0/N, N))"
   ]
  },
  {
   "cell_type": "markdown",
   "metadata": {},
   "source": [
    "Apparently the median degree (i.e. the degree that most of the nodes in the network have) of each random subgraph is 0, which means that the random networks have a high number of **isolated nodes** compared to the hashtag subgraph. This provides an alternative view to what already found with the average degree distribution above. However, most of the nodes in the hashtag subgraph still have degree 0, therefore its median degree and the median degrees of the random subgraphs are actually the same."
   ]
  },
  {
   "cell_type": "code",
   "execution_count": null,
   "metadata": {},
   "outputs": [],
   "source": [
    "data = [(2.0*rnd.GetEdges())/rnd.GetNodes() for rnd in random_subgraphs]\n",
    "y_ticks = range(int(min(counts)), int(max(counts)), 2)\n",
    "rwidth = 0.6\n",
    "x_ticks_rotation = 25\n",
    "labels_dict = {\n",
    "    \"x_label\": \"Average Degree\",\n",
    "    \"y_label\": \"Frequency\",\n",
    "    \"hist_title\": \"Average Degree Distribution for %d rnd subnets, N=%d (%s)\" %(M, N, hashtag_full),\n",
    "    \"boxplot_title\": \"Average Degree Boxplot\"\n",
    "}\n",
    "bottom_adjust = 0.2\n",
    "filename = \"random_subgraphs_average_degree_distribution\"\n",
    "plot_random_subgraphs_property_distribution(random_subgraphs, data, hashtag_full, filename, M, N, y_ticks, labels_dict, rwidth, x_ticks_rotation=x_ticks_rotation, bottom_adjust=bottom_adjust)"
   ]
  },
  {
   "cell_type": "code",
   "execution_count": 9,
   "metadata": {},
   "outputs": [],
   "source": [
    "scc = snap.GetMxScc(hashtag_subgraph)"
   ]
  },
  {
   "cell_type": "code",
   "execution_count": 10,
   "metadata": {},
   "outputs": [
    {
     "data": {
      "text/plain": [
       "80374"
      ]
     },
     "execution_count": 10,
     "metadata": {},
     "output_type": "execute_result"
    }
   ],
   "source": [
    "scc.GetNodes()"
   ]
  },
  {
   "cell_type": "code",
   "execution_count": 11,
   "metadata": {},
   "outputs": [
    {
     "data": {
      "text/plain": [
       "578202"
      ]
     },
     "execution_count": 11,
     "metadata": {},
     "output_type": "execute_result"
    }
   ],
   "source": [
    "scc.GetEdges()"
   ]
  },
  {
   "cell_type": "code",
   "execution_count": 221,
   "metadata": {},
   "outputs": [
    {
     "data": {
      "text/plain": [
       "46021"
      ]
     },
     "execution_count": 221,
     "metadata": {},
     "output_type": "execute_result"
    }
   ],
   "source": [
    "snap.CntDegNodes(hashtag_subgraph, 0)"
   ]
  },
  {
   "cell_type": "code",
   "execution_count": null,
   "metadata": {},
   "outputs": [],
   "source": []
  }
 ],
 "metadata": {
  "kernelspec": {
   "display_name": "Python [conda env:py27]",
   "language": "python",
   "name": "conda-env-py27-py"
  },
  "language_info": {
   "codemirror_mode": {
    "name": "ipython",
    "version": 2
   },
   "file_extension": ".py",
   "mimetype": "text/x-python",
   "name": "python",
   "nbconvert_exporter": "python",
   "pygments_lexer": "ipython2",
   "version": "2.7.15"
  }
 },
 "nbformat": 4,
 "nbformat_minor": 2
}
