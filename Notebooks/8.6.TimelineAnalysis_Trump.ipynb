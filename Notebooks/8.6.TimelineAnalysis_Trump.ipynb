{
 "cells": [
  {
   "cell_type": "markdown",
   "metadata": {},
   "source": [
    "# Timeline Analysis\n",
    "Scope of the following analysis is to investigate whether the previously analyzed hashtags actually play a significant role in the underlying network structure: does a specific topic (hashtag) strengthen ties or increases diversity within Twitter users? The idea is therefore to build a metric and extract this information by combining mutual interactions Tweets and the network structure that represented the sole core of the analysis so far."
   ]
  },
  {
   "cell_type": "code",
   "execution_count": 1,
   "metadata": {},
   "outputs": [],
   "source": [
    "import snap\n",
    "from snap import TUNGraph\n",
    "import os\n",
    "import sys\n",
    "import operator\n",
    "import pandas as pd\n",
    "import subprocess\n",
    "import numpy as np\n",
    "import csv\n",
    "import matplotlib as mpl\n",
    "from matplotlib import pyplot as plt\n",
    "from matplotlib import dates as mdates\n",
    "import seaborn as sns\n",
    "from __future__ import print_function\n",
    "from IPython.display import HTML, display\n",
    "import tabulate\n",
    "import json\n",
    "import datetime\n",
    "from datetime import timedelta\n",
    "from dateutil.relativedelta import relativedelta\n",
    "from collections import Counter\n",
    "import re\n",
    "from itertools import combinations\n",
    "\n",
    "# Set Seaborn defaults\n",
    "sns.set()\n",
    "%matplotlib inline\n",
    "pd.set_option(\"display.precision\", 6)\n",
    "mpl.rcParams['figure.dpi'] = 100\n",
    "mpl.rcParams['savefig.dpi'] = 200\n",
    "mpl.rcParams['figure.autolayout'] = True\n",
    "\n",
    "# Global variables\n",
    "data_dir = \"../data\"\n",
    "pictures_path = os.path.join(\"../Pictures\", \"8.TimelineAnalysis\")\n",
    "tweets_path = \"../lib/GetOldTweets-python/out/completed\""
   ]
  },
  {
   "cell_type": "markdown",
   "metadata": {},
   "source": [
    "## 0. Creation of Model Classes\n",
    "First of all, I might need to be a bit more concerned about performance since some Tweets files are pretty big (a few GBs), therefore I'd like to optimize some operations as much as possible.\n",
    "- Since Tweets come naturally with a unique ID, I may create a `Tweet` custom type;\n",
    "- Class `Interaction` representing an interaction between 2 users."
   ]
  },
  {
   "cell_type": "code",
   "execution_count": 2,
   "metadata": {},
   "outputs": [],
   "source": [
    "class Tweet:\n",
    "    def __init__(self, tweet_id, users, tweet_dict):\n",
    "        self.tweet_id = tweet_id\n",
    "        self.tweet_dict = tweet_dict\n",
    "        self.users = users\n",
    "        \n",
    "    def __eq__(self, other):\n",
    "        if isinstance(other, Tweet):\n",
    "            return self.tweet_id == other.tweet_id\n",
    "        return NotImplemented\n",
    "    \n",
    "    def __ne__(self, other):\n",
    "        x = self.__eq__(other)\n",
    "        if x is not NotImplemented:\n",
    "            return not x\n",
    "        return NotImplemented\n",
    "    \n",
    "    def __hash__(self):\n",
    "        return hash(self.tweet_id)"
   ]
  },
  {
   "cell_type": "code",
   "execution_count": 3,
   "metadata": {},
   "outputs": [],
   "source": [
    "class Interaction:        \n",
    "    def __init__(self, source, target, periods=None):\n",
    "        self.source = source\n",
    "        self.target = target\n",
    "        self.periods = periods\n",
    "        \n",
    "    def __eq__(self, other):\n",
    "        if isinstance(other, Interaction):\n",
    "            return (self.source == other.source and self.target == other.target) or (self.source == other.target and self.target == other.source)\n",
    "        return NotImplemented\n",
    "    \n",
    "    def __ne__(self, other):\n",
    "        x = self.__eq__(other)\n",
    "        if x is not NotImplemented:\n",
    "            return not x\n",
    "        return NotImplemented\n",
    "    \n",
    "    def __hash__(self):\n",
    "        return hash(hash(self.source)+hash(self.target))"
   ]
  },
  {
   "cell_type": "markdown",
   "metadata": {},
   "source": [
    "Hereby a collection of some utility functions:"
   ]
  },
  {
   "cell_type": "code",
   "execution_count": 4,
   "metadata": {},
   "outputs": [],
   "source": [
    "def get_relative_percentage(n,m):\n",
    "    return n*100.0/m\n",
    "\n",
    "def load_graph_from_backup(filename):\n",
    "    FIn = snap.TFIn(\"../data/\"+filename+\".bin\")\n",
    "    graph = snap.TUNGraph.Load(FIn)\n",
    "    return graph\n",
    "\n",
    "def read_large_file(file_object):\n",
    "    while True:\n",
    "        data = file_object.readline()\n",
    "        if not data:\n",
    "            break\n",
    "        yield data.rstrip('\\n')\n",
    "        \n",
    "def process_edge_line(line):\n",
    "    source, target, prop = line.split(',')\n",
    "    return int(source), int(target), [int(p) for p in prop.split(';')]\n",
    "        \n",
    "def get_usernames_from_basic_tweet_info(hashtag, tweet):\n",
    "    usernames = set()\n",
    "    # (1): Has tweeted using hashtag\n",
    "    if hashtag in [h.lower() for h in tweet[\"entities\"][\"hashtags\"]]:\n",
    "        usernames.add(tweet[\"user\"][\"screen_name\"].lower())\n",
    "\n",
    "    # (2): Has been mentioned / replied to\n",
    "    if not tweet[\"in_reply_to_screen_name\"] is None:\n",
    "        usernames.add(tweet[\"in_reply_to_screen_name\"].lower())\n",
    "    for mentions in tweet[\"entities\"][\"user_mentions\"]:\n",
    "        usernames.add(mentions[\"screen_name\"].lower())\n",
    "    return usernames\n",
    "\n",
    "def get_tweet_usernames(hashtag, tweet):\n",
    "    usernames = set()\n",
    "    usernames.update(get_usernames_from_basic_tweet_info(hashtag, tweet))\n",
    "    if \"retweeted_status\" in tweet:\n",
    "        usernames.update(get_usernames_from_basic_tweet_info(hashtag, tweet[\"retweeted_status\"]))\n",
    "    if \"quoted_status\" in tweet:\n",
    "        usernames.update(get_usernames_from_basic_tweet_info(hashtag, tweet[\"quoted_status\"]))\n",
    "    return usernames\n",
    "\n",
    "def extract_hashtag_usernames(hashtag, tweets):\n",
    "    hashtag_usernames = set()\n",
    "    for tweet in tweets:\n",
    "        hashtag_usernames.update(tweet.users)\n",
    "    print(\"Total unique usernames involved in '#%s' hashtag conversations from %d tweets: %d\" %(hashtag, len(tweets), len(hashtag_usernames)))\n",
    "    return hashtag_usernames\n",
    "\n",
    "# Extract tweets given a specific hashtag\n",
    "def get_tweets(hashtag):\n",
    "    tweets_filename = os.path.join(tweets_path,\"tweets_#\" + hashtag + \"_2013-09-01_2016-12-31.json\")\n",
    "    tweets = set()\n",
    "    with open(tweets_filename) as fin:\n",
    "        for line in read_large_file(fin):\n",
    "            tweet_dict = json.loads(line)\n",
    "            tweet_id = np.int64(tweet_dict[\"id_str\"])\n",
    "            tweet_users = get_tweet_usernames(hashtag, tweet_dict)\n",
    "            tweets.add(Tweet(tweet_id, tweet_users, tweet_dict))\n",
    "    print(\"Imported %d tweets from %s\" %(len(tweets),tweets_filename))\n",
    "    return tweets"
   ]
  },
  {
   "cell_type": "markdown",
   "metadata": {},
   "source": [
    "## 1. Extract Tweets: filter usernames and tweets"
   ]
  },
  {
   "cell_type": "code",
   "execution_count": 5,
   "metadata": {},
   "outputs": [],
   "source": [
    "hashtag = \"trump\"\n",
    "hashtag_full = \"#Trump\""
   ]
  },
  {
   "cell_type": "markdown",
   "metadata": {},
   "source": [
    "Load hashtag subgraph from backup:"
   ]
  },
  {
   "cell_type": "code",
   "execution_count": 6,
   "metadata": {},
   "outputs": [],
   "source": [
    "hashtag_subgraph = load_graph_from_backup(\"mmr_subgraph_\"+hashtag)"
   ]
  },
  {
   "cell_type": "code",
   "execution_count": 7,
   "metadata": {},
   "outputs": [
    {
     "name": "stdout",
     "output_type": "stream",
     "text": [
      "Imported 5651594 tweets from ../lib/GetOldTweets-python/out/completed/tweets_#trump_2013-09-01_2016-12-31.json\n",
      "CPU times: user 4min 47s, sys: 16.1 s, total: 5min 3s\n",
      "Wall time: 5min 3s\n"
     ]
    }
   ],
   "source": [
    "%%time\n",
    "tweets = get_tweets(hashtag)"
   ]
  },
  {
   "cell_type": "code",
   "execution_count": 8,
   "metadata": {},
   "outputs": [
    {
     "name": "stdout",
     "output_type": "stream",
     "text": [
      "Total unique usernames involved in '#trump' hashtag conversations from 5651594 tweets: 1056532\n"
     ]
    }
   ],
   "source": [
    "hashtag_usernames = extract_hashtag_usernames(hashtag, tweets)"
   ]
  },
  {
   "cell_type": "code",
   "execution_count": 9,
   "metadata": {},
   "outputs": [
    {
     "name": "stdout",
     "output_type": "stream",
     "text": [
      "CPU times: user 3min 1s, sys: 820 ms, total: 3min 2s\n",
      "Wall time: 3min 2s\n"
     ]
    }
   ],
   "source": [
    "%%time\n",
    "usernames_to_id_dict = {}\n",
    "with open(\"../data/usernames.csv\") as usernames_f:\n",
    "    for line in read_large_file(usernames_f):\n",
    "        username = line.split(',')[0]\n",
    "        encoding = int(line.split(',')[1])\n",
    "        # Add to dict only if username is part of the hashtag subgraph\n",
    "        if hashtag_subgraph.IsNode(encoding):\n",
    "            usernames_to_id_dict[username] = encoding"
   ]
  },
  {
   "cell_type": "markdown",
   "metadata": {},
   "source": [
    "The next step is then to filter out those Tweets whose involved users are not part of the corresponding $H$ subgraph (i.e. if none of its involved users represents a node in $H$). The keys of the `usernames_to_id_dict` dictionary correspond to all the usernames of the $H$ subgraph, so it should be sufficient to check the following criteria:\n",
    "- A tweet is kept if any of its involved users is part of the $H$ subgraph:"
   ]
  },
  {
   "cell_type": "code",
   "execution_count": 10,
   "metadata": {},
   "outputs": [
    {
     "name": "stdout",
     "output_type": "stream",
     "text": [
      "Number of filtered tweets (with at least 1 involved user within MMR graph data): 4184051 (74.03% of 5651594 total tweets)\n"
     ]
    }
   ],
   "source": [
    "tweets_filtered = filter(lambda t: any(map(lambda u: u in usernames_to_id_dict, t.users)), tweets)\n",
    "print(\"Number of filtered tweets (with at least 1 involved user within MMR graph data): %d (%.2f%% of %d total tweets)\" %(len(tweets_filtered), get_relative_percentage(len(tweets_filtered), len(tweets)), len(tweets)))"
   ]
  },
  {
   "cell_type": "markdown",
   "metadata": {},
   "source": [
    "According to the above: among 5.651.594 total tweets, **4.184.051** involve at least one user that is part of the MMR graph data."
   ]
  },
  {
   "cell_type": "code",
   "execution_count": 11,
   "metadata": {},
   "outputs": [
    {
     "name": "stdout",
     "output_type": "stream",
     "text": [
      "Total number of unique users involved in 4184051 filtered tweets: 800700 (75.79% of 1056532 total usernames)\n"
     ]
    }
   ],
   "source": [
    "def count_tot_users(tweets):\n",
    "    tot_users = set()\n",
    "    for t in tweets:\n",
    "        tot_users.update(t.users)\n",
    "    return len(tot_users)\n",
    "\n",
    "tot_users = count_tot_users(tweets_filtered)\n",
    "print(\"Total number of unique users involved in %d filtered tweets: %d (%.2f%% of %d total usernames)\" %(len(tweets_filtered), tot_users, get_relative_percentage(tot_users, len(hashtag_usernames)), len(hashtag_usernames)))"
   ]
  },
  {
   "cell_type": "markdown",
   "metadata": {},
   "source": [
    "**Note**: Of course the number of users involved in the filtered tweets may be higher than the actual number of nodes in $H$, since each Tweet might include users that have not been captured by the MMR data. The reason why I decided to apply this filtering step, is that the users collected by the MMR graph data hide some extra interaction properties, e.g. 2 users are related if their total number of interactions within a 3 months period is sufficiently high, so that it represents a constant interaction over time and not a random one. This way we would already remove a lot of noisy/irrelevant data and speed up the algorithms in the next steps."
   ]
  },
  {
   "cell_type": "markdown",
   "metadata": {},
   "source": [
    "Hereby a summary of the filtering steps and the statistics about the collected tweets and usernames:\n",
    "\n",
    "| Property | Before Filtering | After Filtering | % After/Before\n",
    "|---|---|---|---|\n",
    "| **Total Collected Tweets** | 5.651.594 | 4.184.051  | 74,03%\n",
    "| **Total Unique Usernames** | 1.056.532 | 800.700 | 75,79%"
   ]
  },
  {
   "cell_type": "markdown",
   "metadata": {},
   "source": [
    "## 2. User Interactions Statistics\n",
    "I could first show some statistics about the interactions."
   ]
  },
  {
   "cell_type": "markdown",
   "metadata": {},
   "source": [
    "### 2.1 Top Interactions\n",
    "I may show which are the interactions that occurred the most throughout the years we're considering. It's convenient to create a dictionary with $K \\rightarrow V$ pairs where $K$ = interaction, $V$ = count (count how many times two people have interacted with each other within the whole timeline period we're considering).\n",
    "\n",
    "Collecting the interactions count dictionary may be done linearly with a single pass, and the steps are hereby summarized:\n",
    "1. For each tweet, create a list of all possible pairs of its involved users and for each of them create an `Interaction` instance;\n",
    "2. Add a new entry to the dictionary with value 1, if the interaction is not existing;\n",
    "3. If the interaction is already existing, increment its value. "
   ]
  },
  {
   "cell_type": "code",
   "execution_count": 12,
   "metadata": {},
   "outputs": [],
   "source": [
    "def create_interactions_count_dict(tweets):\n",
    "    interactions_count = {}\n",
    "    for t in tweets:\n",
    "        pairs = list(combinations(t.users, 2))\n",
    "        for p in pairs:\n",
    "            i = Interaction(p[0], p[1])\n",
    "            if i in interactions_count:\n",
    "                interactions_count[i] += 1\n",
    "            else:\n",
    "                interactions_count[i] = 1\n",
    "    return interactions_count"
   ]
  },
  {
   "cell_type": "code",
   "execution_count": 13,
   "metadata": {},
   "outputs": [],
   "source": [
    "interactions_count = create_interactions_count_dict(tweets_filtered)"
   ]
  },
  {
   "cell_type": "markdown",
   "metadata": {},
   "source": [
    "Let's visualize the results conveniently through a DataFrame, by first sorting it with descending counts (I only show the top interactions e.g. whose count value are at least 100):"
   ]
  },
  {
   "cell_type": "code",
   "execution_count": 14,
   "metadata": {},
   "outputs": [],
   "source": [
    "interactions_df = pd.DataFrame(data=[(el[0].source, el[0].target, el[1]) for el in interactions_count.items()], columns=[\"Source\", \"Target\", \"Count\"])"
   ]
  },
  {
   "cell_type": "code",
   "execution_count": 15,
   "metadata": {},
   "outputs": [
    {
     "data": {
      "text/html": [
       "<div>\n",
       "<style scoped>\n",
       "    .dataframe tbody tr th:only-of-type {\n",
       "        vertical-align: middle;\n",
       "    }\n",
       "\n",
       "    .dataframe tbody tr th {\n",
       "        vertical-align: top;\n",
       "    }\n",
       "\n",
       "    .dataframe thead th {\n",
       "        text-align: right;\n",
       "    }\n",
       "</style>\n",
       "<table border=\"1\" class=\"dataframe\">\n",
       "  <thead>\n",
       "    <tr style=\"text-align: right;\">\n",
       "      <th></th>\n",
       "      <th>Source</th>\n",
       "      <th>Target</th>\n",
       "      <th>Count</th>\n",
       "    </tr>\n",
       "  </thead>\n",
       "  <tbody>\n",
       "    <tr>\n",
       "      <th>595309</th>\n",
       "      <td>hillaryclinton</td>\n",
       "      <td>realdonaldtrump</td>\n",
       "      <td>17415</td>\n",
       "    </tr>\n",
       "    <tr>\n",
       "      <th>1523540</th>\n",
       "      <td>foxnews</td>\n",
       "      <td>realdonaldtrump</td>\n",
       "      <td>12038</td>\n",
       "    </tr>\n",
       "    <tr>\n",
       "      <th>1516853</th>\n",
       "      <td>cnn</td>\n",
       "      <td>msnbc</td>\n",
       "      <td>10486</td>\n",
       "    </tr>\n",
       "    <tr>\n",
       "      <th>255119</th>\n",
       "      <td>danscavino</td>\n",
       "      <td>realdonaldtrump</td>\n",
       "      <td>9395</td>\n",
       "    </tr>\n",
       "    <tr>\n",
       "      <th>251251</th>\n",
       "      <td>cnn</td>\n",
       "      <td>realdonaldtrump</td>\n",
       "      <td>8648</td>\n",
       "    </tr>\n",
       "    <tr>\n",
       "      <th>2031726</th>\n",
       "      <td>tedcruz</td>\n",
       "      <td>realdonaldtrump</td>\n",
       "      <td>8400</td>\n",
       "    </tr>\n",
       "    <tr>\n",
       "      <th>2784189</th>\n",
       "      <td>cnn</td>\n",
       "      <td>foxnews</td>\n",
       "      <td>7609</td>\n",
       "    </tr>\n",
       "    <tr>\n",
       "      <th>404962</th>\n",
       "      <td>gop</td>\n",
       "      <td>realdonaldtrump</td>\n",
       "      <td>6333</td>\n",
       "    </tr>\n",
       "    <tr>\n",
       "      <th>1801050</th>\n",
       "      <td>seanhannity</td>\n",
       "      <td>realdonaldtrump</td>\n",
       "      <td>5569</td>\n",
       "    </tr>\n",
       "    <tr>\n",
       "      <th>2081947</th>\n",
       "      <td>erictrump</td>\n",
       "      <td>realdonaldtrump</td>\n",
       "      <td>4956</td>\n",
       "    </tr>\n",
       "    <tr>\n",
       "      <th>2834134</th>\n",
       "      <td>donaldjtrumpjr</td>\n",
       "      <td>realdonaldtrump</td>\n",
       "      <td>4316</td>\n",
       "    </tr>\n",
       "    <tr>\n",
       "      <th>1191982</th>\n",
       "      <td>abc</td>\n",
       "      <td>cnn</td>\n",
       "      <td>4129</td>\n",
       "    </tr>\n",
       "    <tr>\n",
       "      <th>785392</th>\n",
       "      <td>msnbc</td>\n",
       "      <td>foxnews</td>\n",
       "      <td>4128</td>\n",
       "    </tr>\n",
       "    <tr>\n",
       "      <th>1475540</th>\n",
       "      <td>welcomemelania</td>\n",
       "      <td>realdonaldtrump</td>\n",
       "      <td>3970</td>\n",
       "    </tr>\n",
       "    <tr>\n",
       "      <th>773623</th>\n",
       "      <td>kellyannepolls</td>\n",
       "      <td>realdonaldtrump</td>\n",
       "      <td>3674</td>\n",
       "    </tr>\n",
       "    <tr>\n",
       "      <th>2134194</th>\n",
       "      <td>louistrc</td>\n",
       "      <td>realdonaldtrump</td>\n",
       "      <td>3350</td>\n",
       "    </tr>\n",
       "    <tr>\n",
       "      <th>149377</th>\n",
       "      <td>reince</td>\n",
       "      <td>gop</td>\n",
       "      <td>3314</td>\n",
       "    </tr>\n",
       "    <tr>\n",
       "      <th>2753012</th>\n",
       "      <td>donaldjtrumpjr</td>\n",
       "      <td>erictrump</td>\n",
       "      <td>3067</td>\n",
       "    </tr>\n",
       "    <tr>\n",
       "      <th>1475850</th>\n",
       "      <td>seanhannity</td>\n",
       "      <td>foxnews</td>\n",
       "      <td>2938</td>\n",
       "    </tr>\n",
       "    <tr>\n",
       "      <th>1539121</th>\n",
       "      <td>potus</td>\n",
       "      <td>potus44</td>\n",
       "      <td>2916</td>\n",
       "    </tr>\n",
       "    <tr>\n",
       "      <th>1009257</th>\n",
       "      <td>megynkelly</td>\n",
       "      <td>realdonaldtrump</td>\n",
       "      <td>2907</td>\n",
       "    </tr>\n",
       "    <tr>\n",
       "      <th>1864136</th>\n",
       "      <td>speakerryan</td>\n",
       "      <td>realdonaldtrump</td>\n",
       "      <td>2793</td>\n",
       "    </tr>\n",
       "    <tr>\n",
       "      <th>270380</th>\n",
       "      <td>hillaryclinton</td>\n",
       "      <td>foxnews</td>\n",
       "      <td>2778</td>\n",
       "    </tr>\n",
       "    <tr>\n",
       "      <th>2421842</th>\n",
       "      <td>potus</td>\n",
       "      <td>realdonaldtrump</td>\n",
       "      <td>2699</td>\n",
       "    </tr>\n",
       "    <tr>\n",
       "      <th>1115543</th>\n",
       "      <td>msnbc</td>\n",
       "      <td>realdonaldtrump</td>\n",
       "      <td>2672</td>\n",
       "    </tr>\n",
       "    <tr>\n",
       "      <th>358656</th>\n",
       "      <td>asid</td>\n",
       "      <td>ebay</td>\n",
       "      <td>2618</td>\n",
       "    </tr>\n",
       "    <tr>\n",
       "      <th>237708</th>\n",
       "      <td>reince</td>\n",
       "      <td>realdonaldtrump</td>\n",
       "      <td>2557</td>\n",
       "    </tr>\n",
       "    <tr>\n",
       "      <th>1855384</th>\n",
       "      <td>hillaryclinton</td>\n",
       "      <td>cnn</td>\n",
       "      <td>2551</td>\n",
       "    </tr>\n",
       "    <tr>\n",
       "      <th>307738</th>\n",
       "      <td>asid</td>\n",
       "      <td>abaesq</td>\n",
       "      <td>2510</td>\n",
       "    </tr>\n",
       "    <tr>\n",
       "      <th>2686573</th>\n",
       "      <td>ivankatrump</td>\n",
       "      <td>realdonaldtrump</td>\n",
       "      <td>2496</td>\n",
       "    </tr>\n",
       "    <tr>\n",
       "      <th>...</th>\n",
       "      <td>...</td>\n",
       "      <td>...</td>\n",
       "      <td>...</td>\n",
       "    </tr>\n",
       "    <tr>\n",
       "      <th>272878</th>\n",
       "      <td>tzmglobal</td>\n",
       "      <td>realdonaldtrump</td>\n",
       "      <td>100</td>\n",
       "    </tr>\n",
       "    <tr>\n",
       "      <th>2404526</th>\n",
       "      <td>deanobeidallah</td>\n",
       "      <td>grayshadowtech</td>\n",
       "      <td>100</td>\n",
       "    </tr>\n",
       "    <tr>\n",
       "      <th>1593131</th>\n",
       "      <td>bspence5</td>\n",
       "      <td>realdonaldtrump</td>\n",
       "      <td>100</td>\n",
       "    </tr>\n",
       "    <tr>\n",
       "      <th>1302623</th>\n",
       "      <td>nc4everblessed</td>\n",
       "      <td>erictrump</td>\n",
       "      <td>100</td>\n",
       "    </tr>\n",
       "    <tr>\n",
       "      <th>2568011</th>\n",
       "      <td>mittromney</td>\n",
       "      <td>marcorubio</td>\n",
       "      <td>100</td>\n",
       "    </tr>\n",
       "    <tr>\n",
       "      <th>198429</th>\n",
       "      <td>nra</td>\n",
       "      <td>urbancarryco</td>\n",
       "      <td>100</td>\n",
       "    </tr>\n",
       "    <tr>\n",
       "      <th>1192131</th>\n",
       "      <td>govbrewer</td>\n",
       "      <td>realdonaldtrump</td>\n",
       "      <td>100</td>\n",
       "    </tr>\n",
       "    <tr>\n",
       "      <th>1803555</th>\n",
       "      <td>gary_causer</td>\n",
       "      <td>tedcruz</td>\n",
       "      <td>100</td>\n",
       "    </tr>\n",
       "    <tr>\n",
       "      <th>1259107</th>\n",
       "      <td>cnn</td>\n",
       "      <td>anncoulter</td>\n",
       "      <td>100</td>\n",
       "    </tr>\n",
       "    <tr>\n",
       "      <th>1779758</th>\n",
       "      <td>danspena</td>\n",
       "      <td>seanhannity</td>\n",
       "      <td>100</td>\n",
       "    </tr>\n",
       "    <tr>\n",
       "      <th>1417473</th>\n",
       "      <td>tedcruz</td>\n",
       "      <td>andrewluck23</td>\n",
       "      <td>100</td>\n",
       "    </tr>\n",
       "    <tr>\n",
       "      <th>783398</th>\n",
       "      <td>mike_pence</td>\n",
       "      <td>cnn</td>\n",
       "      <td>100</td>\n",
       "    </tr>\n",
       "    <tr>\n",
       "      <th>2487694</th>\n",
       "      <td>outnumberedfnc</td>\n",
       "      <td>foxnews</td>\n",
       "      <td>100</td>\n",
       "    </tr>\n",
       "    <tr>\n",
       "      <th>448256</th>\n",
       "      <td>rnc</td>\n",
       "      <td>speakerryan</td>\n",
       "      <td>100</td>\n",
       "    </tr>\n",
       "    <tr>\n",
       "      <th>2298987</th>\n",
       "      <td>cnn</td>\n",
       "      <td>truthouter</td>\n",
       "      <td>100</td>\n",
       "    </tr>\n",
       "    <tr>\n",
       "      <th>509311</th>\n",
       "      <td>donaldtrumpwall</td>\n",
       "      <td>donaldjtrumpjr</td>\n",
       "      <td>100</td>\n",
       "    </tr>\n",
       "    <tr>\n",
       "      <th>1119591</th>\n",
       "      <td>newtemplar77</td>\n",
       "      <td>msnbc</td>\n",
       "      <td>100</td>\n",
       "    </tr>\n",
       "    <tr>\n",
       "      <th>985175</th>\n",
       "      <td>tigerbeat</td>\n",
       "      <td>realdonaldtrump</td>\n",
       "      <td>100</td>\n",
       "    </tr>\n",
       "    <tr>\n",
       "      <th>229589</th>\n",
       "      <td>loudobbs</td>\n",
       "      <td>ericbolling</td>\n",
       "      <td>100</td>\n",
       "    </tr>\n",
       "    <tr>\n",
       "      <th>1597746</th>\n",
       "      <td>gop</td>\n",
       "      <td>maddow</td>\n",
       "      <td>100</td>\n",
       "    </tr>\n",
       "    <tr>\n",
       "      <th>2300996</th>\n",
       "      <td>paulbegala</td>\n",
       "      <td>chriscuomo</td>\n",
       "      <td>100</td>\n",
       "    </tr>\n",
       "    <tr>\n",
       "      <th>165161</th>\n",
       "      <td>kellyannepolls</td>\n",
       "      <td>kegan05</td>\n",
       "      <td>100</td>\n",
       "    </tr>\n",
       "    <tr>\n",
       "      <th>1138124</th>\n",
       "      <td>llendonmar46</td>\n",
       "      <td>politicususa</td>\n",
       "      <td>100</td>\n",
       "    </tr>\n",
       "    <tr>\n",
       "      <th>2649806</th>\n",
       "      <td>msnbc</td>\n",
       "      <td>rylcash</td>\n",
       "      <td>100</td>\n",
       "    </tr>\n",
       "    <tr>\n",
       "      <th>2760623</th>\n",
       "      <td>cnn</td>\n",
       "      <td>poppyharlowcnn</td>\n",
       "      <td>100</td>\n",
       "    </tr>\n",
       "    <tr>\n",
       "      <th>703106</th>\n",
       "      <td>kristinandrene</td>\n",
       "      <td>realdonaldtrump</td>\n",
       "      <td>100</td>\n",
       "    </tr>\n",
       "    <tr>\n",
       "      <th>259859</th>\n",
       "      <td>totlth</td>\n",
       "      <td>sfalumberjack21</td>\n",
       "      <td>100</td>\n",
       "    </tr>\n",
       "    <tr>\n",
       "      <th>1692318</th>\n",
       "      <td>andrewluck23</td>\n",
       "      <td>realdonaldtrump</td>\n",
       "      <td>100</td>\n",
       "    </tr>\n",
       "    <tr>\n",
       "      <th>1386430</th>\n",
       "      <td>truthouter</td>\n",
       "      <td>robbymook</td>\n",
       "      <td>100</td>\n",
       "    </tr>\n",
       "    <tr>\n",
       "      <th>947524</th>\n",
       "      <td>carlalykins</td>\n",
       "      <td>gop</td>\n",
       "      <td>100</td>\n",
       "    </tr>\n",
       "  </tbody>\n",
       "</table>\n",
       "<p>2796 rows × 3 columns</p>\n",
       "</div>"
      ],
      "text/plain": [
       "                  Source           Target  Count\n",
       "595309    hillaryclinton  realdonaldtrump  17415\n",
       "1523540          foxnews  realdonaldtrump  12038\n",
       "1516853              cnn            msnbc  10486\n",
       "255119        danscavino  realdonaldtrump   9395\n",
       "251251               cnn  realdonaldtrump   8648\n",
       "2031726          tedcruz  realdonaldtrump   8400\n",
       "2784189              cnn          foxnews   7609\n",
       "404962               gop  realdonaldtrump   6333\n",
       "1801050      seanhannity  realdonaldtrump   5569\n",
       "2081947        erictrump  realdonaldtrump   4956\n",
       "2834134   donaldjtrumpjr  realdonaldtrump   4316\n",
       "1191982              abc              cnn   4129\n",
       "785392             msnbc          foxnews   4128\n",
       "1475540   welcomemelania  realdonaldtrump   3970\n",
       "773623    kellyannepolls  realdonaldtrump   3674\n",
       "2134194         louistrc  realdonaldtrump   3350\n",
       "149377            reince              gop   3314\n",
       "2753012   donaldjtrumpjr        erictrump   3067\n",
       "1475850      seanhannity          foxnews   2938\n",
       "1539121            potus          potus44   2916\n",
       "1009257       megynkelly  realdonaldtrump   2907\n",
       "1864136      speakerryan  realdonaldtrump   2793\n",
       "270380    hillaryclinton          foxnews   2778\n",
       "2421842            potus  realdonaldtrump   2699\n",
       "1115543            msnbc  realdonaldtrump   2672\n",
       "358656              asid             ebay   2618\n",
       "237708            reince  realdonaldtrump   2557\n",
       "1855384   hillaryclinton              cnn   2551\n",
       "307738              asid           abaesq   2510\n",
       "2686573      ivankatrump  realdonaldtrump   2496\n",
       "...                  ...              ...    ...\n",
       "272878         tzmglobal  realdonaldtrump    100\n",
       "2404526   deanobeidallah   grayshadowtech    100\n",
       "1593131         bspence5  realdonaldtrump    100\n",
       "1302623   nc4everblessed        erictrump    100\n",
       "2568011       mittromney       marcorubio    100\n",
       "198429               nra     urbancarryco    100\n",
       "1192131        govbrewer  realdonaldtrump    100\n",
       "1803555      gary_causer          tedcruz    100\n",
       "1259107              cnn       anncoulter    100\n",
       "1779758         danspena      seanhannity    100\n",
       "1417473          tedcruz     andrewluck23    100\n",
       "783398        mike_pence              cnn    100\n",
       "2487694   outnumberedfnc          foxnews    100\n",
       "448256               rnc      speakerryan    100\n",
       "2298987              cnn       truthouter    100\n",
       "509311   donaldtrumpwall   donaldjtrumpjr    100\n",
       "1119591     newtemplar77            msnbc    100\n",
       "985175         tigerbeat  realdonaldtrump    100\n",
       "229589          loudobbs      ericbolling    100\n",
       "1597746              gop           maddow    100\n",
       "2300996       paulbegala       chriscuomo    100\n",
       "165161    kellyannepolls          kegan05    100\n",
       "1138124     llendonmar46     politicususa    100\n",
       "2649806            msnbc          rylcash    100\n",
       "2760623              cnn   poppyharlowcnn    100\n",
       "703106    kristinandrene  realdonaldtrump    100\n",
       "259859            totlth  sfalumberjack21    100\n",
       "1692318     andrewluck23  realdonaldtrump    100\n",
       "1386430       truthouter        robbymook    100\n",
       "947524       carlalykins              gop    100\n",
       "\n",
       "[2796 rows x 3 columns]"
      ]
     },
     "execution_count": 15,
     "metadata": {},
     "output_type": "execute_result"
    }
   ],
   "source": [
    "interactions_df.sort_values(by=\"Count\", ascending=False, inplace=True)\n",
    "interactions_df[interactions_df[\"Count\"]>=100]"
   ]
  },
  {
   "cell_type": "markdown",
   "metadata": {},
   "source": [
    "The above DataFrame therefore shows who are the pairs of users that interacted the most on a time basis about hashtag **#Trump**. Please remind that because of the filtering performed in the previous section, DataFrame might include some users that are not part of the graph data.\n",
    "\n",
    "Another perspective may be given instead to highlight which individual users have been involved in the highest number of interactions:"
   ]
  },
  {
   "cell_type": "code",
   "execution_count": 16,
   "metadata": {},
   "outputs": [
    {
     "data": {
      "text/html": [
       "<div>\n",
       "<style scoped>\n",
       "    .dataframe tbody tr th:only-of-type {\n",
       "        vertical-align: middle;\n",
       "    }\n",
       "\n",
       "    .dataframe tbody tr th {\n",
       "        vertical-align: top;\n",
       "    }\n",
       "\n",
       "    .dataframe thead th {\n",
       "        text-align: right;\n",
       "    }\n",
       "</style>\n",
       "<table border=\"1\" class=\"dataframe\">\n",
       "  <thead>\n",
       "    <tr style=\"text-align: right;\">\n",
       "      <th></th>\n",
       "      <th>User</th>\n",
       "      <th>Count</th>\n",
       "    </tr>\n",
       "  </thead>\n",
       "  <tbody>\n",
       "    <tr>\n",
       "      <th>442073</th>\n",
       "      <td>realdonaldtrump</td>\n",
       "      <td>781860</td>\n",
       "    </tr>\n",
       "    <tr>\n",
       "      <th>222410</th>\n",
       "      <td>hillaryclinton</td>\n",
       "      <td>171822</td>\n",
       "    </tr>\n",
       "    <tr>\n",
       "      <th>109426</th>\n",
       "      <td>cnn</td>\n",
       "      <td>167697</td>\n",
       "    </tr>\n",
       "    <tr>\n",
       "      <th>186348</th>\n",
       "      <td>foxnews</td>\n",
       "      <td>142796</td>\n",
       "    </tr>\n",
       "    <tr>\n",
       "      <th>205815</th>\n",
       "      <td>gop</td>\n",
       "      <td>94098</td>\n",
       "    </tr>\n",
       "    <tr>\n",
       "      <th>374597</th>\n",
       "      <td>msnbc</td>\n",
       "      <td>84247</td>\n",
       "    </tr>\n",
       "    <tr>\n",
       "      <th>519628</th>\n",
       "      <td>tedcruz</td>\n",
       "      <td>79770</td>\n",
       "    </tr>\n",
       "    <tr>\n",
       "      <th>478036</th>\n",
       "      <td>seanhannity</td>\n",
       "      <td>59300</td>\n",
       "    </tr>\n",
       "    <tr>\n",
       "      <th>126937</th>\n",
       "      <td>danscavino</td>\n",
       "      <td>50730</td>\n",
       "    </tr>\n",
       "    <tr>\n",
       "      <th>584528</th>\n",
       "      <td>youtube</td>\n",
       "      <td>48994</td>\n",
       "    </tr>\n",
       "    <tr>\n",
       "      <th>427239</th>\n",
       "      <td>potus</td>\n",
       "      <td>43578</td>\n",
       "    </tr>\n",
       "    <tr>\n",
       "      <th>397376</th>\n",
       "      <td>nytimes</td>\n",
       "      <td>43565</td>\n",
       "    </tr>\n",
       "    <tr>\n",
       "      <th>498867</th>\n",
       "      <td>speakerryan</td>\n",
       "      <td>40142</td>\n",
       "    </tr>\n",
       "    <tr>\n",
       "      <th>11340</th>\n",
       "      <td>abc</td>\n",
       "      <td>39442</td>\n",
       "    </tr>\n",
       "    <tr>\n",
       "      <th>350646</th>\n",
       "      <td>megynkelly</td>\n",
       "      <td>34354</td>\n",
       "    </tr>\n",
       "    <tr>\n",
       "      <th>288569</th>\n",
       "      <td>kellyannepolls</td>\n",
       "      <td>34268</td>\n",
       "    </tr>\n",
       "    <tr>\n",
       "      <th>169997</th>\n",
       "      <td>erictrump</td>\n",
       "      <td>33516</td>\n",
       "    </tr>\n",
       "    <tr>\n",
       "      <th>446184</th>\n",
       "      <td>reince</td>\n",
       "      <td>33056</td>\n",
       "    </tr>\n",
       "    <tr>\n",
       "      <th>109557</th>\n",
       "      <td>cnnpolitics</td>\n",
       "      <td>32171</td>\n",
       "    </tr>\n",
       "    <tr>\n",
       "      <th>147730</th>\n",
       "      <td>donaldjtrumpjr</td>\n",
       "      <td>29443</td>\n",
       "    </tr>\n",
       "    <tr>\n",
       "      <th>60971</th>\n",
       "      <td>berniesanders</td>\n",
       "      <td>29310</td>\n",
       "    </tr>\n",
       "    <tr>\n",
       "      <th>363340</th>\n",
       "      <td>mitchellvii</td>\n",
       "      <td>27047</td>\n",
       "    </tr>\n",
       "    <tr>\n",
       "      <th>383128</th>\n",
       "      <td>nbcnews</td>\n",
       "      <td>26088</td>\n",
       "    </tr>\n",
       "    <tr>\n",
       "      <th>425390</th>\n",
       "      <td>politico</td>\n",
       "      <td>24118</td>\n",
       "    </tr>\n",
       "    <tr>\n",
       "      <th>92989</th>\n",
       "      <td>cbsnews</td>\n",
       "      <td>23503</td>\n",
       "    </tr>\n",
       "    <tr>\n",
       "      <th>36897</th>\n",
       "      <td>anncoulter</td>\n",
       "      <td>22795</td>\n",
       "    </tr>\n",
       "    <tr>\n",
       "      <th>527373</th>\n",
       "      <td>thehill</td>\n",
       "      <td>22395</td>\n",
       "    </tr>\n",
       "    <tr>\n",
       "      <th>369502</th>\n",
       "      <td>morning_joe</td>\n",
       "      <td>22271</td>\n",
       "    </tr>\n",
       "    <tr>\n",
       "      <th>329786</th>\n",
       "      <td>maddow</td>\n",
       "      <td>21590</td>\n",
       "    </tr>\n",
       "    <tr>\n",
       "      <th>568817</th>\n",
       "      <td>washingtonpost</td>\n",
       "      <td>21082</td>\n",
       "    </tr>\n",
       "    <tr>\n",
       "      <th>...</th>\n",
       "      <td>...</td>\n",
       "      <td>...</td>\n",
       "    </tr>\n",
       "    <tr>\n",
       "      <th>96574</th>\n",
       "      <td>channel4news</td>\n",
       "      <td>504</td>\n",
       "    </tr>\n",
       "    <tr>\n",
       "      <th>578856</th>\n",
       "      <td>writerswebla</td>\n",
       "      <td>504</td>\n",
       "    </tr>\n",
       "    <tr>\n",
       "      <th>185635</th>\n",
       "      <td>formichenews</td>\n",
       "      <td>504</td>\n",
       "    </tr>\n",
       "    <tr>\n",
       "      <th>106731</th>\n",
       "      <td>clarknt67</td>\n",
       "      <td>504</td>\n",
       "    </tr>\n",
       "    <tr>\n",
       "      <th>536441</th>\n",
       "      <td>timodc</td>\n",
       "      <td>504</td>\n",
       "    </tr>\n",
       "    <tr>\n",
       "      <th>365613</th>\n",
       "      <td>mnissenson</td>\n",
       "      <td>503</td>\n",
       "    </tr>\n",
       "    <tr>\n",
       "      <th>218976</th>\n",
       "      <td>heeeellllooooo</td>\n",
       "      <td>503</td>\n",
       "    </tr>\n",
       "    <tr>\n",
       "      <th>196593</th>\n",
       "      <td>geenajagger</td>\n",
       "      <td>503</td>\n",
       "    </tr>\n",
       "    <tr>\n",
       "      <th>48745</th>\n",
       "      <td>avanconia</td>\n",
       "      <td>503</td>\n",
       "    </tr>\n",
       "    <tr>\n",
       "      <th>447282</th>\n",
       "      <td>repchriscollins</td>\n",
       "      <td>502</td>\n",
       "    </tr>\n",
       "    <tr>\n",
       "      <th>391907</th>\n",
       "      <td>nobamadotcom</td>\n",
       "      <td>502</td>\n",
       "    </tr>\n",
       "    <tr>\n",
       "      <th>84635</th>\n",
       "      <td>cairnational</td>\n",
       "      <td>502</td>\n",
       "    </tr>\n",
       "    <tr>\n",
       "      <th>66077</th>\n",
       "      <td>bipartisanism</td>\n",
       "      <td>502</td>\n",
       "    </tr>\n",
       "    <tr>\n",
       "      <th>481718</th>\n",
       "      <td>sfchronicle</td>\n",
       "      <td>501</td>\n",
       "    </tr>\n",
       "    <tr>\n",
       "      <th>297727</th>\n",
       "      <td>kraftywurker</td>\n",
       "      <td>501</td>\n",
       "    </tr>\n",
       "    <tr>\n",
       "      <th>400776</th>\n",
       "      <td>olehippiechick</td>\n",
       "      <td>501</td>\n",
       "    </tr>\n",
       "    <tr>\n",
       "      <th>170867</th>\n",
       "      <td>errollouis</td>\n",
       "      <td>501</td>\n",
       "    </tr>\n",
       "    <tr>\n",
       "      <th>487885</th>\n",
       "      <td>siggmak</td>\n",
       "      <td>501</td>\n",
       "    </tr>\n",
       "    <tr>\n",
       "      <th>106892</th>\n",
       "      <td>classysnobbb</td>\n",
       "      <td>501</td>\n",
       "    </tr>\n",
       "    <tr>\n",
       "      <th>67707</th>\n",
       "      <td>blacksfortrump</td>\n",
       "      <td>501</td>\n",
       "    </tr>\n",
       "    <tr>\n",
       "      <th>261433</th>\n",
       "      <td>jimrutenberg</td>\n",
       "      <td>501</td>\n",
       "    </tr>\n",
       "    <tr>\n",
       "      <th>163419</th>\n",
       "      <td>elisamich0422</td>\n",
       "      <td>501</td>\n",
       "    </tr>\n",
       "    <tr>\n",
       "      <th>2369</th>\n",
       "      <td>1voicematters</td>\n",
       "      <td>500</td>\n",
       "    </tr>\n",
       "    <tr>\n",
       "      <th>69115</th>\n",
       "      <td>bloodless_coup</td>\n",
       "      <td>500</td>\n",
       "    </tr>\n",
       "    <tr>\n",
       "      <th>316536</th>\n",
       "      <td>lipstickpundit1</td>\n",
       "      <td>500</td>\n",
       "    </tr>\n",
       "    <tr>\n",
       "      <th>285496</th>\n",
       "      <td>kathypica1</td>\n",
       "      <td>500</td>\n",
       "    </tr>\n",
       "    <tr>\n",
       "      <th>35266</th>\n",
       "      <td>angelrose9392</td>\n",
       "      <td>500</td>\n",
       "    </tr>\n",
       "    <tr>\n",
       "      <th>410513</th>\n",
       "      <td>pastwarranty</td>\n",
       "      <td>500</td>\n",
       "    </tr>\n",
       "    <tr>\n",
       "      <th>313928</th>\n",
       "      <td>librtee2</td>\n",
       "      <td>500</td>\n",
       "    </tr>\n",
       "    <tr>\n",
       "      <th>142505</th>\n",
       "      <td>dimitriousgart2</td>\n",
       "      <td>500</td>\n",
       "    </tr>\n",
       "  </tbody>\n",
       "</table>\n",
       "<p>2354 rows × 2 columns</p>\n",
       "</div>"
      ],
      "text/plain": [
       "                   User   Count\n",
       "442073  realdonaldtrump  781860\n",
       "222410   hillaryclinton  171822\n",
       "109426              cnn  167697\n",
       "186348          foxnews  142796\n",
       "205815              gop   94098\n",
       "374597            msnbc   84247\n",
       "519628          tedcruz   79770\n",
       "478036      seanhannity   59300\n",
       "126937       danscavino   50730\n",
       "584528          youtube   48994\n",
       "427239            potus   43578\n",
       "397376          nytimes   43565\n",
       "498867      speakerryan   40142\n",
       "11340               abc   39442\n",
       "350646       megynkelly   34354\n",
       "288569   kellyannepolls   34268\n",
       "169997        erictrump   33516\n",
       "446184           reince   33056\n",
       "109557      cnnpolitics   32171\n",
       "147730   donaldjtrumpjr   29443\n",
       "60971     berniesanders   29310\n",
       "363340      mitchellvii   27047\n",
       "383128          nbcnews   26088\n",
       "425390         politico   24118\n",
       "92989           cbsnews   23503\n",
       "36897        anncoulter   22795\n",
       "527373          thehill   22395\n",
       "369502      morning_joe   22271\n",
       "329786           maddow   21590\n",
       "568817   washingtonpost   21082\n",
       "...                 ...     ...\n",
       "96574      channel4news     504\n",
       "578856     writerswebla     504\n",
       "185635     formichenews     504\n",
       "106731        clarknt67     504\n",
       "536441           timodc     504\n",
       "365613       mnissenson     503\n",
       "218976   heeeellllooooo     503\n",
       "196593      geenajagger     503\n",
       "48745         avanconia     503\n",
       "447282  repchriscollins     502\n",
       "391907     nobamadotcom     502\n",
       "84635      cairnational     502\n",
       "66077     bipartisanism     502\n",
       "481718      sfchronicle     501\n",
       "297727     kraftywurker     501\n",
       "400776   olehippiechick     501\n",
       "170867       errollouis     501\n",
       "487885          siggmak     501\n",
       "106892     classysnobbb     501\n",
       "67707    blacksfortrump     501\n",
       "261433     jimrutenberg     501\n",
       "163419    elisamich0422     501\n",
       "2369      1voicematters     500\n",
       "69115    bloodless_coup     500\n",
       "316536  lipstickpundit1     500\n",
       "285496       kathypica1     500\n",
       "35266     angelrose9392     500\n",
       "410513     pastwarranty     500\n",
       "313928         librtee2     500\n",
       "142505  dimitriousgart2     500\n",
       "\n",
       "[2354 rows x 2 columns]"
      ]
     },
     "execution_count": 16,
     "metadata": {},
     "output_type": "execute_result"
    }
   ],
   "source": [
    "temp1 = interactions_df.groupby(['Source']).sum().reset_index().rename(columns={'Source':'User'})\n",
    "temp2 = interactions_df.groupby(['Target']).sum().reset_index().rename(columns={'Target':'User'})\n",
    "temp = temp1.append(temp2)\n",
    "temp = temp.groupby(['User']).sum().reset_index()\n",
    "temp.sort_values(by=\"Count\",ascending=False, inplace=True)\n",
    "temp[temp[\"Count\"]>=500]"
   ]
  },
  {
   "cell_type": "markdown",
   "metadata": {},
   "source": [
    "The result above gives an idea about who have been the most active users around the hashtag topic overtime."
   ]
  },
  {
   "cell_type": "code",
   "execution_count": 17,
   "metadata": {},
   "outputs": [],
   "source": [
    "# Backup DataFrames to visualize top interactions with NetworkX / Graphistry\n",
    "interactions_df[interactions_df[\"Count\"]>=50].to_csv(os.path.join(data_dir, \"graph_visualization_top_interactions/\"+hashtag+\"_top_interactions.csv\"),index=False)\n",
    "temp[temp[\"Count\"]>=100].to_csv(os.path.join(data_dir, \"graph_visualization_top_interactions/\"+hashtag+\"_users_frequency.csv\"),index=False)"
   ]
  },
  {
   "cell_type": "code",
   "execution_count": 16,
   "metadata": {},
   "outputs": [],
   "source": [
    "# Include only interactions that are captured by MMR data\n",
    "interactions_df = interactions_df[interactions_df.apply(lambda x: x[\"Source\"] in usernames_to_id_dict and x[\"Target\"] in usernames_to_id_dict, axis=1)]\n",
    "src_encodings = interactions_df.apply(lambda x: usernames_to_id_dict[x[\"Source\"]], axis=1)\n",
    "trg_encodings = interactions_df.apply(lambda x: usernames_to_id_dict[x[\"Target\"]], axis=1)\n",
    "interactions_df[\"Source_ID\"] = src_encodings\n",
    "interactions_df[\"Target_ID\"] = trg_encodings"
   ]
  },
  {
   "cell_type": "code",
   "execution_count": 17,
   "metadata": {},
   "outputs": [
    {
     "data": {
      "text/html": [
       "<div>\n",
       "<style scoped>\n",
       "    .dataframe tbody tr th:only-of-type {\n",
       "        vertical-align: middle;\n",
       "    }\n",
       "\n",
       "    .dataframe tbody tr th {\n",
       "        vertical-align: top;\n",
       "    }\n",
       "\n",
       "    .dataframe thead th {\n",
       "        text-align: right;\n",
       "    }\n",
       "</style>\n",
       "<table border=\"1\" class=\"dataframe\">\n",
       "  <thead>\n",
       "    <tr style=\"text-align: right;\">\n",
       "      <th></th>\n",
       "      <th>Source</th>\n",
       "      <th>Target</th>\n",
       "      <th>Count</th>\n",
       "      <th>Source_ID</th>\n",
       "      <th>Target_ID</th>\n",
       "    </tr>\n",
       "  </thead>\n",
       "  <tbody>\n",
       "    <tr>\n",
       "      <th>595309</th>\n",
       "      <td>hillaryclinton</td>\n",
       "      <td>realdonaldtrump</td>\n",
       "      <td>17415</td>\n",
       "      <td>31812949</td>\n",
       "      <td>3793089</td>\n",
       "    </tr>\n",
       "    <tr>\n",
       "      <th>1523540</th>\n",
       "      <td>foxnews</td>\n",
       "      <td>realdonaldtrump</td>\n",
       "      <td>12038</td>\n",
       "      <td>5757618</td>\n",
       "      <td>3793089</td>\n",
       "    </tr>\n",
       "    <tr>\n",
       "      <th>1516853</th>\n",
       "      <td>cnn</td>\n",
       "      <td>msnbc</td>\n",
       "      <td>10486</td>\n",
       "      <td>373087</td>\n",
       "      <td>1225246</td>\n",
       "    </tr>\n",
       "    <tr>\n",
       "      <th>255119</th>\n",
       "      <td>danscavino</td>\n",
       "      <td>realdonaldtrump</td>\n",
       "      <td>9395</td>\n",
       "      <td>13036082</td>\n",
       "      <td>3793089</td>\n",
       "    </tr>\n",
       "    <tr>\n",
       "      <th>251251</th>\n",
       "      <td>cnn</td>\n",
       "      <td>realdonaldtrump</td>\n",
       "      <td>8648</td>\n",
       "      <td>373087</td>\n",
       "      <td>3793089</td>\n",
       "    </tr>\n",
       "  </tbody>\n",
       "</table>\n",
       "</div>"
      ],
      "text/plain": [
       "                 Source           Target  Count  Source_ID  Target_ID\n",
       "595309   hillaryclinton  realdonaldtrump  17415   31812949    3793089\n",
       "1523540         foxnews  realdonaldtrump  12038    5757618    3793089\n",
       "1516853             cnn            msnbc  10486     373087    1225246\n",
       "255119       danscavino  realdonaldtrump   9395   13036082    3793089\n",
       "251251              cnn  realdonaldtrump   8648     373087    3793089"
      ]
     },
     "execution_count": 17,
     "metadata": {},
     "output_type": "execute_result"
    }
   ],
   "source": [
    "interactions_df.head()"
   ]
  },
  {
   "cell_type": "markdown",
   "metadata": {},
   "source": [
    "## 3. Measuring interactions consistency overtime\n",
    "What I'm now interested in, and what actually represents the end goal of this whole work, is identifying a measure of consistency related to the interactions of people taking part of controversies on Twitter. According to the data I am provided with, I may identify 2 paths:\n",
    "- **MMR graph data**: there's a property of the graph data that hasn't been used so far but still lies in the CSV files I got as result of all the data transformation steps that featured the first notebooks. This property would already give a built-in definition of *interaction consistency*; however, the information we may infer from it is quite limited, and the reason is that for each pair of users we only know whether they have interacted (consistently) within a 3 months period, and given the ranges of our timeline this sums up to a total of 13 periods. It's the only way, however, to compare how interaction consistency has changed overtime;\n",
    "- **Tweets**: when limiting the scope to the tweets related to a specific topic (hashtag), I have no information about which other topics all involved users have been tweeting about neither the related temporal information. Therefore, I may only know when has the *first* Twitter interaction occurred between each pair of mutually interacting users and all the subsequent ones. This is something that has already been highlighted a bit with the previous section, however I may further narrow it down and measure interactions consistency overtime if I count the interactions *per month*."
   ]
  },
  {
   "cell_type": "markdown",
   "metadata": {},
   "source": [
    "### 3.1 Long-term interaction consistency comparison: Analyzing behavioral changes overtime\n",
    "The idea of this analysis is to compare interaction consistency before and after the first $H$-type interaction, in order to highlight the bonding effect of a given hashtag: does it actually strengthen or weaken ties overtime? Are users more or less likely to communicate with each other after their $H$ interaction? We want to address these questions by carrying out this first timeline analysis by using metadata as edge attributes provided by the MMR graph data.\n",
    "\n",
    "In details: we have a total of 13 periods, ranging from 2013-09 to 2016-12, each of 3 months duration. For each edge in $H$ and for each of the periods, we then have a binary variable with values 1/0, set to 1 if the interaction occurred in the respective 3 months period, 0 otherwise (simplification of True/False values). Let's say, given period with 0-based index $i$ and edge $e$: $IsInPeriod(e,i)$ is a function as defined below:\n",
    "\n",
    "$$\n",
    "IsInPeriod(e,i) =\n",
    "    \\begin{cases}\n",
    "        1 & \\text{if $e$ occurred in period $i$,}\\\\\n",
    "        0 & \\text{otherwise.}\n",
    "    \\end{cases}\n",
    "$$\n",
    "\n",
    "Then, the **mutual interaction consistency** of edge $e$, calculated over $P$ consecutive periods starting from period with index $k$ until period with index $j$ (with $j +1 \\ge k$), is given by:\n",
    "\n",
    "$$MIC(e,k,j) = \\frac{\\sum_{i=k}^{j}IsInPeriod(e,i)}{P} = \\frac{\\sum_{i=k}^{j}IsInPeriod(e,i)}{j-k+1}$$\n",
    "\n",
    "Based on the values of $j$ and $k$, $MIC$ becomes meaningful if we consider its **average** over all edges. Therefore, the **average mutual interaction consistency** $\\langle MIC \\rangle$ may be calculated in three similar ways:\n",
    "- $\\langle MIC \\rangle_{T}$: for each edge $e$, $P = 13$, $k=0$, $j=12$ (the whole timeline period);\n",
    "- $\\langle MIC \\rangle_{B}$: for each edge $e$, $P$ is the number of consecutive periods *before* the first $H$ interaction between nodes of edge $e$, i.e. if the first interaction occurred in period with index $q$, then $k=0$, $j=q-1$;\n",
    "- $\\langle MIC \\rangle_{A}$: for each edge $e$, $P$ is the number of consecutive periods *after* the first $H$ interaction between nodes of edge $e$, i.e. $k=q$, $j=12$.\n",
    "\n",
    "In general, given $E$ as the set of edges of $H$ subgraph:\n",
    "\n",
    "$$\\langle MIC \\rangle = \\frac{\\sum_{e \\in E}MIC(e)}{|E|}$$\n",
    "\n",
    "where the values of $k$ and $j$, that depend directly on the considered edge $e$ based on which type of $\\langle MIC \\rangle$ we're calculating, have been encapsulated inside the $MIC$ function.\n",
    "\n",
    "Values of $\\langle MIC \\rangle_{T}$ may then be compared across different $H$ subgraphs, whereas $\\langle MIC \\rangle_{B}$ and $\\langle MIC \\rangle_{A}$ may be then directly compared within the same $H$ subgraph to quantify the bonding impact of hashtag $H$ overtime."
   ]
  },
  {
   "cell_type": "markdown",
   "metadata": {},
   "source": [
    "As a first step, we need to conveniently store the edges attribute. This metadata is already transformed into an array of integers where values are the encoding of the periods, ranging from 0 to 12, where period $0$ is period between 2013-09 and 2013-11 (edges included),  and period $12$ between 2016-09 and 2016-11.\n",
    "\n",
    "I may reuse the `Interaction` custom type to store them as keys of a dictionary (this time I also add a value for the periods field), and I map each `Interaction` to the period corresponding to the first $H$ interaction."
   ]
  },
  {
   "cell_type": "code",
   "execution_count": 12,
   "metadata": {},
   "outputs": [
    {
     "name": "stdout",
     "output_type": "stream",
     "text": [
      "Processed 43419395 lines...\n",
      "Processed 86838790 lines...\n",
      "Processed 130258185 lines...\n",
      "Processed 173677580 lines...\n",
      "Processed 217096975 lines...\n",
      "Processed 260516370 lines...\n",
      "Processed 303935765 lines...\n",
      "Processed 347355160 lines...\n",
      "Processed 390774555 lines...\n",
      "Processed 434193950 lines...\n",
      "Done!\n",
      "CPU times: user 26min 24s, sys: 6.77 s, total: 26min 30s\n",
      "Wall time: 26min 37s\n"
     ]
    }
   ],
   "source": [
    "%%time\n",
    "# Read MMR encoded file\n",
    "interaction_to_first_occ = {}\n",
    "count = 0\n",
    "tot_lines = !wc -l ../data/mmr_encoded_final.csv\n",
    "tot_lines = int(tot_lines[0].split()[0])\n",
    "checkpoint = tot_lines/10\n",
    "with open(\"../data/mmr_encoded_final.csv\") as fin:\n",
    "    for line in read_large_file(fin):\n",
    "        source, target, periods = process_edge_line(line)\n",
    "        count+=1\n",
    "        if count % checkpoint == 0:\n",
    "            print(\"Processed %d lines...\" %count)\n",
    "        if not hashtag_subgraph.IsEdge(source,target):\n",
    "            continue\n",
    "        interaction_to_first_occ[Interaction(source, target, periods)] = None\n",
    "print(\"Done!\")"
   ]
  },
  {
   "cell_type": "markdown",
   "metadata": {},
   "source": [
    "I also need to have a dict that maps each period with the corresponding encoding:"
   ]
  },
  {
   "cell_type": "code",
   "execution_count": 13,
   "metadata": {},
   "outputs": [],
   "source": [
    "def get_periods_encoding_dict():\n",
    "    periods_encoding_df = pd.read_csv(\"../data/period_encoding.csv\")\n",
    "    return {r[\"period\"]:r[\"encoding\"] for _,r in periods_encoding_df.iterrows()}"
   ]
  },
  {
   "cell_type": "code",
   "execution_count": 14,
   "metadata": {},
   "outputs": [],
   "source": [
    "periods_encoding_dict = get_periods_encoding_dict()"
   ]
  },
  {
   "cell_type": "markdown",
   "metadata": {},
   "source": [
    "Furthermore, I need a function that given a date returns the period it belongs to:"
   ]
  },
  {
   "cell_type": "code",
   "execution_count": 15,
   "metadata": {},
   "outputs": [],
   "source": [
    "def get_period_encoding_by_date(date, periods_encoding_dict):\n",
    "    for period,encoding in sorted(periods_encoding_dict.iteritems(), key=operator.itemgetter(1)):\n",
    "        if date >= datetime.datetime.strptime(period, \"%Y-%m\").date():\n",
    "            result = encoding\n",
    "        else:\n",
    "            break\n",
    "    return result"
   ]
  },
  {
   "cell_type": "markdown",
   "metadata": {},
   "source": [
    "Now I may scan all the tweets and save the period when each interaction first occurred:"
   ]
  },
  {
   "cell_type": "code",
   "execution_count": 16,
   "metadata": {},
   "outputs": [
    {
     "name": "stdout",
     "output_type": "stream",
     "text": [
      "CPU times: user 9min 36s, sys: 3.05 s, total: 9min 39s\n",
      "Wall time: 9min 39s\n"
     ]
    }
   ],
   "source": [
    "%%time\n",
    "for t in tweets_filtered:\n",
    "    date = datetime.datetime.strptime(t.tweet_dict['created_at'],'%a %b %d %H:%M:%S +0000 %Y').date()\n",
    "    period_encoding = get_period_encoding_by_date(date, periods_encoding_dict)\n",
    "    potential_edges = list(combinations(t.users, 2))\n",
    "    for e in potential_edges:\n",
    "        if e[0] in usernames_to_id_dict and e[1] in usernames_to_id_dict:\n",
    "            interaction = Interaction(usernames_to_id_dict[e[0]],usernames_to_id_dict[e[1]])\n",
    "            if interaction in interaction_to_first_occ and (interaction_to_first_occ[interaction] is None or period_encoding < interaction_to_first_occ[interaction]):\n",
    "                interaction_to_first_occ[interaction] = period_encoding"
   ]
  },
  {
   "cell_type": "code",
   "execution_count": 17,
   "metadata": {},
   "outputs": [
    {
     "name": "stdout",
     "output_type": "stream",
     "text": [
      "Total interactions that have been captured by MMR graph data: 202328\n"
     ]
    }
   ],
   "source": [
    "print(\"Total interactions that have been captured by MMR graph data: %d\" %len([k for k in interaction_to_first_occ if not interaction_to_first_occ[k] is None]))"
   ]
  },
  {
   "cell_type": "code",
   "execution_count": 18,
   "metadata": {},
   "outputs": [],
   "source": [
    "interaction_to_first_occ = {k:interaction_to_first_occ[k] for k in interaction_to_first_occ if not interaction_to_first_occ[k] is None}"
   ]
  },
  {
   "cell_type": "code",
   "execution_count": 25,
   "metadata": {},
   "outputs": [],
   "source": [
    "# Let's filter the previously identified top interactions, to include exclusively the MUTUAL interactions\n",
    "# Indeed, ATM the interactions_df includes all potential interactions extracted by the tweets, not necessarily MUTUAL\n",
    "interactions_df = interactions_df[interactions_df.apply(lambda x: Interaction(x[\"Source_ID\"],x[\"Target_ID\"]) in interaction_to_first_occ, axis=1)]"
   ]
  },
  {
   "cell_type": "code",
   "execution_count": 31,
   "metadata": {},
   "outputs": [],
   "source": [
    "# Backup top interactions in DF to be used in graph visualization\n",
    "interactions_df[interactions_df[\"Count\"] >= 10].to_csv(os.path.join(data_dir, \"graph_visualization_top_interactions/\"+hashtag+\"_top_interactions_REAL.csv\"),\n",
    "                                                      columns=[\"Source\",\"Target\",\"Count\"], index=False)"
   ]
  },
  {
   "cell_type": "markdown",
   "metadata": {},
   "source": [
    "#### 3.1.1 Average Mutual Interaction Consistency (Total)"
   ]
  },
  {
   "cell_type": "code",
   "execution_count": 25,
   "metadata": {},
   "outputs": [],
   "source": [
    "def calculate_avg_mic_total(interactions_dict):\n",
    "    s = pd.Series([len(i.periods)*1.0/13 for i in interactions_dict], dtype=np.float32)\n",
    "    avg = s.describe()[\"mean\"]\n",
    "    return avg, pd.DataFrame(s, columns=[\"MIC Total\"])"
   ]
  },
  {
   "cell_type": "code",
   "execution_count": 26,
   "metadata": {},
   "outputs": [
    {
     "name": "stdout",
     "output_type": "stream",
     "text": [
      "Average Mutual Interaction Consistency (Total) for hashtag #Trump: 0.198227\n"
     ]
    }
   ],
   "source": [
    "avg_mic_total, mic_total_df = calculate_avg_mic_total(interaction_to_first_occ)\n",
    "mic_total_df.to_csv(\"../data/mic_data/mic_total_\"+hashtag+\".csv\", index=False)\n",
    "print(\"Average Mutual Interaction Consistency (Total) for hashtag %s: %.6f\" %(hashtag_full, avg_mic_total))"
   ]
  },
  {
   "cell_type": "markdown",
   "metadata": {},
   "source": [
    "#### 3.1.2 Average  Mutual Interaction Consistency (Before vs After)"
   ]
  },
  {
   "cell_type": "code",
   "execution_count": 27,
   "metadata": {},
   "outputs": [],
   "source": [
    "def calculate_avg_mic_before_after(interactions_dict):\n",
    "    mic_before_list = []\n",
    "    mic_after_list = []\n",
    "    for i in interactions_dict:\n",
    "        first_interaction = interactions_dict[i]\n",
    "        sorted_periods = sorted(i.periods)\n",
    "        periods_before = len(range(0,first_interaction))\n",
    "        mic_before = len([p for p in sorted_periods if p < first_interaction])*1.0/periods_before if periods_before!=0 else 0\n",
    "        mic_before_list.append(mic_before)\n",
    "        mic_after_list.append(len([p for p in sorted_periods if p >= first_interaction])*1.0/len(range(first_interaction,13)))\n",
    "    s_before = pd.Series(mic_before_list, name=\"MIC Before\", dtype=np.float32)\n",
    "    s_after = pd.Series(mic_after_list, name=\"MIC After\", dtype=np.float32)\n",
    "    avg_mic_before = s_before.describe()[\"mean\"]\n",
    "    avg_mic_after = s_after.describe()[\"mean\"]\n",
    "    return avg_mic_before, avg_mic_after, pd.concat([s_before, s_after], axis=1)"
   ]
  },
  {
   "cell_type": "code",
   "execution_count": 28,
   "metadata": {},
   "outputs": [
    {
     "name": "stdout",
     "output_type": "stream",
     "text": [
      "Average Mutual Interaction Consistency (Before) for hashtag #Trump: 0.140626\n",
      "Average Mutual Interaction Consistency (After) for hashtag #Trump: 0.487125\n"
     ]
    }
   ],
   "source": [
    "avg_mic_before, avg_mic_after, mic_before_after_df = calculate_avg_mic_before_after(interaction_to_first_occ)\n",
    "mic_before_after_df.to_csv(\"../data/mic_data/mic_before_after_\"+hashtag+\".csv\", index=False)\n",
    "print(\"Average Mutual Interaction Consistency (Before) for hashtag %s: %.6f\" %(hashtag_full, avg_mic_before))\n",
    "print(\"Average Mutual Interaction Consistency (After) for hashtag %s: %.6f\" %(hashtag_full, avg_mic_after))"
   ]
  },
  {
   "cell_type": "markdown",
   "metadata": {},
   "source": [
    "| Property | Value\n",
    "|---|---|\n",
    "| $\\langle MIC \\rangle_{T}$ | 0.198227\n",
    "| $\\langle MIC \\rangle_{B}$ | 0.140626\n",
    "| $\\langle MIC \\rangle_{A}$ | 0.487125"
   ]
  },
  {
   "cell_type": "markdown",
   "metadata": {},
   "source": [
    "I'd like to investigate also for how many interactions there has been an improvement in terms of bonding effect, meaning that the two users have been interacting more frequently than they had before because of the $H$ interaction:"
   ]
  },
  {
   "cell_type": "code",
   "execution_count": 29,
   "metadata": {},
   "outputs": [],
   "source": [
    "mic_before_after_df[\"Bonding\"] = mic_before_after_df[\"MIC After\"] > mic_before_after_df[\"MIC Before\"]"
   ]
  },
  {
   "cell_type": "code",
   "execution_count": 30,
   "metadata": {},
   "outputs": [
    {
     "data": {
      "text/plain": [
       "count     202328\n",
       "unique         2\n",
       "top         True\n",
       "freq      146802\n",
       "Name: Bonding, dtype: object"
      ]
     },
     "execution_count": 30,
     "metadata": {},
     "output_type": "execute_result"
    }
   ],
   "source": [
    "mic_before_after_df[\"Bonding\"].describe()"
   ]
  },
  {
   "cell_type": "markdown",
   "metadata": {},
   "source": [
    "### 3.2 Results Validation: Scientific Proof for Mutual Interaction Consistency\n",
    "The results from above seem to be very promising: mostly all interactions have experienced a higher communication consistency *after* the first $H$ interaction, meaning that the bonding effect of the hashtag is actually positive and it helps to strengthen the relationships in the long term. However, the way I compared the mutual interaction consistency before and after might hide a drawback and slightly bias the results in favor of the $\\langle MIC \\rangle_A$, because when calculating this metric, the period when the first interaction occurred has been also taken into account. This doesn't mean that the results so far are spoiled, but it's better to be safe than sorry and I may provide the final bulletproof to validate them.\n",
    "\n",
    "Therefore, let's have another similar approach: I want to measure *effectiveness* by comparing what can actually be compared. Similarly to what has already been formalized earlier, for each interaction we store an array $p$ of length 13, with indexes $i=0\\dots 12$ (each corresponding, in chronological order, to the 3 months periods ranging from September 2013 until December 2016) filled with $\\{0,1\\}$ where 1s tell whether such interaction occurred in period $p_i$. For each interaction, we also store the index of the period corresponding to the first $H$ interaction. This means that overall we're gonna have a **sparse matrix** $\\mathbf{P}$ where rows represent interactions and columns represent periods, i.e. each cell $p_{i,j}$ is a 0 or 1 telling whether interaction $i$ occurred in period $j$, and a vector $\\mathbf{F}$ where each cell $f_i$ indicates the period index where interaction $i$ has first involved $H$, ranging in $\\{0\\dots 12\\}$. An important prerequisite now for what I'm about to formulate, is that we filter out all those interactions where we don't have enough information, i.e. the first $H$ interaction occurred either in the very first ($f_i=0$) or last period ($f_i=12$). Then, for each interaction, we would be able to define $n_{bef}$ and $n_{aft}$, 2 numbers that indicate, respectively, the number of periods before and after the first $H$ interaction, and $n_{eff}=min(n_{bef}, n_{aft})$. By considering $n_{eff}$, we're basically setting a threshold for how many maximum consecutive periods have to be compared in terms of mutual interaction consistency, in order to reduce bias and avoid evaluating the consistency in the very long term. Then, for each interaction $i$, we would still calculate $\\langle MIC \\rangle_B$ and $\\langle MIC \\rangle_A$, but this time I restrict the calculation respectively only to the periods $n_{bef}$ and $n_{aft}$.\n",
    "\n",
    "According to this new model, $n_{eff}$ values range in $[1\\dots 6]$, so now for each $n_{eff}=1\\dots 6$, I want to count the raw number of interactions such that:\n",
    "1. $\\langle MIC \\rangle_B \\gt \\langle MIC \\rangle_A$\n",
    "2. $\\langle MIC \\rangle_B \\lt \\langle MIC \\rangle_A$\n",
    "3. $\\langle MIC \\rangle_B = \\langle MIC \\rangle_A$\n",
    "\n",
    "and plot the results. This would generate (up to) 6 plots per hashtag $H$."
   ]
  },
  {
   "cell_type": "code",
   "execution_count": 19,
   "metadata": {},
   "outputs": [],
   "source": [
    "# Create matrix P and vector F\n",
    "# It's easy to create a matrix of zeros and then fill the values where needed\n",
    "P = np.zeros(shape=(len(interaction_to_first_occ.keys()),13), dtype=np.bool)\n",
    "F = np.zeros(shape=(len(interaction_to_first_occ.keys()),1), dtype=np.uint8)"
   ]
  },
  {
   "cell_type": "code",
   "execution_count": 20,
   "metadata": {},
   "outputs": [
    {
     "name": "stdout",
     "output_type": "stream",
     "text": [
      "CPU times: user 612 ms, sys: 80 ms, total: 692 ms\n",
      "Wall time: 599 ms\n"
     ]
    }
   ],
   "source": [
    "%%time\n",
    "for i,interaction in enumerate(interaction_to_first_occ):\n",
    "    first = interaction_to_first_occ[interaction]\n",
    "    F[i] = first\n",
    "    for p in interaction.periods:\n",
    "        P[i][p] = True"
   ]
  },
  {
   "cell_type": "code",
   "execution_count": 21,
   "metadata": {},
   "outputs": [
    {
     "name": "stdout",
     "output_type": "stream",
     "text": [
      "Found 64198 rows with not enough data. Will not be considered when calculating MIC.\n"
     ]
    }
   ],
   "source": [
    "# Filter out rows i where F[i] == 0 or F[i] == 12\n",
    "rows_to_delete = [i for i,f in enumerate(F) if f == 0 or f == 12]\n",
    "print(\"Found %d rows with not enough data. Will not be considered when calculating MIC.\" %len(rows_to_delete))"
   ]
  },
  {
   "cell_type": "code",
   "execution_count": 22,
   "metadata": {},
   "outputs": [],
   "source": [
    "# Remove rows\n",
    "F = np.delete(F, rows_to_delete, axis=0)\n",
    "P = np.delete(P, rows_to_delete, axis=0)"
   ]
  },
  {
   "cell_type": "code",
   "execution_count": 23,
   "metadata": {},
   "outputs": [
    {
     "name": "stdout",
     "output_type": "stream",
     "text": [
      "CPU times: user 15.4 s, sys: 32 ms, total: 15.4 s\n",
      "Wall time: 15.4 s\n"
     ]
    }
   ],
   "source": [
    "%%time\n",
    "n_eff_values = {n_eff:np.zeros((3,), dtype=np.uint32) for n_eff in np.arange(1,7)}\n",
    "for index,i in enumerate(P):\n",
    "    first = F[index][0]\n",
    "    n_before = len(P[index][0:first])\n",
    "    n_after = len(P[index][first+1:13])\n",
    "    n_eff = np.min([n_before, n_after])\n",
    "    for n in np.arange(1,n_eff+1):\n",
    "        if first-n < 0 or first+n+1 > 13:\n",
    "            continue\n",
    "        assert len(P[index][first-n:first]) == len(P[index][first+1:first+n+1])\n",
    "        mic_before = np.mean(P[index][first-n:first])\n",
    "        mic_after = np.mean(P[index][first+1:first+n+1])\n",
    "        if mic_before > mic_after:\n",
    "            n_eff_values[n][0] += 1\n",
    "        elif mic_before < mic_after:\n",
    "            n_eff_values[n][2] += 1\n",
    "        else:\n",
    "            n_eff_values[n][1] += 1"
   ]
  },
  {
   "cell_type": "code",
   "execution_count": 24,
   "metadata": {},
   "outputs": [],
   "source": [
    "cm = plt.cm.get_cmap('YlOrRd')"
   ]
  },
  {
   "cell_type": "code",
   "execution_count": 25,
   "metadata": {},
   "outputs": [],
   "source": [
    "def plot_mic_by_n_eff(n_eff_dict, cm, hashtag, hashtag_full):\n",
    "    fig, axes = plt.subplots(2,3, sharex='col', sharey='row')\n",
    "    fig.set_size_inches(10,7)\n",
    "    fig.set_dpi(150)\n",
    "    fig.set_tight_layout(False)\n",
    "\n",
    "    for i,ax in enumerate(axes.reshape(-1)):\n",
    "        y = n_eff_dict[i+1]\n",
    "        x = range(len(y))\n",
    "        colors = cm(y / float(max(y)))\n",
    "        ax.bar(x,y, color=colors)\n",
    "        ax.set_title(r\"$n_{eff}=%d$\" %(i+1))\n",
    "        ax.set_xticks(x)\n",
    "        ax.set_xticklabels([r\"$\\langle MIC \\rangle_B > \\langle MIC \\rangle_A$\", r\"$\\langle MIC \\rangle_B=\\langle MIC \\rangle_A$\", r\"$\\langle MIC \\rangle_B < \\langle MIC \\rangle_A$\"], fontsize=6)\n",
    "        for x_text,y_text in enumerate(y):\n",
    "            ax.text(x_text,y_text+50, str(y_text), horizontalalignment='center', fontweight=\"bold\", color='grey')\n",
    "\n",
    "    fig.suptitle(r\"Distribution of $\\langle MIC \\rangle$ variations overtime with different time-windows (%s)\" %(hashtag_full))\n",
    "    plt.savefig(os.path.join(pictures_path,hashtag+\"_mic_effective.png\"))\n",
    "    plt.show()"
   ]
  },
  {
   "cell_type": "code",
   "execution_count": 28,
   "metadata": {},
   "outputs": [
    {
     "data": {
      "image/png": "[encoded data removed]",
      "text/plain": [
       "<Figure size 1500x1050 with 6 Axes>"
      ]
     },
     "metadata": {
      "needs_background": "light"
     },
     "output_type": "display_data"
    }
   ],
   "source": [
    "plot_mic_by_n_eff(n_eff_values, cm, hashtag, hashtag_full)"
   ]
  },
  {
   "cell_type": "code",
   "execution_count": 23,
   "metadata": {},
   "outputs": [],
   "source": [
    "total_communication_by_period = np.sum(P, axis=0)*1.0/len(P)\n",
    "np.savetxt(os.path.join(data_dir,hashtag+\"_fraction_of_communication_by_period.txt\"), total_communication_by_period, fmt=\"%.6f\")"
   ]
  },
  {
   "cell_type": "code",
   "execution_count": null,
   "metadata": {},
   "outputs": [],
   "source": []
  }
 ],
 "metadata": {
  "kernelspec": {
   "display_name": "Python [conda env:py27]",
   "language": "python",
   "name": "conda-env-py27-py"
  },
  "language_info": {
   "codemirror_mode": {
    "name": "ipython",
    "version": 2
   },
   "file_extension": ".py",
   "mimetype": "text/x-python",
   "name": "python",
   "nbconvert_exporter": "python",
   "pygments_lexer": "ipython2",
   "version": "2.7.15"
  }
 },
 "nbformat": 4,
 "nbformat_minor": 2
}
